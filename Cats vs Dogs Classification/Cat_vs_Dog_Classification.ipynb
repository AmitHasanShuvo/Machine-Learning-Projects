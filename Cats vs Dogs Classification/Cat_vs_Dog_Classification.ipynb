{
  "nbformat": 4,
  "nbformat_minor": 0,
  "metadata": {
    "colab": {
      "name": "Cat vs Dog Classification.ipynb",
      "provenance": [],
      "authorship_tag": "ABX9TyNru52FL0DRnXxErI9m05na",
      "include_colab_link": true
    },
    "kernelspec": {
      "name": "python3",
      "display_name": "Python 3"
    }
  },
  "cells": [
    {
      "cell_type": "markdown",
      "metadata": {
        "id": "view-in-github",
        "colab_type": "text"
      },
      "source": [
        "<a href=\"https://colab.research.google.com/github/AmitHasanShuvo/Machine-Learning-Projects/blob/master/Cat_vs_Dog_Classification.ipynb\" target=\"_parent\"><img src=\"https://colab.research.google.com/assets/colab-badge.svg\" alt=\"Open In Colab\"/></a>"
      ]
    },
    {
      "cell_type": "markdown",
      "metadata": {
        "id": "ycGYsCLb9hPY",
        "colab_type": "text"
      },
      "source": [
        "**Author: Kazi Amit Hasan** <br>\n",
        "Department of Computer Science & Engineering,<br>\n",
        "Rajshahi University of Engineering & Technology (RUET)<br>\n",
        "Website: https://amithasanshuvo.github.io/<br>\n",
        "Linkedin: https://www.linkedin.com/in/kazi-amit-hasan-514443140/<br>\n",
        "Email: kaziamithasan89@gmail.com<br>\n",
        "<hr>\n",
        "References: <br>\n",
        "1. https://github.com/lmoroney/dlaicourse/blob/master/Course%202%20-%20Part%202%20-%20Lesson%202%20-%20Notebook.ipynb <br>\n",
        "2. https://www.tensorflow.org/tutorials/images/classification\n",
        "\n",
        "\n",
        "Comments: "
      ]
    },
    {
      "cell_type": "code",
      "metadata": {
        "id": "lXeIxq5A2sfC",
        "colab_type": "code",
        "colab": {}
      },
      "source": [
        "import tensorflow as tf\n",
        "from tensorflow.keras.models import Sequential\n",
        "from tensorflow.keras.layers import Dense, Conv2D, Flatten, Dropout, MaxPooling2D\n",
        "from tensorflow.keras.preprocessing.image import ImageDataGenerator\n",
        "import os\n",
        "import numpy as np\n",
        "import matplotlib.pyplot as plt"
      ],
      "execution_count": 0,
      "outputs": []
    },
    {
      "cell_type": "code",
      "metadata": {
        "id": "7FZp47842z5a",
        "colab_type": "code",
        "outputId": "2445edad-ebbf-4101-9fe0-6898c946afab",
        "colab": {
          "base_uri": "https://localhost:8080/",
          "height": 51
        }
      },
      "source": [
        "#Loading the data\n",
        "\n",
        "_URL = 'https://storage.googleapis.com/mledu-datasets/cats_and_dogs_filtered.zip'\n",
        "\n",
        "path_to_zip = tf.keras.utils.get_file('cats_and_dogs.zip', origin=_URL, extract=True)\n",
        "\n",
        "PATH = os.path.join(os.path.dirname(path_to_zip), 'cats_and_dogs_filtered')"
      ],
      "execution_count": 0,
      "outputs": [
        {
          "output_type": "stream",
          "text": [
            "Downloading data from https://storage.googleapis.com/mledu-datasets/cats_and_dogs_filtered.zip\n",
            "68608000/68606236 [==============================] - 0s 0us/step\n"
          ],
          "name": "stdout"
        }
      ]
    },
    {
      "cell_type": "markdown",
      "metadata": {
        "id": "Ssf2cC9BNs-7",
        "colab_type": "text"
      },
      "source": [
        "The dataset has the following directory structure:\n",
        "\n",
        "---\n",
        "\n",
        "\n",
        "\n",
        "<pre>\n",
        "<b>cats_and_dogs_filtered</b>\n",
        "|__ <b>train</b>\n",
        "    |______ <b>cats</b>: [cat.0.jpg, cat.1.jpg, cat.2.jpg ....]\n",
        "    |______ <b>dogs</b>: [dog.0.jpg, dog.1.jpg, dog.2.jpg ...]\n",
        "|__ <b>validation</b>\n",
        "    |______ <b>cats</b>: [cat.2000.jpg, cat.2001.jpg, cat.2002.jpg ....]\n",
        "    |______ <b>dogs</b>: [dog.2000.jpg, dog.2001.jpg, dog.2002.jpg ...]\n",
        "</pre>\n",
        "\n",
        "Source: https://www.tensorflow.org/tutorials/images/classification"
      ]
    },
    {
      "cell_type": "code",
      "metadata": {
        "id": "rIqViesR22um",
        "colab_type": "code",
        "colab": {}
      },
      "source": [
        "#assigning variables with the proper file path for the training and validation set.\n",
        "\n",
        "train_dir = os.path.join(PATH, 'train')\n",
        "validation_dir = os.path.join(PATH, 'validation')"
      ],
      "execution_count": 0,
      "outputs": []
    },
    {
      "cell_type": "code",
      "metadata": {
        "id": "bOjItyRD29BO",
        "colab_type": "code",
        "colab": {}
      },
      "source": [
        "train_cats_dir = os.path.join(train_dir, 'cats')  # directory with our training cat pictures\n",
        "train_dogs_dir = os.path.join(train_dir, 'dogs')  # directory with our training dog pictures\n",
        "validation_cats_dir = os.path.join(validation_dir, 'cats')  # directory with our validation cat pictures\n",
        "validation_dogs_dir = os.path.join(validation_dir, 'dogs')  # directory with our validation dog pictures"
      ],
      "execution_count": 0,
      "outputs": []
    },
    {
      "cell_type": "code",
      "metadata": {
        "id": "jXdFw9ov2_jI",
        "colab_type": "code",
        "colab": {}
      },
      "source": [
        "num_cats_tr = len(os.listdir(train_cats_dir))\n",
        "num_dogs_tr = len(os.listdir(train_dogs_dir))\n",
        "\n",
        "num_cats_val = len(os.listdir(validation_cats_dir))\n",
        "num_dogs_val = len(os.listdir(validation_dogs_dir))\n",
        "\n",
        "total_train = num_cats_tr + num_dogs_tr\n",
        "total_val = num_cats_val + num_dogs_val"
      ],
      "execution_count": 0,
      "outputs": []
    },
    {
      "cell_type": "code",
      "metadata": {
        "id": "x6500fY33EOL",
        "colab_type": "code",
        "outputId": "cb632ade-481a-4624-c6c3-22dcd0397d36",
        "colab": {
          "base_uri": "https://localhost:8080/",
          "height": 136
        }
      },
      "source": [
        "#Cats and dogs in training and validation set\n",
        "\n",
        "print('total training cat images:', num_cats_tr)\n",
        "print('total training dog images:', num_dogs_tr)\n",
        "\n",
        "print('total validation cat images:', num_cats_val)\n",
        "print('total validation dog images:', num_dogs_val)\n",
        "print(\"--\")\n",
        "print(\"Total training images:\", total_train)\n",
        "print(\"Total validation images:\", total_val)"
      ],
      "execution_count": 0,
      "outputs": [
        {
          "output_type": "stream",
          "text": [
            "total training cat images: 1000\n",
            "total training dog images: 1000\n",
            "total validation cat images: 500\n",
            "total validation dog images: 500\n",
            "--\n",
            "Total training images: 2000\n",
            "Total validation images: 1000\n"
          ],
          "name": "stdout"
        }
      ]
    },
    {
      "cell_type": "code",
      "metadata": {
        "id": "QgjKPi2N3paT",
        "colab_type": "code",
        "colab": {}
      },
      "source": [
        "import tensorflow as tf"
      ],
      "execution_count": 0,
      "outputs": []
    },
    {
      "cell_type": "code",
      "metadata": {
        "id": "vvbAq8NM3syp",
        "colab_type": "code",
        "colab": {}
      },
      "source": [
        "model = tf.keras.models.Sequential([\n",
        "    # Note the input shape is the desired size of the image 150x150 with 3 bytes color\n",
        "    tf.keras.layers.Conv2D(16, (3,3), activation='relu', input_shape=(150, 150, 3)),\n",
        "    tf.keras.layers.MaxPooling2D(2,2),\n",
        "    tf.keras.layers.Conv2D(32, (3,3), activation='relu'),\n",
        "    tf.keras.layers.MaxPooling2D(2,2), \n",
        "    tf.keras.layers.Conv2D(64, (3,3), activation='relu'), \n",
        "    tf.keras.layers.MaxPooling2D(2,2),\n",
        "    # Flatten the results to feed into a DNN\n",
        "    tf.keras.layers.Flatten(), \n",
        "    # 512 neuron hidden layer\n",
        "    tf.keras.layers.Dense(512, activation='relu'), \n",
        "    # Only 1 output neuron. It will contain a value from 0-1 where 0 for 1 class ('cats') and 1 for the other ('dogs')\n",
        "    tf.keras.layers.Dense(1, activation='sigmoid')  \n",
        "])"
      ],
      "execution_count": 0,
      "outputs": []
    },
    {
      "cell_type": "code",
      "metadata": {
        "id": "AFp8quVI3vcr",
        "colab_type": "code",
        "outputId": "b3300181-0318-4c3f-ebd9-197bc9f256ad",
        "colab": {
          "base_uri": "https://localhost:8080/",
          "height": 459
        }
      },
      "source": [
        "model.summary()"
      ],
      "execution_count": 0,
      "outputs": [
        {
          "output_type": "stream",
          "text": [
            "Model: \"sequential\"\n",
            "_________________________________________________________________\n",
            "Layer (type)                 Output Shape              Param #   \n",
            "=================================================================\n",
            "conv2d (Conv2D)              (None, 148, 148, 16)      448       \n",
            "_________________________________________________________________\n",
            "max_pooling2d (MaxPooling2D) (None, 74, 74, 16)        0         \n",
            "_________________________________________________________________\n",
            "conv2d_1 (Conv2D)            (None, 72, 72, 32)        4640      \n",
            "_________________________________________________________________\n",
            "max_pooling2d_1 (MaxPooling2 (None, 36, 36, 32)        0         \n",
            "_________________________________________________________________\n",
            "conv2d_2 (Conv2D)            (None, 34, 34, 64)        18496     \n",
            "_________________________________________________________________\n",
            "max_pooling2d_2 (MaxPooling2 (None, 17, 17, 64)        0         \n",
            "_________________________________________________________________\n",
            "flatten (Flatten)            (None, 18496)             0         \n",
            "_________________________________________________________________\n",
            "dense (Dense)                (None, 512)               9470464   \n",
            "_________________________________________________________________\n",
            "dense_1 (Dense)              (None, 1)                 513       \n",
            "=================================================================\n",
            "Total params: 9,494,561\n",
            "Trainable params: 9,494,561\n",
            "Non-trainable params: 0\n",
            "_________________________________________________________________\n"
          ],
          "name": "stdout"
        }
      ]
    },
    {
      "cell_type": "code",
      "metadata": {
        "id": "4sKH68He3yD9",
        "colab_type": "code",
        "colab": {}
      },
      "source": [
        "from tensorflow.keras.optimizers import RMSprop\n",
        "\n",
        "model.compile(optimizer=RMSprop(lr=0.001),\n",
        "              loss='binary_crossentropy',\n",
        "              metrics = ['accuracy'])"
      ],
      "execution_count": 0,
      "outputs": []
    },
    {
      "cell_type": "code",
      "metadata": {
        "id": "sTW6Ckmr34ci",
        "colab_type": "code",
        "outputId": "1422148e-e2e0-48f0-e996-b1a3aca5ca21",
        "colab": {
          "base_uri": "https://localhost:8080/",
          "height": 51
        }
      },
      "source": [
        "# Data Preprocessing\n",
        "\n",
        "from tensorflow.keras.preprocessing.image import ImageDataGenerator\n",
        "\n",
        "# All images will be rescaled by 1./255.\n",
        "train_datagen = ImageDataGenerator( rescale = 1.0/255. )\n",
        "test_datagen  = ImageDataGenerator( rescale = 1.0/255. )\n",
        "\n",
        "# --------------------\n",
        "# Flow training images in batches of 20 using train_datagen generator\n",
        "# --------------------\n",
        "train_generator = train_datagen.flow_from_directory(train_dir,\n",
        "                                                    batch_size=20,\n",
        "                                                    class_mode='binary',\n",
        "                                                    target_size=(150, 150))     \n",
        "# --------------------\n",
        "# Flow validation images in batches of 20 using test_datagen generator\n",
        "# --------------------\n",
        "validation_generator =  test_datagen.flow_from_directory(validation_dir,\n",
        "                                                         batch_size=20,\n",
        "                                                         class_mode  = 'binary',\n",
        "                                                         target_size = (150, 150))"
      ],
      "execution_count": 0,
      "outputs": [
        {
          "output_type": "stream",
          "text": [
            "Found 2000 images belonging to 2 classes.\n",
            "Found 1000 images belonging to 2 classes.\n"
          ],
          "name": "stdout"
        }
      ]
    },
    {
      "cell_type": "code",
      "metadata": {
        "id": "OF75OXic3-eM",
        "colab_type": "code",
        "outputId": "f53b08f4-ce14-4f43-9ef7-3d79bec1b16b",
        "colab": {
          "base_uri": "https://localhost:8080/",
          "height": 527
        }
      },
      "source": [
        "history = model.fit(train_generator,\n",
        "                              validation_data=validation_generator,\n",
        "                              steps_per_epoch=100,\n",
        "                              epochs=15,\n",
        "                              validation_steps=50,\n",
        "                              verbose=2)"
      ],
      "execution_count": 0,
      "outputs": [
        {
          "output_type": "stream",
          "text": [
            "Epoch 1/15\n",
            "100/100 - 55s - loss: 0.7549 - accuracy: 0.5530 - val_loss: 0.6713 - val_accuracy: 0.5790\n",
            "Epoch 2/15\n",
            "100/100 - 55s - loss: 0.6328 - accuracy: 0.6605 - val_loss: 0.6110 - val_accuracy: 0.6890\n",
            "Epoch 3/15\n",
            "100/100 - 55s - loss: 0.5402 - accuracy: 0.7365 - val_loss: 0.6424 - val_accuracy: 0.6810\n",
            "Epoch 4/15\n",
            "100/100 - 55s - loss: 0.4456 - accuracy: 0.7895 - val_loss: 0.5615 - val_accuracy: 0.7220\n",
            "Epoch 5/15\n",
            "100/100 - 55s - loss: 0.3416 - accuracy: 0.8435 - val_loss: 0.7149 - val_accuracy: 0.6780\n",
            "Epoch 6/15\n",
            "100/100 - 55s - loss: 0.2633 - accuracy: 0.8840 - val_loss: 0.7990 - val_accuracy: 0.7140\n",
            "Epoch 7/15\n",
            "100/100 - 55s - loss: 0.1926 - accuracy: 0.9265 - val_loss: 0.7049 - val_accuracy: 0.7250\n",
            "Epoch 8/15\n",
            "100/100 - 55s - loss: 0.1251 - accuracy: 0.9560 - val_loss: 0.9554 - val_accuracy: 0.7080\n",
            "Epoch 9/15\n",
            "100/100 - 55s - loss: 0.0899 - accuracy: 0.9680 - val_loss: 1.0694 - val_accuracy: 0.7180\n",
            "Epoch 10/15\n",
            "100/100 - 55s - loss: 0.0689 - accuracy: 0.9815 - val_loss: 1.3938 - val_accuracy: 0.7170\n",
            "Epoch 11/15\n",
            "100/100 - 55s - loss: 0.0570 - accuracy: 0.9810 - val_loss: 1.2608 - val_accuracy: 0.7290\n",
            "Epoch 12/15\n",
            "100/100 - 55s - loss: 0.0376 - accuracy: 0.9905 - val_loss: 2.1510 - val_accuracy: 0.7170\n",
            "Epoch 13/15\n",
            "100/100 - 55s - loss: 0.0357 - accuracy: 0.9870 - val_loss: 1.7511 - val_accuracy: 0.7250\n",
            "Epoch 14/15\n",
            "100/100 - 55s - loss: 0.0386 - accuracy: 0.9890 - val_loss: 1.6353 - val_accuracy: 0.7060\n",
            "Epoch 15/15\n",
            "100/100 - 55s - loss: 0.0361 - accuracy: 0.9915 - val_loss: 1.9094 - val_accuracy: 0.7240\n"
          ],
          "name": "stdout"
        }
      ]
    },
    {
      "cell_type": "code",
      "metadata": {
        "id": "lMQUru0_4FMd",
        "colab_type": "code",
        "outputId": "6ad6ed72-4b09-412d-df23-b7910261aeb3",
        "colab": {
          "base_uri": "https://localhost:8080/",
          "height": 590
        }
      },
      "source": [
        "#-----------------------------------------------------------\n",
        "# Retrieve a list of list results on training and test data\n",
        "# sets for each training epoch\n",
        "#-----------------------------------------------------------\n",
        "acc      = history.history[     'accuracy' ]\n",
        "val_acc  = history.history[ 'val_accuracy' ]\n",
        "loss     = history.history[    'loss' ]\n",
        "val_loss = history.history['val_loss' ]\n",
        "\n",
        "epochs   = range(len(acc)) # Get number of epochs\n",
        "\n",
        "#------------------------------------------------\n",
        "# Plot training and validation accuracy per epoch\n",
        "#------------------------------------------------\n",
        "plt.plot  ( epochs,     acc,label='training acc' )\n",
        "plt.plot  ( epochs, val_acc ,label ='validation acc')\n",
        "plt.title ('Training and validation accuracy')\n",
        "plt.xlabel('Epochs')\n",
        "plt.ylabel('Accuracy')\n",
        "plt.legend(loc='upper right')\n",
        "\n",
        "plt.figure()\n",
        "\n",
        "#------------------------------------------------\n",
        "# Plot training and validation loss per epoch\n",
        "#------------------------------------------------\n",
        "plt.plot  ( epochs,     loss, label='training loss' )\n",
        "plt.plot  ( epochs, val_loss ,label ='validation loss')\n",
        "plt.xlabel('Epochs')\n",
        "plt.ylabel('Accuracy')\n",
        "plt.legend(loc='upper right')\n",
        "\n",
        "\n",
        "\n",
        "plt.title ('Training and validation loss'   )"
      ],
      "execution_count": 0,
      "outputs": [
        {
          "output_type": "execute_result",
          "data": {
            "text/plain": [
              "Text(0.5, 1.0, 'Training and validation loss')"
            ]
          },
          "metadata": {
            "tags": []
          },
          "execution_count": 14
        },
        {
          "output_type": "display_data",
          "data": {
            "image/png": "[encoded data removed]",
            "text/plain": [
              "<Figure size 432x288 with 1 Axes>"
            ]
          },
          "metadata": {
            "tags": [],
            "needs_background": "light"
          }
        },
        {
          "output_type": "display_data",
          "data": {
            "image/png": "[encoded data removed]",
            "text/plain": [
              "<Figure size 432x288 with 1 Axes>"
            ]
          },
          "metadata": {
            "tags": [],
            "needs_background": "light"
          }
        }
      ]
    },
    {
      "cell_type": "markdown",
      "metadata": {
        "id": "ttcvlA08DYmq",
        "colab_type": "text"
      },
      "source": [
        "It's clear from the plots that data is **overfitted** which means that it can do very well with images it has seen before, but not so well with images it hasn't.\n",
        "\n",
        "\n",
        "**Solution: Image Augementation**"
      ]
    },
    {
      "cell_type": "code",
      "metadata": {
        "id": "RblkC9VF-iEp",
        "colab_type": "code",
        "colab": {}
      },
      "source": [
        "# Updated to do image augmentation\n",
        "train_datagen = ImageDataGenerator(\n",
        "      rotation_range=40,      # rotation_range is a value in degrees (0–180), a range within which to randomly rotate pictures\n",
        "      width_shift_range=0.2,  # width_shift and height_shift are ranges (as \n",
        "                              # a fraction of total width or height) within which to randomly translate\n",
        "                              # pictures vertically or horizontally.\n",
        "      height_shift_range=0.2, \n",
        "      shear_range=0.2,        # shear_range is for randomly applying shearing transformations.\n",
        "      zoom_range=0.2,         # zoom_range is for randomly zooming inside pictures.\n",
        "      horizontal_flip=True,    # horizontal_flip is for randomly flipping half of the images horizontally. \n",
        "                              #T his is relevant when there are no assumptions of horizontal assymmetry\n",
        "      fill_mode='nearest')     # fill_mode is the strategy used for filling in newly created pixels, \n",
        "                              # which can appear after a rotation or a width/height shift."
      ],
      "execution_count": 0,
      "outputs": []
    },
    {
      "cell_type": "code",
      "metadata": {
        "id": "C6WkcEiW-rGF",
        "colab_type": "code",
        "outputId": "9e4a4e1e-25c7-408c-bbc4-acd8c1f3bce7",
        "colab": {
          "base_uri": "https://localhost:8080/",
          "height": 748
        }
      },
      "source": [
        "!wget --no-check-certificate \\\n",
        "    https://storage.googleapis.com/mledu-datasets/cats_and_dogs_filtered.zip \\\n",
        "    -O /tmp/cats_and_dogs_filtered.zip\n",
        "  \n",
        "import os\n",
        "import zipfile\n",
        "import tensorflow as tf\n",
        "from tensorflow.keras.optimizers import RMSprop\n",
        "from tensorflow.keras.preprocessing.image import ImageDataGenerator\n",
        "\n",
        "local_zip = '/tmp/cats_and_dogs_filtered.zip'\n",
        "zip_ref = zipfile.ZipFile(local_zip, 'r')\n",
        "zip_ref.extractall('/tmp')\n",
        "zip_ref.close()\n",
        "\n",
        "base_dir = '/tmp/cats_and_dogs_filtered'\n",
        "train_dir = os.path.join(base_dir, 'train')\n",
        "validation_dir = os.path.join(base_dir, 'validation')\n",
        "\n",
        "# Directory with our training cat pictures\n",
        "train_cats_dir = os.path.join(train_dir, 'cats')\n",
        "\n",
        "# Directory with our training dog pictures\n",
        "train_dogs_dir = os.path.join(train_dir, 'dogs')\n",
        "\n",
        "# Directory with our validation cat pictures\n",
        "validation_cats_dir = os.path.join(validation_dir, 'cats')\n",
        "\n",
        "# Directory with our validation dog pictures\n",
        "validation_dogs_dir = os.path.join(validation_dir, 'dogs')\n",
        "\n",
        "model = tf.keras.models.Sequential([\n",
        "    tf.keras.layers.Conv2D(32, (3,3), activation='relu', input_shape=(150, 150, 3)),\n",
        "    tf.keras.layers.MaxPooling2D(2, 2),\n",
        "    tf.keras.layers.Conv2D(64, (3,3), activation='relu'),\n",
        "    tf.keras.layers.MaxPooling2D(2,2),\n",
        "    tf.keras.layers.Conv2D(128, (3,3), activation='relu'),\n",
        "    tf.keras.layers.MaxPooling2D(2,2),\n",
        "    tf.keras.layers.Conv2D(128, (3,3), activation='relu'),\n",
        "    tf.keras.layers.MaxPooling2D(2,2),\n",
        "    tf.keras.layers.Flatten(),\n",
        "    tf.keras.layers.Dense(512, activation='relu'),\n",
        "    tf.keras.layers.Dense(1, activation='sigmoid')\n",
        "])\n",
        "\n",
        "model.compile(loss='binary_crossentropy',\n",
        "              optimizer=RMSprop(lr=1e-4),\n",
        "              metrics=['accuracy'])\n",
        "\n",
        "# This code has changed. Now instead of the ImageGenerator just rescaling\n",
        "# the image, we also rotate and do other operations\n",
        "# Updated to do image augmentation\n",
        "train_datagen = ImageDataGenerator(\n",
        "      rescale=1./255,\n",
        "      rotation_range=40,\n",
        "      width_shift_range=0.2,\n",
        "      height_shift_range=0.2,\n",
        "      shear_range=0.2,\n",
        "      zoom_range=0.2,\n",
        "      horizontal_flip=True,\n",
        "      fill_mode='nearest')\n",
        "\n",
        "test_datagen = ImageDataGenerator(rescale=1./255)\n",
        "\n",
        "# Flow training images in batches of 20 using train_datagen generator\n",
        "train_generator = train_datagen.flow_from_directory(\n",
        "        train_dir,  # This is the source directory for training images\n",
        "        target_size=(150, 150),  # All images will be resized to 150x150\n",
        "        batch_size=20,\n",
        "        # Since we use binary_crossentropy loss, we need binary labels\n",
        "        class_mode='binary')\n",
        "\n",
        "# Flow validation images in batches of 20 using test_datagen generator\n",
        "validation_generator = test_datagen.flow_from_directory(\n",
        "        validation_dir,\n",
        "        target_size=(150, 150),\n",
        "        batch_size=20,\n",
        "        class_mode='binary')\n",
        "\n",
        "history = model.fit(\n",
        "      train_generator,\n",
        "      steps_per_epoch=100,  # 2000 images = batch_size * steps\n",
        "      epochs=15,\n",
        "      validation_data=validation_generator,\n",
        "      validation_steps=50,  # 1000 images = batch_size * steps\n",
        "      verbose=2)"
      ],
      "execution_count": 0,
      "outputs": [
        {
          "output_type": "stream",
          "text": [
            "--2020-05-24 19:19:02--  https://storage.googleapis.com/mledu-datasets/cats_and_dogs_filtered.zip\n",
            "Resolving storage.googleapis.com (storage.googleapis.com)... 173.194.216.128, 2607:f8b0:400c:c02::80\n",
            "Connecting to storage.googleapis.com (storage.googleapis.com)|173.194.216.128|:443... connected.\n",
            "HTTP request sent, awaiting response... 200 OK\n",
            "Length: 68606236 (65M) [application/zip]\n",
            "Saving to: ‘/tmp/cats_and_dogs_filtered.zip’\n",
            "\n",
            "\r          /tmp/cats   0%[                    ]       0  --.-KB/s               \r         /tmp/cats_  62%[===========>        ]  40.58M   203MB/s               \r/tmp/cats_and_dogs_ 100%[===================>]  65.43M   243MB/s    in 0.3s    \n",
            "\n",
            "2020-05-24 19:19:02 (243 MB/s) - ‘/tmp/cats_and_dogs_filtered.zip’ saved [68606236/68606236]\n",
            "\n",
            "Found 2000 images belonging to 2 classes.\n",
            "Found 1000 images belonging to 2 classes.\n",
            "Epoch 1/15\n",
            "100/100 - 110s - loss: 0.6960 - accuracy: 0.5105 - val_loss: 0.6772 - val_accuracy: 0.5390\n",
            "Epoch 2/15\n",
            "100/100 - 110s - loss: 0.6807 - accuracy: 0.5595 - val_loss: 0.6518 - val_accuracy: 0.6530\n",
            "Epoch 3/15\n",
            "100/100 - 110s - loss: 0.6628 - accuracy: 0.6015 - val_loss: 0.6361 - val_accuracy: 0.6010\n",
            "Epoch 4/15\n",
            "100/100 - 110s - loss: 0.6517 - accuracy: 0.6030 - val_loss: 0.6068 - val_accuracy: 0.6740\n",
            "Epoch 5/15\n",
            "100/100 - 110s - loss: 0.6284 - accuracy: 0.6500 - val_loss: 0.6555 - val_accuracy: 0.6070\n",
            "Epoch 6/15\n",
            "100/100 - 110s - loss: 0.6265 - accuracy: 0.6380 - val_loss: 0.6033 - val_accuracy: 0.6530\n",
            "Epoch 7/15\n",
            "100/100 - 110s - loss: 0.6098 - accuracy: 0.6630 - val_loss: 0.6371 - val_accuracy: 0.6450\n",
            "Epoch 8/15\n",
            "100/100 - 115s - loss: 0.6061 - accuracy: 0.6670 - val_loss: 0.5672 - val_accuracy: 0.7080\n",
            "Epoch 9/15\n",
            "100/100 - 113s - loss: 0.5869 - accuracy: 0.6930 - val_loss: 0.5399 - val_accuracy: 0.7270\n",
            "Epoch 10/15\n",
            "100/100 - 113s - loss: 0.5870 - accuracy: 0.6900 - val_loss: 0.5485 - val_accuracy: 0.7140\n",
            "Epoch 11/15\n",
            "100/100 - 113s - loss: 0.5764 - accuracy: 0.6995 - val_loss: 0.5587 - val_accuracy: 0.7110\n",
            "Epoch 12/15\n",
            "100/100 - 113s - loss: 0.5802 - accuracy: 0.6820 - val_loss: 0.5246 - val_accuracy: 0.7300\n",
            "Epoch 13/15\n",
            "100/100 - 116s - loss: 0.5543 - accuracy: 0.7255 - val_loss: 0.5970 - val_accuracy: 0.6920\n",
            "Epoch 14/15\n",
            "100/100 - 111s - loss: 0.5723 - accuracy: 0.6935 - val_loss: 0.5222 - val_accuracy: 0.7400\n",
            "Epoch 15/15\n",
            "100/100 - 111s - loss: 0.5574 - accuracy: 0.7100 - val_loss: 0.5613 - val_accuracy: 0.6970\n"
          ],
          "name": "stdout"
        }
      ]
    },
    {
      "cell_type": "code",
      "metadata": {
        "id": "H56-1mK4-0e6",
        "colab_type": "code",
        "outputId": "e001d5c1-e111-40e6-8139-8ac8c16d0649",
        "colab": {
          "base_uri": "https://localhost:8080/",
          "height": 590
        }
      },
      "source": [
        "#-----------------------------------------------------------\n",
        "# Retrieve a list of list results on training and test data\n",
        "# sets for each training epoch\n",
        "#-----------------------------------------------------------\n",
        "acc      = history.history[     'accuracy' ]\n",
        "val_acc  = history.history[ 'val_accuracy' ]\n",
        "loss     = history.history[    'loss' ]\n",
        "val_loss = history.history['val_loss' ]\n",
        "\n",
        "epochs   = range(len(acc)) # Get number of epochs\n",
        "\n",
        "#------------------------------------------------\n",
        "# Plot training and validation accuracy per epoch\n",
        "#------------------------------------------------\n",
        "plt.plot  ( epochs,     acc,label='training acc' )\n",
        "plt.plot  ( epochs, val_acc ,label ='validation acc')\n",
        "plt.title ('Training and validation accuracy')\n",
        "plt.xlabel('Epochs')\n",
        "plt.ylabel('Accuracy')\n",
        "plt.legend(loc='upper right')\n",
        "\n",
        "plt.figure()\n",
        "\n",
        "#------------------------------------------------\n",
        "# Plot training and validation loss per epoch\n",
        "#------------------------------------------------\n",
        "plt.plot  ( epochs,     loss, label='training loss' )\n",
        "plt.plot  ( epochs, val_loss ,label ='validation loss')\n",
        "plt.xlabel('Epochs')\n",
        "plt.ylabel('Accuracy')\n",
        "plt.legend(loc='upper right')\n",
        "\n",
        "\n",
        "\n",
        "plt.title ('Training and validation loss'   )"
      ],
      "execution_count": 0,
      "outputs": [
        {
          "output_type": "execute_result",
          "data": {
            "text/plain": [
              "Text(0.5, 1.0, 'Training and validation loss')"
            ]
          },
          "metadata": {
            "tags": []
          },
          "execution_count": 19
        },
        {
          "output_type": "display_data",
          "data": {
            "image/png": "[encoded data removed]",
            "text/plain": [
              "<Figure size 432x288 with 1 Axes>"
            ]
          },
          "metadata": {
            "tags": [],
            "needs_background": "light"
          }
        },
        {
          "output_type": "display_data",
          "data": {
            "image/png": "[encoded data removed]",
            "text/plain": [
              "<Figure size 432x288 with 1 Axes>"
            ]
          },
          "metadata": {
            "tags": [],
            "needs_background": "light"
          }
        }
      ]
    },
    {
      "cell_type": "markdown",
      "metadata": {
        "id": "cAZMq_7MOkyu",
        "colab_type": "text"
      },
      "source": [
        "Lil bit better but not so good."
      ]
    },
    {
      "cell_type": "code",
      "metadata": {
        "id": "qFpy5gkfOnpV",
        "colab_type": "code",
        "colab": {
          "base_uri": "https://localhost:8080/",
          "height": 748
        },
        "outputId": "4f680c52-c617-46cf-b935-578abe58a8a9"
      },
      "source": [
        "!wget --no-check-certificate \\\n",
        "    https://storage.googleapis.com/mledu-datasets/cats_and_dogs_filtered.zip \\\n",
        "    -O /tmp/cats_and_dogs_filtered.zip\n",
        "  \n",
        "import os\n",
        "import zipfile\n",
        "import tensorflow as tf\n",
        "from tensorflow.keras.optimizers import RMSprop\n",
        "from tensorflow.keras.preprocessing.image import ImageDataGenerator\n",
        "\n",
        "local_zip = '/tmp/cats_and_dogs_filtered.zip'\n",
        "zip_ref = zipfile.ZipFile(local_zip, 'r')\n",
        "zip_ref.extractall('/tmp')\n",
        "zip_ref.close()\n",
        "\n",
        "base_dir = '/tmp/cats_and_dogs_filtered'\n",
        "train_dir = os.path.join(base_dir, 'train')\n",
        "validation_dir = os.path.join(base_dir, 'validation')\n",
        "\n",
        "# Directory with our training cat pictures\n",
        "train_cats_dir = os.path.join(train_dir, 'cats')\n",
        "\n",
        "# Directory with our training dog pictures\n",
        "train_dogs_dir = os.path.join(train_dir, 'dogs')\n",
        "\n",
        "# Directory with our validation cat pictures\n",
        "validation_cats_dir = os.path.join(validation_dir, 'cats')\n",
        "\n",
        "# Directory with our validation dog pictures\n",
        "validation_dogs_dir = os.path.join(validation_dir, 'dogs')\n",
        "\n",
        "model = tf.keras.models.Sequential([\n",
        "    tf.keras.layers.Conv2D(32, (3,3), activation='relu', input_shape=(150, 150, 3)),\n",
        "    tf.keras.layers.MaxPooling2D(2, 2),\n",
        "    tf.keras.layers.Conv2D(64, (3,3), activation='relu'),\n",
        "    tf.keras.layers.MaxPooling2D(2,2),\n",
        "    tf.keras.layers.Conv2D(128, (3,3), activation='relu'),\n",
        "    tf.keras.layers.MaxPooling2D(2,2),\n",
        "    tf.keras.layers.Conv2D(128, (3,3), activation='relu'),\n",
        "    tf.keras.layers.MaxPooling2D(2,2),\n",
        "    tf.keras.layers.Dropout(0.5),\n",
        "    tf.keras.layers.Flatten(),\n",
        "    tf.keras.layers.Dense(512, activation='relu'),\n",
        "    tf.keras.layers.Dense(1, activation='sigmoid')\n",
        "])\n",
        "\n",
        "model.compile(loss='binary_crossentropy',\n",
        "              optimizer=RMSprop(lr=1e-4),\n",
        "              metrics=['accuracy'])\n",
        "\n",
        "# This code has changed. Now instead of the ImageGenerator just rescaling\n",
        "# the image, we also rotate and do other operations\n",
        "# Updated to do image augmentation\n",
        "train_datagen = ImageDataGenerator(\n",
        "      rescale=1./255,\n",
        "      rotation_range=40,\n",
        "      width_shift_range=0.2,\n",
        "      height_shift_range=0.2,\n",
        "      shear_range=0.2,\n",
        "      zoom_range=0.2,\n",
        "      horizontal_flip=True,\n",
        "      fill_mode='nearest')\n",
        "\n",
        "test_datagen = ImageDataGenerator(rescale=1./255)\n",
        "\n",
        "# Flow training images in batches of 20 using train_datagen generator\n",
        "train_generator = train_datagen.flow_from_directory(\n",
        "        train_dir,  # This is the source directory for training images\n",
        "        target_size=(150, 150),  # All images will be resized to 150x150\n",
        "        batch_size=20,\n",
        "        # Since we use binary_crossentropy loss, we need binary labels\n",
        "        class_mode='binary')\n",
        "\n",
        "# Flow validation images in batches of 20 using test_datagen generator\n",
        "validation_generator = test_datagen.flow_from_directory(\n",
        "        validation_dir,\n",
        "        target_size=(150, 150),\n",
        "        batch_size=20,\n",
        "        class_mode='binary')\n",
        "\n",
        "history = model.fit(\n",
        "      train_generator,\n",
        "      steps_per_epoch=100,  # 2000 images = batch_size * steps\n",
        "      epochs=15,\n",
        "      validation_data=validation_generator,\n",
        "      validation_steps=50,  # 1000 images = batch_size * steps\n",
        "      verbose=2)"
      ],
      "execution_count": 2,
      "outputs": [
        {
          "output_type": "stream",
          "text": [
            "--2020-05-25 20:05:40--  https://storage.googleapis.com/mledu-datasets/cats_and_dogs_filtered.zip\n",
            "Resolving storage.googleapis.com (storage.googleapis.com)... 108.177.126.128, 2a00:1450:4013:c01::80\n",
            "Connecting to storage.googleapis.com (storage.googleapis.com)|108.177.126.128|:443... connected.\n",
            "HTTP request sent, awaiting response... 200 OK\n",
            "Length: 68606236 (65M) [application/zip]\n",
            "Saving to: ‘/tmp/cats_and_dogs_filtered.zip’\n",
            "\n",
            "\r          /tmp/cats   0%[                    ]       0  --.-KB/s               \r/tmp/cats_and_dogs_ 100%[===================>]  65.43M   354MB/s    in 0.2s    \n",
            "\n",
            "2020-05-25 20:05:40 (354 MB/s) - ‘/tmp/cats_and_dogs_filtered.zip’ saved [68606236/68606236]\n",
            "\n",
            "Found 2000 images belonging to 2 classes.\n",
            "Found 1000 images belonging to 2 classes.\n",
            "Epoch 1/15\n",
            "100/100 - 100s - loss: 0.6939 - accuracy: 0.5080 - val_loss: 0.6829 - val_accuracy: 0.5100\n",
            "Epoch 2/15\n",
            "100/100 - 100s - loss: 0.6831 - accuracy: 0.5495 - val_loss: 0.6663 - val_accuracy: 0.5900\n",
            "Epoch 3/15\n",
            "100/100 - 100s - loss: 0.6741 - accuracy: 0.5670 - val_loss: 0.6739 - val_accuracy: 0.5540\n",
            "Epoch 4/15\n",
            "100/100 - 99s - loss: 0.6635 - accuracy: 0.5930 - val_loss: 0.6287 - val_accuracy: 0.6410\n",
            "Epoch 5/15\n",
            "100/100 - 99s - loss: 0.6503 - accuracy: 0.6065 - val_loss: 0.6099 - val_accuracy: 0.6540\n",
            "Epoch 6/15\n",
            "100/100 - 99s - loss: 0.6408 - accuracy: 0.6250 - val_loss: 0.5988 - val_accuracy: 0.6660\n",
            "Epoch 7/15\n",
            "100/100 - 99s - loss: 0.6193 - accuracy: 0.6660 - val_loss: 0.5896 - val_accuracy: 0.6920\n",
            "Epoch 8/15\n",
            "100/100 - 100s - loss: 0.6157 - accuracy: 0.6535 - val_loss: 0.6000 - val_accuracy: 0.6770\n",
            "Epoch 9/15\n",
            "100/100 - 100s - loss: 0.6099 - accuracy: 0.6670 - val_loss: 0.5853 - val_accuracy: 0.6850\n",
            "Epoch 10/15\n",
            "100/100 - 100s - loss: 0.5897 - accuracy: 0.6880 - val_loss: 0.5672 - val_accuracy: 0.6990\n",
            "Epoch 11/15\n",
            "100/100 - 99s - loss: 0.5949 - accuracy: 0.6770 - val_loss: 0.5774 - val_accuracy: 0.6800\n",
            "Epoch 12/15\n",
            "100/100 - 99s - loss: 0.5870 - accuracy: 0.6875 - val_loss: 0.5678 - val_accuracy: 0.6910\n",
            "Epoch 13/15\n",
            "100/100 - 100s - loss: 0.5761 - accuracy: 0.6940 - val_loss: 0.5577 - val_accuracy: 0.7000\n",
            "Epoch 14/15\n",
            "100/100 - 100s - loss: 0.5636 - accuracy: 0.7175 - val_loss: 0.5503 - val_accuracy: 0.7180\n",
            "Epoch 15/15\n",
            "100/100 - 100s - loss: 0.5700 - accuracy: 0.6905 - val_loss: 0.5399 - val_accuracy: 0.7200\n"
          ],
          "name": "stdout"
        }
      ]
    },
    {
      "cell_type": "code",
      "metadata": {
        "id": "JYtZB2Mzb8Zy",
        "colab_type": "code",
        "colab": {
          "base_uri": "https://localhost:8080/",
          "height": 590
        },
        "outputId": "bab4f6bd-72e0-44a9-8434-d92b7aebee30"
      },
      "source": [
        "#-----------------------------------------------------------\n",
        "# Retrieve a list of list results on training and test data\n",
        "# sets for each training epoch\n",
        "#-----------------------------------------------------------\n",
        "import matplotlib.pyplot as plt\n",
        "\n",
        "acc      = history.history[     'accuracy' ]\n",
        "val_acc  = history.history[ 'val_accuracy' ]\n",
        "loss     = history.history[    'loss' ]\n",
        "val_loss = history.history['val_loss' ]\n",
        "\n",
        "epochs   = range(len(acc)) # Get number of epochs\n",
        "\n",
        "#------------------------------------------------\n",
        "# Plot training and validation accuracy per epoch\n",
        "#------------------------------------------------\n",
        "plt.plot  ( epochs,     acc,label='training acc' )\n",
        "plt.plot  ( epochs, val_acc ,label ='validation acc')\n",
        "plt.title ('Training and validation accuracy')\n",
        "plt.xlabel('Epochs')\n",
        "plt.ylabel('Accuracy')\n",
        "plt.legend(loc='upper right')\n",
        "\n",
        "plt.figure()\n",
        "\n",
        "#------------------------------------------------\n",
        "# Plot training and validation loss per epoch\n",
        "#------------------------------------------------\n",
        "plt.plot  ( epochs,     loss, label='training loss' )\n",
        "plt.plot  ( epochs, val_loss ,label ='validation loss')\n",
        "plt.xlabel('Epochs')\n",
        "plt.ylabel('Accuracy')\n",
        "plt.legend(loc='upper right')\n",
        "\n",
        "\n",
        "\n",
        "plt.title ('Training and validation loss'   )"
      ],
      "execution_count": 4,
      "outputs": [
        {
          "output_type": "execute_result",
          "data": {
            "text/plain": [
              "Text(0.5, 1.0, 'Training and validation loss')"
            ]
          },
          "metadata": {
            "tags": []
          },
          "execution_count": 4
        },
        {
          "output_type": "display_data",
          "data": {
            "image/png": "[encoded data removed]",
            "text/plain": [
              "<Figure size 432x288 with 1 Axes>"
            ]
          },
          "metadata": {
            "tags": [],
            "needs_background": "light"
          }
        },
        {
          "output_type": "display_data",
          "data": {
            "image/png": "[encoded data removed]",
            "text/plain": [
              "<Figure size 432x288 with 1 Axes>"
            ]
          },
          "metadata": {
            "tags": [],
            "needs_background": "light"
          }
        }
      ]
    },
    {
      "cell_type": "code",
      "metadata": {
        "id": "NuO0w9kGkX_n",
        "colab_type": "code",
        "colab": {}
      },
      "source": [
        ""
      ],
      "execution_count": 0,
      "outputs": []
    }
  ]
}