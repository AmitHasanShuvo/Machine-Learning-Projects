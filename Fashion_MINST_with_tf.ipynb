{
  "nbformat": 4,
  "nbformat_minor": 0,
  "metadata": {
    "colab": {
      "name": "Fashion_MINST with tf.ipynb",
      "provenance": [],
      "collapsed_sections": [],
      "authorship_tag": "ABX9TyOJLfexZFemPVTIH9ypMZ47",
      "include_colab_link": true
    },
    "kernelspec": {
      "name": "python3",
      "display_name": "Python 3"
    }
  },
  "cells": [
    {
      "cell_type": "markdown",
      "metadata": {
        "id": "view-in-github",
        "colab_type": "text"
      },
      "source": [
        "<a href=\"https://colab.research.google.com/github/AmitHasanShuvo/Neural-Network-Implementations/blob/master/Fashion_MINST_with_tf.ipynb\" target=\"_parent\"><img src=\"https://colab.research.google.com/assets/colab-badge.svg\" alt=\"Open In Colab\"/></a>"
      ]
    },
    {
      "cell_type": "markdown",
      "metadata": {
        "id": "pzqtTu7QG21E",
        "colab_type": "text"
      },
      "source": [
        "Todo : https://www.tensorflow.org/tutorials/keras/classification"
      ]
    },
    {
      "cell_type": "code",
      "metadata": {
        "id": "wugZk4IMncs7",
        "colab_type": "code",
        "colab": {}
      },
      "source": [
        "import tensorflow as tf\n",
        "import numpy as np\n"
      ],
      "execution_count": 0,
      "outputs": []
    },
    {
      "cell_type": "code",
      "metadata": {
        "id": "ZZK7gadNnqRy",
        "colab_type": "code",
        "colab": {}
      },
      "source": [
        "mnist = tf.keras.datasets.fashion_mnist"
      ],
      "execution_count": 0,
      "outputs": []
    },
    {
      "cell_type": "code",
      "metadata": {
        "id": "TbjqXm1qn3vd",
        "colab_type": "code",
        "colab": {}
      },
      "source": [
        "(training_images, training_labels),(test_images, test_labels) = mnist.load_data()"
      ],
      "execution_count": 0,
      "outputs": []
    },
    {
      "cell_type": "code",
      "metadata": {
        "id": "5NXnPpv9oGzd",
        "colab_type": "code",
        "colab": {
          "base_uri": "https://localhost:8080/",
          "height": 510
        },
        "outputId": "3f8224d9-e617-49c5-8797-e447f9d8d37d"
      },
      "source": [
        "print(training_images[44])\n",
        "print(training_labels[44])"
      ],
      "execution_count": 17,
      "outputs": [
        {
          "output_type": "stream",
          "text": [
            "[[  0   0   0   0   0   0   0   0   0   0   0   1   0  34 116   0   0   0   0   0   0   0   0   0   0   0   0   0]\n",
            " [  0   0   0   0   0   0   0   0   0   0   0   0   0 201 254 247 255 255 255 255 255 255 255 255 142   0   1   0]\n",
            " [  0   0   0   0   0   0   0   0   0   0   2   0  68 227 224 238 249 244 247 245 244 244 243 255 218   0   0   0]\n",
            " [  0   0   0   0   0   0   0   0   0   0   0   0 207 227 225 237 240 237 240 243 240 241 236 244 223   0   0   0]\n",
            " [  0   0   0   0   0   0   0   0   0   0   0   0 177 234 235 235 241 240 243 246 244 244 244 239 255  18   0   1]\n",
            " [  0   0   0   0   0   0   0   0   0   1   0   0 220 216 236 237 245 242 241 244 244 243 248 228 255  91   0   0]\n",
            " [  0   0   0   0   0   0   0   0   0   1   0  17 255 242 239 232 236 239 239 243 243 243 244 231 255 215   0   0]\n",
            " [  0   0   0   0   0   0   0   0   0   1   0  53 245 217 236 231 234 239 240 240 241 243 242 239 236 255  68   0]\n",
            " [  0   0   0   0   0   0   0   0   0   0   0 130 255 226 233 233 235 240 243 243 244 243 244 238 231 255 234   0]\n",
            " [  0   0   0   0   0   0   0   0   0   0   0 217 225 233 231 234 236 240 243 243 242 242 241 240 241 224 255  54]\n",
            " [  0   0   0   0   0   0   0   0   0   0  46 255 228 238 233 235 237 242 239 239 237 238 241 234 246 229 246 128]\n",
            " [  0   0   0   0   0   3   3   0   0   0 216 247 230 230 232 233 236 241 237 234 240 233 234 234 234 234 255 137]\n",
            " [  0   0   0   0   0   0   0   1   0  28 239 227 237 237 228 230 232 235 235 237 235 237 234 236 251 250 242  12]\n",
            " [  0   0   0   0   0   0   0   0   0 233 243 223 232 229 233 231 233 233 234 233 231 233 249 244 221 208 181   0]\n",
            " [  0   0   0   0   0   3   0   0 208 218 232 238 229 232 235 233 236 240 243 232 247 255 231 203 195 215 194   0]\n",
            " [  0   0   4   0   0   0   0 151 255 230 229 232 235 234 225 235 236 243 226 255 255  73 147 229 203 219 190   0]\n",
            " [  0   0   0   0   0   0  91 255 214 238 231 232 233 235 239 231 230 240 255 232  13   0 163 242 203 209 178   0]\n",
            " [  0   0 119 200 226 255 254 128 241 231 232 233 236 235 238 240 241 255 186   0   0   0 150 243 201 208 169   0]\n",
            " [  0  66 255 218 217 233 223 231 231 231 233 234 238 235 237 243 255 174   0   0   1   0 136 220 197 209 174   0]\n",
            " [  0 123 255 217 218 233 232 233 229 230 232 236 239 243 238 255 232   0   0   0   2   0  99 225 194 209 178   0]\n",
            " [  0 123 255 216 237 237 233 231 232 237 235 240 235 237 233 255  81   0   0   0   2   0  81 227 195 214 168   0]\n",
            " [  0 127 255 214 223 229 233 231 239 240 235 230 230 226 254 225   0   0   0   0   3   0  64 224 197 214 160   0]\n",
            " [  0 122 255 217 220 228 231 229 235 236 236 230 237 231 255 106   0   8   0   0   4   0  37 220 199 215 148   0]\n",
            " [  0 116 255 214 217 226 230 232 241 240 241 236 238 236 238   0   0   3   0   0   4   0  28 217 201 216 141   0]\n",
            " [  0  65 255 238 232 222 219 221 236 243 240 238 229 243 131   0   0   0   0   0   5   0  11 213 204 218 124   0]\n",
            " [  0   0  44 157 226 255 247 247 246 243 242 246 252 228   0   0   0   0   0   0   4   0   2 216 212 223 118   0]\n",
            " [  0   0   0   0   0  28  97 192 245 255 255 255 169   0   0   0   0   0   0   0   3   0   4 248 198 198 101   0]\n",
            " [  0   0   2   0   0   0   0   0   0   0   0   0   0   0   0   0   0   0   0   0   0   0   0   0   0   0   0   0]]\n",
            "9\n"
          ],
          "name": "stdout"
        }
      ]
    },
    {
      "cell_type": "code",
      "metadata": {
        "id": "oDTvnFjBoPLY",
        "colab_type": "code",
        "colab": {}
      },
      "source": [
        "training_images = training_images/255.0\n",
        "test_images = test_images/255.0"
      ],
      "execution_count": 0,
      "outputs": []
    },
    {
      "cell_type": "code",
      "metadata": {
        "id": "vy4SnA8bwOhY",
        "colab_type": "code",
        "colab": {}
      },
      "source": [
        "model = tf.keras.models.Sequential([tf.keras.layers.Flatten(), #Flatten just takes that square and turns it into a 1 dimensional set.\n",
        "                                    tf.keras.layers.Dense(128, activation=tf.nn.relu), \n",
        "                                    tf.keras.layers.Dense(256, activation=tf.nn.relu),\n",
        "\n",
        "                                    #Dense : Adds a layer of neurons \n",
        "                                    #Relu effectively means \"If X>0 return X, else return 0\" -- so what it does\n",
        "                                    #it it only passes values 0 or greater to the next layer in the network.\n",
        "                                    tf.keras.layers.Dense(10, activation=tf.nn.softmax )]\n",
        "                                   #Softmax takes a set of values, and effectively picks the biggest one, so, for example,\n",
        "                                   #if the output of the last layer looks like [0.1, 0.1, 0.05, 0.1, 9.5, 0.1, 0.05, 0.05, 0.05],\n",
        "                                   #it saves you from fishing through it looking for the biggest value, and turns it into [0,0,0,0,1,0,0,0,0] \n",
        "                                   #-- The goal is to save a lot of coding!\n",
        "    \n",
        ")"
      ],
      "execution_count": 0,
      "outputs": []
    },
    {
      "cell_type": "code",
      "metadata": {
        "id": "_OIP7Pxl8tC3",
        "colab_type": "code",
        "colab": {}
      },
      "source": [
        "model.compile(optimizer=tf.optimizers.Adam(),\n",
        "              loss = 'sparse_categorical_crossentropy',\n",
        "              metrics = ['accuracy'])\n"
      ],
      "execution_count": 0,
      "outputs": []
    },
    {
      "cell_type": "code",
      "metadata": {
        "id": "8dWAQALc-Kgc",
        "colab_type": "code",
        "colab": {
          "base_uri": "https://localhost:8080/",
          "height": 374
        },
        "outputId": "0183a09c-e40f-4d35-c825-84f9d50315cf"
      },
      "source": [
        "model.fit(training_images,training_labels, epochs=10)"
      ],
      "execution_count": 30,
      "outputs": [
        {
          "output_type": "stream",
          "text": [
            "Epoch 1/10\n",
            "1875/1875 [==============================] - 5s 3ms/step - loss: 0.4790 - accuracy: 0.8270\n",
            "Epoch 2/10\n",
            "1875/1875 [==============================] - 5s 3ms/step - loss: 0.3601 - accuracy: 0.8683\n",
            "Epoch 3/10\n",
            "1875/1875 [==============================] - 4s 2ms/step - loss: 0.3245 - accuracy: 0.8808\n",
            "Epoch 4/10\n",
            "1875/1875 [==============================] - 4s 2ms/step - loss: 0.3043 - accuracy: 0.8868\n",
            "Epoch 5/10\n",
            "1875/1875 [==============================] - 4s 2ms/step - loss: 0.2843 - accuracy: 0.8926\n",
            "Epoch 6/10\n",
            "1875/1875 [==============================] - 4s 2ms/step - loss: 0.2696 - accuracy: 0.8993\n",
            "Epoch 7/10\n",
            "1875/1875 [==============================] - 4s 2ms/step - loss: 0.2563 - accuracy: 0.9039\n",
            "Epoch 8/10\n",
            "1875/1875 [==============================] - 4s 2ms/step - loss: 0.2453 - accuracy: 0.9079\n",
            "Epoch 9/10\n",
            "1875/1875 [==============================] - 4s 2ms/step - loss: 0.2352 - accuracy: 0.9107\n",
            "Epoch 10/10\n",
            "1875/1875 [==============================] - 4s 2ms/step - loss: 0.2267 - accuracy: 0.9140\n"
          ],
          "name": "stdout"
        },
        {
          "output_type": "execute_result",
          "data": {
            "text/plain": [
              "<tensorflow.python.keras.callbacks.History at 0x7f0008d1f128>"
            ]
          },
          "metadata": {
            "tags": []
          },
          "execution_count": 30
        }
      ]
    },
    {
      "cell_type": "code",
      "metadata": {
        "id": "3DrSqfjo-SDs",
        "colab_type": "code",
        "colab": {
          "base_uri": "https://localhost:8080/",
          "height": 51
        },
        "outputId": "1521bf07-ab2f-4956-a80d-1d65067c2405"
      },
      "source": [
        "model.evaluate(test_images, test_labels)"
      ],
      "execution_count": 31,
      "outputs": [
        {
          "output_type": "stream",
          "text": [
            "313/313 [==============================] - 0s 1ms/step - loss: 0.3487 - accuracy: 0.8792\n"
          ],
          "name": "stdout"
        },
        {
          "output_type": "execute_result",
          "data": {
            "text/plain": [
              "[0.3487033545970917, 0.8791999816894531]"
            ]
          },
          "metadata": {
            "tags": []
          },
          "execution_count": 31
        }
      ]
    },
    {
      "cell_type": "code",
      "metadata": {
        "id": "12L72YpG_W-Q",
        "colab_type": "code",
        "colab": {
          "base_uri": "https://localhost:8080/",
          "height": 34
        },
        "outputId": "9e6c7b70-fad3-4af0-b7b3-a03df54cc913"
      },
      "source": [
        "classifications = model.predict(test_images)\n",
        "\n",
        "print(classifications[0])"
      ],
      "execution_count": 27,
      "outputs": [
        {
          "output_type": "stream",
          "text": [
            "[4.11499798e-07 9.83806481e-10 2.15161240e-08 2.53048942e-08 1.09192366e-09 3.44441418e-04 1.04240094e-07 5.35346428e-03 7.63111174e-08 9.94301438e-01]\n"
          ],
          "name": "stdout"
        }
      ]
    },
    {
      "cell_type": "code",
      "metadata": {
        "id": "hs4NQk9v-1F9",
        "colab_type": "code",
        "colab": {
          "base_uri": "https://localhost:8080/",
          "height": 34
        },
        "outputId": "e55846e2-bb17-4808-b0cf-fda67959aaa9"
      },
      "source": [
        "print(test_labels[0])"
      ],
      "execution_count": 26,
      "outputs": [
        {
          "output_type": "stream",
          "text": [
            "9\n"
          ],
          "name": "stdout"
        }
      ]
    },
    {
      "cell_type": "markdown",
      "metadata": {
        "id": "gPuotAANFCI3",
        "colab_type": "text"
      },
      "source": [
        "Callbacks\n"
      ]
    },
    {
      "cell_type": "code",
      "metadata": {
        "id": "Jr0OGvb4_L_l",
        "colab_type": "code",
        "colab": {}
      },
      "source": [
        "class myCallback(tf.keras.callbacks.Callback):\n",
        "  def on_epoch_end(self, epoch, logs={}):\n",
        "    if(logs.get('loss')<0.1):\n",
        "      print(\"\\nReached 90% accuracy so cancelling training!\")\n",
        "      self.model.stop_training = True\n",
        "callbacks = myCallback()\n",
        "\n",
        "\n",
        "                     "
      ],
      "execution_count": 0,
      "outputs": []
    },
    {
      "cell_type": "code",
      "metadata": {
        "id": "UPkOxkEQGAKS",
        "colab_type": "code",
        "colab": {
          "base_uri": "https://localhost:8080/",
          "height": 544
        },
        "outputId": "ffef84df-3768-4ab1-8cf5-a48af91e3d32"
      },
      "source": [
        "model.fit(training_images, training_labels, epochs=15, callbacks=[callbacks])\n"
      ],
      "execution_count": 37,
      "outputs": [
        {
          "output_type": "stream",
          "text": [
            "Epoch 1/15\n",
            "1875/1875 [==============================] - 4s 2ms/step - loss: 0.2118 - accuracy: 0.9192\n",
            "Epoch 2/15\n",
            "1875/1875 [==============================] - 4s 2ms/step - loss: 0.2005 - accuracy: 0.9234\n",
            "Epoch 3/15\n",
            "1875/1875 [==============================] - 4s 2ms/step - loss: 0.1944 - accuracy: 0.9246\n",
            "Epoch 4/15\n",
            "1875/1875 [==============================] - 4s 2ms/step - loss: 0.1889 - accuracy: 0.9281\n",
            "Epoch 5/15\n",
            "1875/1875 [==============================] - 4s 2ms/step - loss: 0.1824 - accuracy: 0.9300\n",
            "Epoch 6/15\n",
            "1875/1875 [==============================] - 4s 2ms/step - loss: 0.1731 - accuracy: 0.9333\n",
            "Epoch 7/15\n",
            "1875/1875 [==============================] - 4s 2ms/step - loss: 0.1737 - accuracy: 0.9335\n",
            "Epoch 8/15\n",
            "1875/1875 [==============================] - 4s 2ms/step - loss: 0.1665 - accuracy: 0.9363\n",
            "Epoch 9/15\n",
            "1875/1875 [==============================] - 5s 2ms/step - loss: 0.1615 - accuracy: 0.9376\n",
            "Epoch 10/15\n",
            "1875/1875 [==============================] - 4s 2ms/step - loss: 0.1567 - accuracy: 0.9398\n",
            "Epoch 11/15\n",
            "1875/1875 [==============================] - 4s 2ms/step - loss: 0.1515 - accuracy: 0.9407\n",
            "Epoch 12/15\n",
            "1875/1875 [==============================] - 4s 2ms/step - loss: 0.1475 - accuracy: 0.9426\n",
            "Epoch 13/15\n",
            "1875/1875 [==============================] - 4s 2ms/step - loss: 0.1454 - accuracy: 0.9438\n",
            "Epoch 14/15\n",
            "1875/1875 [==============================] - 5s 2ms/step - loss: 0.1382 - accuracy: 0.9469\n",
            "Epoch 15/15\n",
            "1875/1875 [==============================] - 4s 2ms/step - loss: 0.1350 - accuracy: 0.9483\n"
          ],
          "name": "stdout"
        },
        {
          "output_type": "execute_result",
          "data": {
            "text/plain": [
              "<tensorflow.python.keras.callbacks.History at 0x7f00073f2c88>"
            ]
          },
          "metadata": {
            "tags": []
          },
          "execution_count": 37
        }
      ]
    },
    {
      "cell_type": "markdown",
      "metadata": {
        "id": "O8pZkfbDG0Vp",
        "colab_type": "text"
      },
      "source": [
        "Reference: https://github.com/lmoroney/dlaicourse/blob/master/Course%201%20-%20Part%204%20-%20Lesson%204%20-%20Notebook.ipynb\n"
      ]
    },
    {
      "cell_type": "code",
      "metadata": {
        "id": "FD0CpllmGH6K",
        "colab_type": "code",
        "colab": {}
      },
      "source": [
        ""
      ],
      "execution_count": 0,
      "outputs": []
    }
  ]
}