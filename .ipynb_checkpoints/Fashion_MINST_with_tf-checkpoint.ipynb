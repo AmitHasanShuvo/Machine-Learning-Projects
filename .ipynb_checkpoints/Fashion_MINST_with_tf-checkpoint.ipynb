{
 "cells": [
  {
   "cell_type": "markdown",
   "metadata": {
    "colab_type": "text",
    "id": "view-in-github"
   },
   "source": [
    "<a href=\"https://colab.research.google.com/github/AmitHasanShuvo/Neural-Network-Implementations/blob/master/Fashion_MINST_with_tf.ipynb\" target=\"_parent\"><img src=\"https://colab.research.google.com/assets/colab-badge.svg\" alt=\"Open In Colab\"/></a>"
   ]
  },
  {
   "cell_type": "markdown",
   "metadata": {
    "colab_type": "text",
    "id": "MF8AkJCBznaP"
   },
   "source": [
    "**Fashion MINST classification with tensorflow**"
   ]
  },
  {
   "cell_type": "markdown",
   "metadata": {
    "colab_type": "text",
    "id": "DZA2Y4HF4Drj"
   },
   "source": [
    "I tried to implement my learnings from **Laurence Moroney**'s coursera course \"**Introduction to TensorFlow for Artificial Intelligence, Machine Learning, and Deep Learning**\" and **Tensorflow** official documentations. \n"
   ]
  },
  {
   "cell_type": "code",
   "execution_count": 0,
   "metadata": {
    "colab": {},
    "colab_type": "code",
    "id": "wugZk4IMncs7"
   },
   "outputs": [],
   "source": [
    "import tensorflow as tf\n",
    "import numpy as np\n"
   ]
  },
  {
   "cell_type": "code",
   "execution_count": 0,
   "metadata": {
    "colab": {},
    "colab_type": "code",
    "id": "ZZK7gadNnqRy"
   },
   "outputs": [],
   "source": [
    "mnist = tf.keras.datasets.fashion_mnist"
   ]
  },
  {
   "cell_type": "code",
   "execution_count": 0,
   "metadata": {
    "colab": {},
    "colab_type": "code",
    "id": "TbjqXm1qn3vd"
   },
   "outputs": [],
   "source": [
    "(training_images, training_labels),(test_images, test_labels) = mnist.load_data()"
   ]
  },
  {
   "cell_type": "code",
   "execution_count": 57,
   "metadata": {
    "colab": {
     "base_uri": "https://localhost:8080/",
     "height": 34
    },
    "colab_type": "code",
    "id": "nocfxMRu0Xmh",
    "outputId": "49b3371b-43c5-4b1d-b34b-3151086f0a91"
   },
   "outputs": [
    {
     "data": {
      "text/plain": [
       "(60000, 28, 28)"
      ]
     },
     "execution_count": 57,
     "metadata": {
      "tags": []
     },
     "output_type": "execute_result"
    }
   ],
   "source": [
    "training_images.shape"
   ]
  },
  {
   "cell_type": "code",
   "execution_count": 58,
   "metadata": {
    "colab": {
     "base_uri": "https://localhost:8080/",
     "height": 34
    },
    "colab_type": "code",
    "id": "ERRigU6h0a3j",
    "outputId": "ad674ff6-8546-4f4d-d731-677990fa2c6f"
   },
   "outputs": [
    {
     "data": {
      "text/plain": [
       "(10000, 28, 28)"
      ]
     },
     "execution_count": 58,
     "metadata": {
      "tags": []
     },
     "output_type": "execute_result"
    }
   ],
   "source": [
    "test_images.shape"
   ]
  },
  {
   "cell_type": "code",
   "execution_count": 59,
   "metadata": {
    "colab": {
     "base_uri": "https://localhost:8080/",
     "height": 986
    },
    "colab_type": "code",
    "id": "5NXnPpv9oGzd",
    "outputId": "e8baa2fa-1fa3-4db9-b1c9-03b8af5cb0e1"
   },
   "outputs": [
    {
     "name": "stdout",
     "output_type": "stream",
     "text": [
      "[[  0   0   0   0   0   0   0   0   0   0   0   1   0  34 116   0   0   0\n",
      "    0   0   0   0   0   0   0   0   0   0]\n",
      " [  0   0   0   0   0   0   0   0   0   0   0   0   0 201 254 247 255 255\n",
      "  255 255 255 255 255 255 142   0   1   0]\n",
      " [  0   0   0   0   0   0   0   0   0   0   2   0  68 227 224 238 249 244\n",
      "  247 245 244 244 243 255 218   0   0   0]\n",
      " [  0   0   0   0   0   0   0   0   0   0   0   0 207 227 225 237 240 237\n",
      "  240 243 240 241 236 244 223   0   0   0]\n",
      " [  0   0   0   0   0   0   0   0   0   0   0   0 177 234 235 235 241 240\n",
      "  243 246 244 244 244 239 255  18   0   1]\n",
      " [  0   0   0   0   0   0   0   0   0   1   0   0 220 216 236 237 245 242\n",
      "  241 244 244 243 248 228 255  91   0   0]\n",
      " [  0   0   0   0   0   0   0   0   0   1   0  17 255 242 239 232 236 239\n",
      "  239 243 243 243 244 231 255 215   0   0]\n",
      " [  0   0   0   0   0   0   0   0   0   1   0  53 245 217 236 231 234 239\n",
      "  240 240 241 243 242 239 236 255  68   0]\n",
      " [  0   0   0   0   0   0   0   0   0   0   0 130 255 226 233 233 235 240\n",
      "  243 243 244 243 244 238 231 255 234   0]\n",
      " [  0   0   0   0   0   0   0   0   0   0   0 217 225 233 231 234 236 240\n",
      "  243 243 242 242 241 240 241 224 255  54]\n",
      " [  0   0   0   0   0   0   0   0   0   0  46 255 228 238 233 235 237 242\n",
      "  239 239 237 238 241 234 246 229 246 128]\n",
      " [  0   0   0   0   0   3   3   0   0   0 216 247 230 230 232 233 236 241\n",
      "  237 234 240 233 234 234 234 234 255 137]\n",
      " [  0   0   0   0   0   0   0   1   0  28 239 227 237 237 228 230 232 235\n",
      "  235 237 235 237 234 236 251 250 242  12]\n",
      " [  0   0   0   0   0   0   0   0   0 233 243 223 232 229 233 231 233 233\n",
      "  234 233 231 233 249 244 221 208 181   0]\n",
      " [  0   0   0   0   0   3   0   0 208 218 232 238 229 232 235 233 236 240\n",
      "  243 232 247 255 231 203 195 215 194   0]\n",
      " [  0   0   4   0   0   0   0 151 255 230 229 232 235 234 225 235 236 243\n",
      "  226 255 255  73 147 229 203 219 190   0]\n",
      " [  0   0   0   0   0   0  91 255 214 238 231 232 233 235 239 231 230 240\n",
      "  255 232  13   0 163 242 203 209 178   0]\n",
      " [  0   0 119 200 226 255 254 128 241 231 232 233 236 235 238 240 241 255\n",
      "  186   0   0   0 150 243 201 208 169   0]\n",
      " [  0  66 255 218 217 233 223 231 231 231 233 234 238 235 237 243 255 174\n",
      "    0   0   1   0 136 220 197 209 174   0]\n",
      " [  0 123 255 217 218 233 232 233 229 230 232 236 239 243 238 255 232   0\n",
      "    0   0   2   0  99 225 194 209 178   0]\n",
      " [  0 123 255 216 237 237 233 231 232 237 235 240 235 237 233 255  81   0\n",
      "    0   0   2   0  81 227 195 214 168   0]\n",
      " [  0 127 255 214 223 229 233 231 239 240 235 230 230 226 254 225   0   0\n",
      "    0   0   3   0  64 224 197 214 160   0]\n",
      " [  0 122 255 217 220 228 231 229 235 236 236 230 237 231 255 106   0   8\n",
      "    0   0   4   0  37 220 199 215 148   0]\n",
      " [  0 116 255 214 217 226 230 232 241 240 241 236 238 236 238   0   0   3\n",
      "    0   0   4   0  28 217 201 216 141   0]\n",
      " [  0  65 255 238 232 222 219 221 236 243 240 238 229 243 131   0   0   0\n",
      "    0   0   5   0  11 213 204 218 124   0]\n",
      " [  0   0  44 157 226 255 247 247 246 243 242 246 252 228   0   0   0   0\n",
      "    0   0   4   0   2 216 212 223 118   0]\n",
      " [  0   0   0   0   0  28  97 192 245 255 255 255 169   0   0   0   0   0\n",
      "    0   0   3   0   4 248 198 198 101   0]\n",
      " [  0   0   2   0   0   0   0   0   0   0   0   0   0   0   0   0   0   0\n",
      "    0   0   0   0   0   0   0   0   0   0]]\n",
      "9\n"
     ]
    }
   ],
   "source": [
    "print(training_images[44])\n",
    "print(training_labels[44])"
   ]
  },
  {
   "cell_type": "code",
   "execution_count": 60,
   "metadata": {
    "colab": {
     "base_uri": "https://localhost:8080/",
     "height": 265
    },
    "colab_type": "code",
    "id": "tu-RCe5m0mLU",
    "outputId": "7aa985f8-5d5e-4652-f508-3d9e7a2ef190"
   },
   "outputs": [
    {
     "data": {
      "image/png": "[encoded data removed]",
      "text/plain": [
       "<Figure size 432x288 with 2 Axes>"
      ]
     },
     "metadata": {
      "needs_background": "light",
      "tags": []
     },
     "output_type": "display_data"
    }
   ],
   "source": [
    "import matplotlib.pyplot as plt\n",
    "plt.figure()\n",
    "plt.imshow(training_images[10])\n",
    "plt.colorbar()\n",
    "plt.grid(False)\n",
    "plt.show()\n",
    "\n"
   ]
  },
  {
   "cell_type": "code",
   "execution_count": 0,
   "metadata": {
    "colab": {},
    "colab_type": "code",
    "id": "oDTvnFjBoPLY"
   },
   "outputs": [],
   "source": [
    "training_images = training_images/255.0\n",
    "test_images = test_images/255.0"
   ]
  },
  {
   "cell_type": "code",
   "execution_count": 0,
   "metadata": {
    "colab": {},
    "colab_type": "code",
    "id": "vy4SnA8bwOhY"
   },
   "outputs": [],
   "source": [
    "model = tf.keras.models.Sequential([tf.keras.layers.Flatten(), #Flatten just takes that square and turns it into a 1 dimensional set.\n",
    "                                    tf.keras.layers.Dense(128, activation=tf.nn.relu), \n",
    "                                    tf.keras.layers.Dense(256, activation=tf.nn.relu),\n",
    "\n",
    "                                    #Dense : Adds a layer of neurons \n",
    "                                    #Relu effectively means \"If X>0 return X, else return 0\" -- so what it does\n",
    "                                    #it it only passes values 0 or greater to the next layer in the network.\n",
    "                                    tf.keras.layers.Dense(10, activation=tf.nn.softmax )]\n",
    "                                   #Softmax takes a set of values, and effectively picks the biggest one, so, for example,\n",
    "                                   #if the output of the last layer looks like [0.1, 0.1, 0.05, 0.1, 9.5, 0.1, 0.05, 0.05, 0.05],\n",
    "                                   #it saves you from fishing through it looking for the biggest value, and turns it into [0,0,0,0,1,0,0,0,0] \n",
    "                                   #-- The goal is to save a lot of coding!\n",
    "    \n",
    ")"
   ]
  },
  {
   "cell_type": "code",
   "execution_count": 0,
   "metadata": {
    "colab": {},
    "colab_type": "code",
    "id": "_OIP7Pxl8tC3"
   },
   "outputs": [],
   "source": [
    "model.compile(optimizer=tf.optimizers.Adam(),\n",
    "              loss = 'sparse_categorical_crossentropy',\n",
    "              metrics = ['accuracy'])\n"
   ]
  },
  {
   "cell_type": "code",
   "execution_count": 64,
   "metadata": {
    "colab": {
     "base_uri": "https://localhost:8080/",
     "height": 374
    },
    "colab_type": "code",
    "id": "8dWAQALc-Kgc",
    "outputId": "6e0a184e-4c5f-48c9-d34b-579ab38583bb"
   },
   "outputs": [
    {
     "name": "stdout",
     "output_type": "stream",
     "text": [
      "Epoch 1/10\n",
      "1875/1875 [==============================] - 4s 2ms/step - loss: 0.4796 - accuracy: 0.8267\n",
      "Epoch 2/10\n",
      "1875/1875 [==============================] - 4s 2ms/step - loss: 0.3611 - accuracy: 0.8679\n",
      "Epoch 3/10\n",
      "1875/1875 [==============================] - 4s 2ms/step - loss: 0.3266 - accuracy: 0.8796\n",
      "Epoch 4/10\n",
      "1875/1875 [==============================] - 4s 2ms/step - loss: 0.3001 - accuracy: 0.8885\n",
      "Epoch 5/10\n",
      "1875/1875 [==============================] - 4s 2ms/step - loss: 0.2833 - accuracy: 0.8941\n",
      "Epoch 6/10\n",
      "1875/1875 [==============================] - 4s 2ms/step - loss: 0.2706 - accuracy: 0.8981\n",
      "Epoch 7/10\n",
      "1875/1875 [==============================] - 4s 2ms/step - loss: 0.2553 - accuracy: 0.9041\n",
      "Epoch 8/10\n",
      "1875/1875 [==============================] - 4s 2ms/step - loss: 0.2442 - accuracy: 0.9079\n",
      "Epoch 9/10\n",
      "1875/1875 [==============================] - 4s 2ms/step - loss: 0.2351 - accuracy: 0.9113\n",
      "Epoch 10/10\n",
      "1875/1875 [==============================] - 4s 2ms/step - loss: 0.2253 - accuracy: 0.9143\n"
     ]
    },
    {
     "data": {
      "text/plain": [
       "<tensorflow.python.keras.callbacks.History at 0x7f65baa064e0>"
      ]
     },
     "execution_count": 64,
     "metadata": {
      "tags": []
     },
     "output_type": "execute_result"
    }
   ],
   "source": [
    "model.fit(training_images,training_labels, epochs=10)"
   ]
  },
  {
   "cell_type": "code",
   "execution_count": 65,
   "metadata": {
    "colab": {
     "base_uri": "https://localhost:8080/",
     "height": 102
    },
    "colab_type": "code",
    "id": "3DrSqfjo-SDs",
    "outputId": "6c389792-a541-44df-ea39-c7f8560f533e"
   },
   "outputs": [
    {
     "name": "stdout",
     "output_type": "stream",
     "text": [
      "313/313 - 0s - loss: 0.3490 - accuracy: 0.8770\n",
      "\n",
      "Test accuracy: 0.8769999742507935\n",
      "\n",
      "Test loss: 0.3489762842655182\n"
     ]
    }
   ],
   "source": [
    "test_loss, test_acc = model.evaluate(test_images, test_labels,verbose=2)\n",
    "print('\\nTest accuracy:', test_acc)\n",
    "print('\\nTest loss:', test_loss)"
   ]
  },
  {
   "cell_type": "code",
   "execution_count": 0,
   "metadata": {
    "colab": {},
    "colab_type": "code",
    "id": "aXea0Sg61nqG"
   },
   "outputs": [],
   "source": []
  },
  {
   "cell_type": "code",
   "execution_count": 66,
   "metadata": {
    "colab": {
     "base_uri": "https://localhost:8080/",
     "height": 51
    },
    "colab_type": "code",
    "id": "12L72YpG_W-Q",
    "outputId": "b6657c31-9a8f-42f5-92bc-4412ae12d6d0"
   },
   "outputs": [
    {
     "name": "stdout",
     "output_type": "stream",
     "text": [
      "[4.7210560e-06 1.6874930e-06 1.5610235e-07 1.2140572e-08 3.3844859e-08\n",
      " 3.6647619e-04 5.3927877e-08 6.1450759e-03 4.8348130e-07 9.9348128e-01]\n"
     ]
    }
   ],
   "source": [
    "classifications = model.predict(test_images)\n",
    "\n",
    "print(classifications[0])"
   ]
  },
  {
   "cell_type": "code",
   "execution_count": 67,
   "metadata": {
    "colab": {
     "base_uri": "https://localhost:8080/",
     "height": 34
    },
    "colab_type": "code",
    "id": "5EuCfk1D2qpO",
    "outputId": "4d6ed3d7-5333-47ba-8b88-a8d034f46888"
   },
   "outputs": [
    {
     "data": {
      "text/plain": [
       "9"
      ]
     },
     "execution_count": 67,
     "metadata": {
      "tags": []
     },
     "output_type": "execute_result"
    }
   ],
   "source": [
    "np.argmax(classifications[0])\n"
   ]
  },
  {
   "cell_type": "code",
   "execution_count": 68,
   "metadata": {
    "colab": {
     "base_uri": "https://localhost:8080/",
     "height": 34
    },
    "colab_type": "code",
    "id": "hs4NQk9v-1F9",
    "outputId": "a8a18314-a994-4e4b-eeac-2e45e1e30aca"
   },
   "outputs": [
    {
     "name": "stdout",
     "output_type": "stream",
     "text": [
      "9\n"
     ]
    }
   ],
   "source": [
    "print(test_labels[0])"
   ]
  },
  {
   "cell_type": "code",
   "execution_count": 0,
   "metadata": {
    "colab": {},
    "colab_type": "code",
    "id": "GB1VxO6y3hcI"
   },
   "outputs": [],
   "source": []
  },
  {
   "cell_type": "markdown",
   "metadata": {
    "colab_type": "text",
    "id": "gPuotAANFCI3"
   },
   "source": [
    "Callbacks\n"
   ]
  },
  {
   "cell_type": "code",
   "execution_count": 0,
   "metadata": {
    "colab": {},
    "colab_type": "code",
    "id": "Jr0OGvb4_L_l"
   },
   "outputs": [],
   "source": [
    "class myCallback(tf.keras.callbacks.Callback):\n",
    "  def on_epoch_end(self, epoch, logs={}):\n",
    "    if(logs.get('loss')<0.1):\n",
    "      print(\"\\nReached 90% accuracy so cancelling training!\")\n",
    "      self.model.stop_training = True\n",
    "callbacks = myCallback()\n",
    "\n",
    "\n",
    "                     "
   ]
  },
  {
   "cell_type": "code",
   "execution_count": 70,
   "metadata": {
    "colab": {
     "base_uri": "https://localhost:8080/",
     "height": 544
    },
    "colab_type": "code",
    "id": "UPkOxkEQGAKS",
    "outputId": "0258a7b4-e5b6-4065-9b20-fc74934bb0c9"
   },
   "outputs": [
    {
     "name": "stdout",
     "output_type": "stream",
     "text": [
      "Epoch 1/15\n",
      "1875/1875 [==============================] - 4s 2ms/step - loss: 0.2177 - accuracy: 0.9172\n",
      "Epoch 2/15\n",
      "1875/1875 [==============================] - 4s 2ms/step - loss: 0.2083 - accuracy: 0.9202\n",
      "Epoch 3/15\n",
      "1875/1875 [==============================] - 4s 2ms/step - loss: 0.2009 - accuracy: 0.9223\n",
      "Epoch 4/15\n",
      "1875/1875 [==============================] - 4s 2ms/step - loss: 0.1946 - accuracy: 0.9255\n",
      "Epoch 5/15\n",
      "1875/1875 [==============================] - 4s 2ms/step - loss: 0.1891 - accuracy: 0.9274\n",
      "Epoch 6/15\n",
      "1875/1875 [==============================] - 4s 2ms/step - loss: 0.1816 - accuracy: 0.9303\n",
      "Epoch 7/15\n",
      "1875/1875 [==============================] - 4s 2ms/step - loss: 0.1774 - accuracy: 0.9324\n",
      "Epoch 8/15\n",
      "1875/1875 [==============================] - 4s 2ms/step - loss: 0.1705 - accuracy: 0.9335\n",
      "Epoch 9/15\n",
      "1875/1875 [==============================] - 4s 2ms/step - loss: 0.1666 - accuracy: 0.9350\n",
      "Epoch 10/15\n",
      "1875/1875 [==============================] - 4s 2ms/step - loss: 0.1613 - accuracy: 0.9388\n",
      "Epoch 11/15\n",
      "1875/1875 [==============================] - 4s 2ms/step - loss: 0.1572 - accuracy: 0.9397\n",
      "Epoch 12/15\n",
      "1875/1875 [==============================] - 4s 2ms/step - loss: 0.1506 - accuracy: 0.9416\n",
      "Epoch 13/15\n",
      "1875/1875 [==============================] - 4s 2ms/step - loss: 0.1465 - accuracy: 0.9435\n",
      "Epoch 14/15\n",
      "1875/1875 [==============================] - 4s 2ms/step - loss: 0.1448 - accuracy: 0.9437\n",
      "Epoch 15/15\n",
      "1875/1875 [==============================] - 4s 2ms/step - loss: 0.1397 - accuracy: 0.9460\n"
     ]
    },
    {
     "data": {
      "text/plain": [
       "<tensorflow.python.keras.callbacks.History at 0x7f65b90c2a90>"
      ]
     },
     "execution_count": 70,
     "metadata": {
      "tags": []
     },
     "output_type": "execute_result"
    }
   ],
   "source": [
    "model.fit(training_images, training_labels, epochs=15, callbacks=[callbacks])\n"
   ]
  },
  {
   "cell_type": "markdown",
   "metadata": {
    "colab_type": "text",
    "id": "O8pZkfbDG0Vp"
   },
   "source": [
    "Reference: \n",
    "1. https://github.com/lmoroney/dlaicourse/blob/master/Course%201%20-%20Part%204%20-%20Lesson%204%20-%20Notebook.ipynb\n",
    "2. https://www.tensorflow.org/tutorials/keras/classification\n"
   ]
  },
  {
   "cell_type": "code",
   "execution_count": 0,
   "metadata": {
    "colab": {},
    "colab_type": "code",
    "id": "FD0CpllmGH6K"
   },
   "outputs": [],
   "source": []
  }
 ],
 "metadata": {
  "colab": {
   "authorship_tag": "ABX9TyPxyGn193CmFCIn5Jo0zZuv",
   "collapsed_sections": [],
   "include_colab_link": true,
   "name": "Fashion_MINST with tf.ipynb",
   "provenance": []
  },
  "kernelspec": {
   "display_name": "Python 3",
   "language": "python",
   "name": "python3"
  },
  "language_info": {
   "codemirror_mode": {
    "name": "ipython",
    "version": 3
   },
   "file_extension": ".py",
   "mimetype": "text/x-python",
   "name": "python",
   "nbconvert_exporter": "python",
   "pygments_lexer": "ipython3",
   "version": "3.8.3"
  }
 },
 "nbformat": 4,
 "nbformat_minor": 1
}
