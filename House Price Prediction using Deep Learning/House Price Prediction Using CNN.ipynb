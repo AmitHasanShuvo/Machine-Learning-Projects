{
 "cells": [
  {
   "cell_type": "markdown",
   "metadata": {},
   "source": [
    "# Author: Kazi Amit Hasan\n",
    "#### Problem: House Price Prediction using CNN and predicting whether the house price is above or below median value.\n",
    "\n",
    "## Todo:\n",
    "1. Add more layers"
   ]
  },
  {
   "cell_type": "code",
   "execution_count": 1,
   "metadata": {},
   "outputs": [],
   "source": [
    "import numpy as np\n",
    "import pandas as pd\n",
    "import matplotlib.pyplot as plt"
   ]
  },
  {
   "cell_type": "code",
   "execution_count": 2,
   "metadata": {},
   "outputs": [],
   "source": [
    "df = pd.read_csv(\"housepricedata.csv\")"
   ]
  },
  {
   "cell_type": "code",
   "execution_count": 3,
   "metadata": {},
   "outputs": [
    {
     "data": {
      "text/html": [
       "<div>\n",
       "<style scoped>\n",
       "    .dataframe tbody tr th:only-of-type {\n",
       "        vertical-align: middle;\n",
       "    }\n",
       "\n",
       "    .dataframe tbody tr th {\n",
       "        vertical-align: top;\n",
       "    }\n",
       "\n",
       "    .dataframe thead th {\n",
       "        text-align: right;\n",
       "    }\n",
       "</style>\n",
       "<table border=\"1\" class=\"dataframe\">\n",
       "  <thead>\n",
       "    <tr style=\"text-align: right;\">\n",
       "      <th></th>\n",
       "      <th>LotArea</th>\n",
       "      <th>OverallQual</th>\n",
       "      <th>OverallCond</th>\n",
       "      <th>TotalBsmtSF</th>\n",
       "      <th>FullBath</th>\n",
       "      <th>HalfBath</th>\n",
       "      <th>BedroomAbvGr</th>\n",
       "      <th>TotRmsAbvGrd</th>\n",
       "      <th>Fireplaces</th>\n",
       "      <th>GarageArea</th>\n",
       "      <th>AboveMedianPrice</th>\n",
       "    </tr>\n",
       "  </thead>\n",
       "  <tbody>\n",
       "    <tr>\n",
       "      <th>0</th>\n",
       "      <td>8450</td>\n",
       "      <td>7</td>\n",
       "      <td>5</td>\n",
       "      <td>856</td>\n",
       "      <td>2</td>\n",
       "      <td>1</td>\n",
       "      <td>3</td>\n",
       "      <td>8</td>\n",
       "      <td>0</td>\n",
       "      <td>548</td>\n",
       "      <td>1</td>\n",
       "    </tr>\n",
       "    <tr>\n",
       "      <th>1</th>\n",
       "      <td>9600</td>\n",
       "      <td>6</td>\n",
       "      <td>8</td>\n",
       "      <td>1262</td>\n",
       "      <td>2</td>\n",
       "      <td>0</td>\n",
       "      <td>3</td>\n",
       "      <td>6</td>\n",
       "      <td>1</td>\n",
       "      <td>460</td>\n",
       "      <td>1</td>\n",
       "    </tr>\n",
       "    <tr>\n",
       "      <th>2</th>\n",
       "      <td>11250</td>\n",
       "      <td>7</td>\n",
       "      <td>5</td>\n",
       "      <td>920</td>\n",
       "      <td>2</td>\n",
       "      <td>1</td>\n",
       "      <td>3</td>\n",
       "      <td>6</td>\n",
       "      <td>1</td>\n",
       "      <td>608</td>\n",
       "      <td>1</td>\n",
       "    </tr>\n",
       "    <tr>\n",
       "      <th>3</th>\n",
       "      <td>9550</td>\n",
       "      <td>7</td>\n",
       "      <td>5</td>\n",
       "      <td>756</td>\n",
       "      <td>1</td>\n",
       "      <td>0</td>\n",
       "      <td>3</td>\n",
       "      <td>7</td>\n",
       "      <td>1</td>\n",
       "      <td>642</td>\n",
       "      <td>0</td>\n",
       "    </tr>\n",
       "    <tr>\n",
       "      <th>4</th>\n",
       "      <td>14260</td>\n",
       "      <td>8</td>\n",
       "      <td>5</td>\n",
       "      <td>1145</td>\n",
       "      <td>2</td>\n",
       "      <td>1</td>\n",
       "      <td>4</td>\n",
       "      <td>9</td>\n",
       "      <td>1</td>\n",
       "      <td>836</td>\n",
       "      <td>1</td>\n",
       "    </tr>\n",
       "  </tbody>\n",
       "</table>\n",
       "</div>"
      ],
      "text/plain": [
       "   LotArea  OverallQual  OverallCond  TotalBsmtSF  FullBath  HalfBath  \\\n",
       "0     8450            7            5          856         2         1   \n",
       "1     9600            6            8         1262         2         0   \n",
       "2    11250            7            5          920         2         1   \n",
       "3     9550            7            5          756         1         0   \n",
       "4    14260            8            5         1145         2         1   \n",
       "\n",
       "   BedroomAbvGr  TotRmsAbvGrd  Fireplaces  GarageArea  AboveMedianPrice  \n",
       "0             3             8           0         548                 1  \n",
       "1             3             6           1         460                 1  \n",
       "2             3             6           1         608                 1  \n",
       "3             3             7           1         642                 0  \n",
       "4             4             9           1         836                 1  "
      ]
     },
     "execution_count": 3,
     "metadata": {},
     "output_type": "execute_result"
    }
   ],
   "source": [
    "df.head()"
   ]
  },
  {
   "cell_type": "code",
   "execution_count": 4,
   "metadata": {},
   "outputs": [
    {
     "data": {
      "text/html": [
       "<div>\n",
       "<style scoped>\n",
       "    .dataframe tbody tr th:only-of-type {\n",
       "        vertical-align: middle;\n",
       "    }\n",
       "\n",
       "    .dataframe tbody tr th {\n",
       "        vertical-align: top;\n",
       "    }\n",
       "\n",
       "    .dataframe thead th {\n",
       "        text-align: right;\n",
       "    }\n",
       "</style>\n",
       "<table border=\"1\" class=\"dataframe\">\n",
       "  <thead>\n",
       "    <tr style=\"text-align: right;\">\n",
       "      <th></th>\n",
       "      <th>LotArea</th>\n",
       "      <th>OverallQual</th>\n",
       "      <th>OverallCond</th>\n",
       "      <th>TotalBsmtSF</th>\n",
       "      <th>FullBath</th>\n",
       "      <th>HalfBath</th>\n",
       "      <th>BedroomAbvGr</th>\n",
       "      <th>TotRmsAbvGrd</th>\n",
       "      <th>Fireplaces</th>\n",
       "      <th>GarageArea</th>\n",
       "      <th>AboveMedianPrice</th>\n",
       "    </tr>\n",
       "  </thead>\n",
       "  <tbody>\n",
       "    <tr>\n",
       "      <th>1455</th>\n",
       "      <td>7917</td>\n",
       "      <td>6</td>\n",
       "      <td>5</td>\n",
       "      <td>953</td>\n",
       "      <td>2</td>\n",
       "      <td>1</td>\n",
       "      <td>3</td>\n",
       "      <td>7</td>\n",
       "      <td>1</td>\n",
       "      <td>460</td>\n",
       "      <td>1</td>\n",
       "    </tr>\n",
       "    <tr>\n",
       "      <th>1456</th>\n",
       "      <td>13175</td>\n",
       "      <td>6</td>\n",
       "      <td>6</td>\n",
       "      <td>1542</td>\n",
       "      <td>2</td>\n",
       "      <td>0</td>\n",
       "      <td>3</td>\n",
       "      <td>7</td>\n",
       "      <td>2</td>\n",
       "      <td>500</td>\n",
       "      <td>1</td>\n",
       "    </tr>\n",
       "    <tr>\n",
       "      <th>1457</th>\n",
       "      <td>9042</td>\n",
       "      <td>7</td>\n",
       "      <td>9</td>\n",
       "      <td>1152</td>\n",
       "      <td>2</td>\n",
       "      <td>0</td>\n",
       "      <td>4</td>\n",
       "      <td>9</td>\n",
       "      <td>2</td>\n",
       "      <td>252</td>\n",
       "      <td>1</td>\n",
       "    </tr>\n",
       "    <tr>\n",
       "      <th>1458</th>\n",
       "      <td>9717</td>\n",
       "      <td>5</td>\n",
       "      <td>6</td>\n",
       "      <td>1078</td>\n",
       "      <td>1</td>\n",
       "      <td>0</td>\n",
       "      <td>2</td>\n",
       "      <td>5</td>\n",
       "      <td>0</td>\n",
       "      <td>240</td>\n",
       "      <td>0</td>\n",
       "    </tr>\n",
       "    <tr>\n",
       "      <th>1459</th>\n",
       "      <td>9937</td>\n",
       "      <td>5</td>\n",
       "      <td>6</td>\n",
       "      <td>1256</td>\n",
       "      <td>1</td>\n",
       "      <td>1</td>\n",
       "      <td>3</td>\n",
       "      <td>6</td>\n",
       "      <td>0</td>\n",
       "      <td>276</td>\n",
       "      <td>0</td>\n",
       "    </tr>\n",
       "  </tbody>\n",
       "</table>\n",
       "</div>"
      ],
      "text/plain": [
       "      LotArea  OverallQual  OverallCond  TotalBsmtSF  FullBath  HalfBath  \\\n",
       "1455     7917            6            5          953         2         1   \n",
       "1456    13175            6            6         1542         2         0   \n",
       "1457     9042            7            9         1152         2         0   \n",
       "1458     9717            5            6         1078         1         0   \n",
       "1459     9937            5            6         1256         1         1   \n",
       "\n",
       "      BedroomAbvGr  TotRmsAbvGrd  Fireplaces  GarageArea  AboveMedianPrice  \n",
       "1455             3             7           1         460                 1  \n",
       "1456             3             7           2         500                 1  \n",
       "1457             4             9           2         252                 1  \n",
       "1458             2             5           0         240                 0  \n",
       "1459             3             6           0         276                 0  "
      ]
     },
     "execution_count": 4,
     "metadata": {},
     "output_type": "execute_result"
    }
   ],
   "source": [
    "df.tail()"
   ]
  },
  {
   "cell_type": "code",
   "execution_count": 5,
   "metadata": {},
   "outputs": [
    {
     "data": {
      "text/plain": [
       "Index(['LotArea', 'OverallQual', 'OverallCond', 'TotalBsmtSF', 'FullBath',\n",
       "       'HalfBath', 'BedroomAbvGr', 'TotRmsAbvGrd', 'Fireplaces', 'GarageArea',\n",
       "       'AboveMedianPrice'],\n",
       "      dtype='object')"
      ]
     },
     "execution_count": 5,
     "metadata": {},
     "output_type": "execute_result"
    }
   ],
   "source": [
    "df.columns"
   ]
  },
  {
   "cell_type": "code",
   "execution_count": 6,
   "metadata": {},
   "outputs": [
    {
     "data": {
      "text/plain": [
       "(1460, 11)"
      ]
     },
     "execution_count": 6,
     "metadata": {},
     "output_type": "execute_result"
    }
   ],
   "source": [
    "df.shape"
   ]
  },
  {
   "cell_type": "code",
   "execution_count": 7,
   "metadata": {},
   "outputs": [
    {
     "data": {
      "text/html": [
       "<div>\n",
       "<style scoped>\n",
       "    .dataframe tbody tr th:only-of-type {\n",
       "        vertical-align: middle;\n",
       "    }\n",
       "\n",
       "    .dataframe tbody tr th {\n",
       "        vertical-align: top;\n",
       "    }\n",
       "\n",
       "    .dataframe thead th {\n",
       "        text-align: right;\n",
       "    }\n",
       "</style>\n",
       "<table border=\"1\" class=\"dataframe\">\n",
       "  <thead>\n",
       "    <tr style=\"text-align: right;\">\n",
       "      <th></th>\n",
       "      <th>LotArea</th>\n",
       "      <th>OverallQual</th>\n",
       "      <th>OverallCond</th>\n",
       "      <th>TotalBsmtSF</th>\n",
       "      <th>FullBath</th>\n",
       "      <th>HalfBath</th>\n",
       "      <th>BedroomAbvGr</th>\n",
       "      <th>TotRmsAbvGrd</th>\n",
       "      <th>Fireplaces</th>\n",
       "      <th>GarageArea</th>\n",
       "      <th>AboveMedianPrice</th>\n",
       "    </tr>\n",
       "  </thead>\n",
       "  <tbody>\n",
       "    <tr>\n",
       "      <th>count</th>\n",
       "      <td>1460.000000</td>\n",
       "      <td>1460.000000</td>\n",
       "      <td>1460.000000</td>\n",
       "      <td>1460.000000</td>\n",
       "      <td>1460.000000</td>\n",
       "      <td>1460.000000</td>\n",
       "      <td>1460.000000</td>\n",
       "      <td>1460.000000</td>\n",
       "      <td>1460.000000</td>\n",
       "      <td>1460.000000</td>\n",
       "      <td>1460.000000</td>\n",
       "    </tr>\n",
       "    <tr>\n",
       "      <th>mean</th>\n",
       "      <td>10516.828082</td>\n",
       "      <td>6.099315</td>\n",
       "      <td>5.575342</td>\n",
       "      <td>1057.429452</td>\n",
       "      <td>1.565068</td>\n",
       "      <td>0.382877</td>\n",
       "      <td>2.866438</td>\n",
       "      <td>6.517808</td>\n",
       "      <td>0.613014</td>\n",
       "      <td>472.980137</td>\n",
       "      <td>0.498630</td>\n",
       "    </tr>\n",
       "    <tr>\n",
       "      <th>std</th>\n",
       "      <td>9981.264932</td>\n",
       "      <td>1.382997</td>\n",
       "      <td>1.112799</td>\n",
       "      <td>438.705324</td>\n",
       "      <td>0.550916</td>\n",
       "      <td>0.502885</td>\n",
       "      <td>0.815778</td>\n",
       "      <td>1.625393</td>\n",
       "      <td>0.644666</td>\n",
       "      <td>213.804841</td>\n",
       "      <td>0.500169</td>\n",
       "    </tr>\n",
       "    <tr>\n",
       "      <th>min</th>\n",
       "      <td>1300.000000</td>\n",
       "      <td>1.000000</td>\n",
       "      <td>1.000000</td>\n",
       "      <td>0.000000</td>\n",
       "      <td>0.000000</td>\n",
       "      <td>0.000000</td>\n",
       "      <td>0.000000</td>\n",
       "      <td>2.000000</td>\n",
       "      <td>0.000000</td>\n",
       "      <td>0.000000</td>\n",
       "      <td>0.000000</td>\n",
       "    </tr>\n",
       "    <tr>\n",
       "      <th>25%</th>\n",
       "      <td>7553.500000</td>\n",
       "      <td>5.000000</td>\n",
       "      <td>5.000000</td>\n",
       "      <td>795.750000</td>\n",
       "      <td>1.000000</td>\n",
       "      <td>0.000000</td>\n",
       "      <td>2.000000</td>\n",
       "      <td>5.000000</td>\n",
       "      <td>0.000000</td>\n",
       "      <td>334.500000</td>\n",
       "      <td>0.000000</td>\n",
       "    </tr>\n",
       "    <tr>\n",
       "      <th>50%</th>\n",
       "      <td>9478.500000</td>\n",
       "      <td>6.000000</td>\n",
       "      <td>5.000000</td>\n",
       "      <td>991.500000</td>\n",
       "      <td>2.000000</td>\n",
       "      <td>0.000000</td>\n",
       "      <td>3.000000</td>\n",
       "      <td>6.000000</td>\n",
       "      <td>1.000000</td>\n",
       "      <td>480.000000</td>\n",
       "      <td>0.000000</td>\n",
       "    </tr>\n",
       "    <tr>\n",
       "      <th>75%</th>\n",
       "      <td>11601.500000</td>\n",
       "      <td>7.000000</td>\n",
       "      <td>6.000000</td>\n",
       "      <td>1298.250000</td>\n",
       "      <td>2.000000</td>\n",
       "      <td>1.000000</td>\n",
       "      <td>3.000000</td>\n",
       "      <td>7.000000</td>\n",
       "      <td>1.000000</td>\n",
       "      <td>576.000000</td>\n",
       "      <td>1.000000</td>\n",
       "    </tr>\n",
       "    <tr>\n",
       "      <th>max</th>\n",
       "      <td>215245.000000</td>\n",
       "      <td>10.000000</td>\n",
       "      <td>9.000000</td>\n",
       "      <td>6110.000000</td>\n",
       "      <td>3.000000</td>\n",
       "      <td>2.000000</td>\n",
       "      <td>8.000000</td>\n",
       "      <td>14.000000</td>\n",
       "      <td>3.000000</td>\n",
       "      <td>1418.000000</td>\n",
       "      <td>1.000000</td>\n",
       "    </tr>\n",
       "  </tbody>\n",
       "</table>\n",
       "</div>"
      ],
      "text/plain": [
       "             LotArea  OverallQual  OverallCond  TotalBsmtSF     FullBath  \\\n",
       "count    1460.000000  1460.000000  1460.000000  1460.000000  1460.000000   \n",
       "mean    10516.828082     6.099315     5.575342  1057.429452     1.565068   \n",
       "std      9981.264932     1.382997     1.112799   438.705324     0.550916   \n",
       "min      1300.000000     1.000000     1.000000     0.000000     0.000000   \n",
       "25%      7553.500000     5.000000     5.000000   795.750000     1.000000   \n",
       "50%      9478.500000     6.000000     5.000000   991.500000     2.000000   \n",
       "75%     11601.500000     7.000000     6.000000  1298.250000     2.000000   \n",
       "max    215245.000000    10.000000     9.000000  6110.000000     3.000000   \n",
       "\n",
       "          HalfBath  BedroomAbvGr  TotRmsAbvGrd   Fireplaces   GarageArea  \\\n",
       "count  1460.000000   1460.000000   1460.000000  1460.000000  1460.000000   \n",
       "mean      0.382877      2.866438      6.517808     0.613014   472.980137   \n",
       "std       0.502885      0.815778      1.625393     0.644666   213.804841   \n",
       "min       0.000000      0.000000      2.000000     0.000000     0.000000   \n",
       "25%       0.000000      2.000000      5.000000     0.000000   334.500000   \n",
       "50%       0.000000      3.000000      6.000000     1.000000   480.000000   \n",
       "75%       1.000000      3.000000      7.000000     1.000000   576.000000   \n",
       "max       2.000000      8.000000     14.000000     3.000000  1418.000000   \n",
       "\n",
       "       AboveMedianPrice  \n",
       "count       1460.000000  \n",
       "mean           0.498630  \n",
       "std            0.500169  \n",
       "min            0.000000  \n",
       "25%            0.000000  \n",
       "50%            0.000000  \n",
       "75%            1.000000  \n",
       "max            1.000000  "
      ]
     },
     "execution_count": 7,
     "metadata": {},
     "output_type": "execute_result"
    }
   ],
   "source": [
    "df.describe()\n"
   ]
  },
  {
   "cell_type": "code",
   "execution_count": 8,
   "metadata": {},
   "outputs": [],
   "source": [
    "dataset = df.values"
   ]
  },
  {
   "cell_type": "code",
   "execution_count": 9,
   "metadata": {},
   "outputs": [
    {
     "data": {
      "text/plain": [
       "array([[ 8450,     7,     5, ...,     0,   548,     1],\n",
       "       [ 9600,     6,     8, ...,     1,   460,     1],\n",
       "       [11250,     7,     5, ...,     1,   608,     1],\n",
       "       ...,\n",
       "       [ 9042,     7,     9, ...,     2,   252,     1],\n",
       "       [ 9717,     5,     6, ...,     0,   240,     0],\n",
       "       [ 9937,     5,     6, ...,     0,   276,     0]])"
      ]
     },
     "execution_count": 9,
     "metadata": {},
     "output_type": "execute_result"
    }
   ],
   "source": [
    "dataset"
   ]
  },
  {
   "cell_type": "code",
   "execution_count": 10,
   "metadata": {},
   "outputs": [],
   "source": [
    "x = dataset[:,0:10]"
   ]
  },
  {
   "cell_type": "code",
   "execution_count": 11,
   "metadata": {},
   "outputs": [],
   "source": [
    "y = dataset[:,10]"
   ]
  },
  {
   "cell_type": "code",
   "execution_count": 12,
   "metadata": {},
   "outputs": [],
   "source": [
    "from sklearn import preprocessing"
   ]
  },
  {
   "cell_type": "code",
   "execution_count": 13,
   "metadata": {},
   "outputs": [],
   "source": [
    "min_max_scaler = preprocessing.MinMaxScaler()\n",
    "x_scale = min_max_scaler.fit_transform(x)"
   ]
  },
  {
   "cell_type": "code",
   "execution_count": 14,
   "metadata": {},
   "outputs": [
    {
     "data": {
      "text/plain": [
       "array([[0.0334198 , 0.66666667, 0.5       , ..., 0.5       , 0.        ,\n",
       "        0.3864598 ],\n",
       "       [0.03879502, 0.55555556, 0.875     , ..., 0.33333333, 0.33333333,\n",
       "        0.32440056],\n",
       "       [0.04650728, 0.66666667, 0.5       , ..., 0.33333333, 0.33333333,\n",
       "        0.42877292],\n",
       "       ...,\n",
       "       [0.03618687, 0.66666667, 1.        , ..., 0.58333333, 0.66666667,\n",
       "        0.17771509],\n",
       "       [0.03934189, 0.44444444, 0.625     , ..., 0.25      , 0.        ,\n",
       "        0.16925247],\n",
       "       [0.04037019, 0.44444444, 0.625     , ..., 0.33333333, 0.        ,\n",
       "        0.19464034]])"
      ]
     },
     "execution_count": 14,
     "metadata": {},
     "output_type": "execute_result"
    }
   ],
   "source": [
    "x_scale"
   ]
  },
  {
   "cell_type": "code",
   "execution_count": 15,
   "metadata": {},
   "outputs": [],
   "source": [
    "from sklearn.model_selection import train_test_split"
   ]
  },
  {
   "cell_type": "code",
   "execution_count": 16,
   "metadata": {},
   "outputs": [],
   "source": [
    "x_train, x_val_and_test, y_train, y_val_and_test = train_test_split(\n",
    "    x_scale, y, test_size=0.3)"
   ]
  },
  {
   "cell_type": "code",
   "execution_count": 17,
   "metadata": {},
   "outputs": [],
   "source": [
    "x_val, x_test, y_val, y_test = train_test_split(x_val_and_test,\n",
    "                                                y_val_and_test,\n",
    "                                                test_size=0.5)"
   ]
  },
  {
   "cell_type": "code",
   "execution_count": 18,
   "metadata": {},
   "outputs": [
    {
     "name": "stdout",
     "output_type": "stream",
     "text": [
      "(1022, 10) (219, 10) (219, 10)\n",
      "(1022,) (219,) (219,)\n"
     ]
    }
   ],
   "source": [
    "print(x_train.shape, x_val.shape, x_test.shape)\n",
    "print(y_train.shape, y_val.shape, y_test.shape)"
   ]
  },
  {
   "cell_type": "code",
   "execution_count": 19,
   "metadata": {},
   "outputs": [],
   "source": [
    "import tensorflow as tf\n",
    "from tensorflow.keras import models, layers"
   ]
  },
  {
   "cell_type": "code",
   "execution_count": 20,
   "metadata": {},
   "outputs": [
    {
     "name": "stderr",
     "output_type": "stream",
     "text": [
      "WARNING: Logging before flag parsing goes to stderr.\n",
      "W0517 11:53:03.964344 4552322496 deprecation.py:506] From /Library/Frameworks/Python.framework/Versions/3.7/lib/python3.7/site-packages/tensorflow/python/ops/init_ops.py:1251: calling VarianceScaling.__init__ (from tensorflow.python.ops.init_ops) with dtype is deprecated and will be removed in a future version.\n",
      "Instructions for updating:\n",
      "Call initializer instance with the dtype argument instead of passing it to the constructor\n"
     ]
    }
   ],
   "source": [
    "model = tf.keras.models.Sequential([\n",
    "    tf.keras.layers.Dense(32, activation='relu', input_shape=(10, )),\n",
    "    tf.keras.layers.Dense(64, activation='relu'),\n",
    "    tf.keras.layers.Dense(1, activation='sigmoid')\n",
    "])"
   ]
  },
  {
   "cell_type": "code",
   "execution_count": 21,
   "metadata": {},
   "outputs": [
    {
     "name": "stderr",
     "output_type": "stream",
     "text": [
      "W0517 11:53:04.114196 4552322496 deprecation.py:323] From /Library/Frameworks/Python.framework/Versions/3.7/lib/python3.7/site-packages/tensorflow/python/ops/nn_impl.py:180: add_dispatch_support.<locals>.wrapper (from tensorflow.python.ops.array_ops) is deprecated and will be removed in a future version.\n",
      "Instructions for updating:\n",
      "Use tf.where in 2.0, which has the same broadcast rule as np.where\n"
     ]
    }
   ],
   "source": [
    "model.compile(optimizer='sgd',\n",
    "              loss='binary_crossentropy',\n",
    "              metrics=['accuracy'])"
   ]
  },
  {
   "cell_type": "code",
   "execution_count": 22,
   "metadata": {},
   "outputs": [
    {
     "name": "stdout",
     "output_type": "stream",
     "text": [
      "Train on 1022 samples, validate on 219 samples\n",
      "Epoch 1/100\n",
      "1022/1022 [==============================] - 0s 156us/sample - loss: 0.6819 - acc: 0.6800 - val_loss: 0.6821 - val_acc: 0.6575\n",
      "Epoch 2/100\n",
      "1022/1022 [==============================] - 0s 40us/sample - loss: 0.6759 - acc: 0.6898 - val_loss: 0.6777 - val_acc: 0.6530\n",
      "Epoch 3/100\n",
      "1022/1022 [==============================] - 0s 28us/sample - loss: 0.6708 - acc: 0.6937 - val_loss: 0.6736 - val_acc: 0.6621\n",
      "Epoch 4/100\n",
      "1022/1022 [==============================] - 0s 28us/sample - loss: 0.6658 - acc: 0.7319 - val_loss: 0.6694 - val_acc: 0.6804\n",
      "Epoch 5/100\n",
      "1022/1022 [==============================] - 0s 28us/sample - loss: 0.6607 - acc: 0.7436 - val_loss: 0.6652 - val_acc: 0.6941\n",
      "Epoch 6/100\n",
      "1022/1022 [==============================] - 0s 27us/sample - loss: 0.6557 - acc: 0.7407 - val_loss: 0.6611 - val_acc: 0.7169\n",
      "Epoch 7/100\n",
      "1022/1022 [==============================] - 0s 29us/sample - loss: 0.6508 - acc: 0.7622 - val_loss: 0.6571 - val_acc: 0.7260\n",
      "Epoch 8/100\n",
      "1022/1022 [==============================] - 0s 28us/sample - loss: 0.6460 - acc: 0.7710 - val_loss: 0.6531 - val_acc: 0.7260\n",
      "Epoch 9/100\n",
      "1022/1022 [==============================] - 0s 28us/sample - loss: 0.6412 - acc: 0.7720 - val_loss: 0.6490 - val_acc: 0.7215\n",
      "Epoch 10/100\n",
      "1022/1022 [==============================] - 0s 30us/sample - loss: 0.6360 - acc: 0.7828 - val_loss: 0.6447 - val_acc: 0.7169\n",
      "Epoch 11/100\n",
      "1022/1022 [==============================] - 0s 36us/sample - loss: 0.6308 - acc: 0.7730 - val_loss: 0.6403 - val_acc: 0.7169\n",
      "Epoch 12/100\n",
      "1022/1022 [==============================] - 0s 36us/sample - loss: 0.6254 - acc: 0.7828 - val_loss: 0.6357 - val_acc: 0.7215\n",
      "Epoch 13/100\n",
      "1022/1022 [==============================] - 0s 40us/sample - loss: 0.6198 - acc: 0.7798 - val_loss: 0.6309 - val_acc: 0.7215\n",
      "Epoch 14/100\n",
      "1022/1022 [==============================] - 0s 37us/sample - loss: 0.6137 - acc: 0.7877 - val_loss: 0.6258 - val_acc: 0.7397\n",
      "Epoch 15/100\n",
      "1022/1022 [==============================] - 0s 40us/sample - loss: 0.6074 - acc: 0.7877 - val_loss: 0.6204 - val_acc: 0.7397\n",
      "Epoch 16/100\n",
      "1022/1022 [==============================] - 0s 33us/sample - loss: 0.6009 - acc: 0.7896 - val_loss: 0.6149 - val_acc: 0.7443\n",
      "Epoch 17/100\n",
      "1022/1022 [==============================] - 0s 32us/sample - loss: 0.5940 - acc: 0.7945 - val_loss: 0.6090 - val_acc: 0.7443\n",
      "Epoch 18/100\n",
      "1022/1022 [==============================] - 0s 31us/sample - loss: 0.5867 - acc: 0.7935 - val_loss: 0.6029 - val_acc: 0.7489\n",
      "Epoch 19/100\n",
      "1022/1022 [==============================] - 0s 31us/sample - loss: 0.5791 - acc: 0.7945 - val_loss: 0.5964 - val_acc: 0.7580\n",
      "Epoch 20/100\n",
      "1022/1022 [==============================] - 0s 40us/sample - loss: 0.5712 - acc: 0.7994 - val_loss: 0.5896 - val_acc: 0.7626\n",
      "Epoch 21/100\n",
      "1022/1022 [==============================] - 0s 27us/sample - loss: 0.5628 - acc: 0.8023 - val_loss: 0.5826 - val_acc: 0.7580\n",
      "Epoch 22/100\n",
      "1022/1022 [==============================] - 0s 28us/sample - loss: 0.5541 - acc: 0.8082 - val_loss: 0.5751 - val_acc: 0.7626\n",
      "Epoch 23/100\n",
      "1022/1022 [==============================] - 0s 29us/sample - loss: 0.5449 - acc: 0.8141 - val_loss: 0.5672 - val_acc: 0.7717\n",
      "Epoch 24/100\n",
      "1022/1022 [==============================] - 0s 29us/sample - loss: 0.5355 - acc: 0.8112 - val_loss: 0.5595 - val_acc: 0.7717\n",
      "Epoch 25/100\n",
      "1022/1022 [==============================] - 0s 28us/sample - loss: 0.5263 - acc: 0.8180 - val_loss: 0.5517 - val_acc: 0.7900\n",
      "Epoch 26/100\n",
      "1022/1022 [==============================] - 0s 29us/sample - loss: 0.5172 - acc: 0.8160 - val_loss: 0.5441 - val_acc: 0.7763\n",
      "Epoch 27/100\n",
      "1022/1022 [==============================] - 0s 28us/sample - loss: 0.5077 - acc: 0.8200 - val_loss: 0.5361 - val_acc: 0.7945\n",
      "Epoch 28/100\n",
      "1022/1022 [==============================] - 0s 30us/sample - loss: 0.4988 - acc: 0.8249 - val_loss: 0.5282 - val_acc: 0.7991\n",
      "Epoch 29/100\n",
      "1022/1022 [==============================] - 0s 36us/sample - loss: 0.4892 - acc: 0.8278 - val_loss: 0.5209 - val_acc: 0.7763\n",
      "Epoch 30/100\n",
      "1022/1022 [==============================] - 0s 34us/sample - loss: 0.4798 - acc: 0.8317 - val_loss: 0.5124 - val_acc: 0.8037\n",
      "Epoch 31/100\n",
      "1022/1022 [==============================] - 0s 34us/sample - loss: 0.4705 - acc: 0.8366 - val_loss: 0.5045 - val_acc: 0.7991\n",
      "Epoch 32/100\n",
      "1022/1022 [==============================] - 0s 41us/sample - loss: 0.4616 - acc: 0.8366 - val_loss: 0.4976 - val_acc: 0.7991\n",
      "Epoch 33/100\n",
      "1022/1022 [==============================] - 0s 34us/sample - loss: 0.4530 - acc: 0.8395 - val_loss: 0.4899 - val_acc: 0.7991\n",
      "Epoch 34/100\n",
      "1022/1022 [==============================] - 0s 33us/sample - loss: 0.4448 - acc: 0.8415 - val_loss: 0.4831 - val_acc: 0.7991\n",
      "Epoch 35/100\n",
      "1022/1022 [==============================] - 0s 33us/sample - loss: 0.4365 - acc: 0.8454 - val_loss: 0.4763 - val_acc: 0.8128\n",
      "Epoch 36/100\n",
      "1022/1022 [==============================] - 0s 32us/sample - loss: 0.4291 - acc: 0.8464 - val_loss: 0.4699 - val_acc: 0.8128\n",
      "Epoch 37/100\n",
      "1022/1022 [==============================] - 0s 34us/sample - loss: 0.4216 - acc: 0.8523 - val_loss: 0.4637 - val_acc: 0.8128\n",
      "Epoch 38/100\n",
      "1022/1022 [==============================] - 0s 36us/sample - loss: 0.4147 - acc: 0.8532 - val_loss: 0.4582 - val_acc: 0.8174\n",
      "Epoch 39/100\n",
      "1022/1022 [==============================] - 0s 44us/sample - loss: 0.4078 - acc: 0.8523 - val_loss: 0.4534 - val_acc: 0.8082\n",
      "Epoch 40/100\n",
      "1022/1022 [==============================] - 0s 37us/sample - loss: 0.4017 - acc: 0.8601 - val_loss: 0.4468 - val_acc: 0.8174\n",
      "Epoch 41/100\n",
      "1022/1022 [==============================] - 0s 48us/sample - loss: 0.3952 - acc: 0.8542 - val_loss: 0.4417 - val_acc: 0.8174\n",
      "Epoch 42/100\n",
      "1022/1022 [==============================] - 0s 38us/sample - loss: 0.3894 - acc: 0.8562 - val_loss: 0.4370 - val_acc: 0.8128\n",
      "Epoch 43/100\n",
      "1022/1022 [==============================] - 0s 30us/sample - loss: 0.3842 - acc: 0.8581 - val_loss: 0.4317 - val_acc: 0.8219\n",
      "Epoch 44/100\n",
      "1022/1022 [==============================] - 0s 28us/sample - loss: 0.3790 - acc: 0.8601 - val_loss: 0.4272 - val_acc: 0.8219\n",
      "Epoch 45/100\n",
      "1022/1022 [==============================] - 0s 27us/sample - loss: 0.3747 - acc: 0.8562 - val_loss: 0.4231 - val_acc: 0.8174\n",
      "Epoch 46/100\n",
      "1022/1022 [==============================] - 0s 27us/sample - loss: 0.3693 - acc: 0.8659 - val_loss: 0.4188 - val_acc: 0.8219\n",
      "Epoch 47/100\n",
      "1022/1022 [==============================] - 0s 28us/sample - loss: 0.3647 - acc: 0.8630 - val_loss: 0.4159 - val_acc: 0.8128\n",
      "Epoch 48/100\n",
      "1022/1022 [==============================] - 0s 27us/sample - loss: 0.3609 - acc: 0.8611 - val_loss: 0.4130 - val_acc: 0.8311\n",
      "Epoch 49/100\n",
      "1022/1022 [==============================] - 0s 28us/sample - loss: 0.3569 - acc: 0.8659 - val_loss: 0.4076 - val_acc: 0.8265\n",
      "Epoch 50/100\n",
      "1022/1022 [==============================] - 0s 27us/sample - loss: 0.3531 - acc: 0.8679 - val_loss: 0.4042 - val_acc: 0.8265\n",
      "Epoch 51/100\n",
      "1022/1022 [==============================] - 0s 27us/sample - loss: 0.3496 - acc: 0.8659 - val_loss: 0.4011 - val_acc: 0.8311\n",
      "Epoch 52/100\n",
      "1022/1022 [==============================] - 0s 29us/sample - loss: 0.3461 - acc: 0.8630 - val_loss: 0.3980 - val_acc: 0.8265\n",
      "Epoch 53/100\n",
      "1022/1022 [==============================] - 0s 31us/sample - loss: 0.3437 - acc: 0.8640 - val_loss: 0.3954 - val_acc: 0.8402\n",
      "Epoch 54/100\n",
      "1022/1022 [==============================] - 0s 31us/sample - loss: 0.3397 - acc: 0.8679 - val_loss: 0.3918 - val_acc: 0.8356\n",
      "Epoch 55/100\n",
      "1022/1022 [==============================] - 0s 30us/sample - loss: 0.3373 - acc: 0.8679 - val_loss: 0.3898 - val_acc: 0.8402\n",
      "Epoch 56/100\n",
      "1022/1022 [==============================] - 0s 30us/sample - loss: 0.3345 - acc: 0.8659 - val_loss: 0.3868 - val_acc: 0.8402\n",
      "Epoch 57/100\n",
      "1022/1022 [==============================] - 0s 30us/sample - loss: 0.3323 - acc: 0.8669 - val_loss: 0.3845 - val_acc: 0.8402\n",
      "Epoch 58/100\n",
      "1022/1022 [==============================] - 0s 33us/sample - loss: 0.3292 - acc: 0.8659 - val_loss: 0.3817 - val_acc: 0.8311\n",
      "Epoch 59/100\n"
     ]
    },
    {
     "name": "stdout",
     "output_type": "stream",
     "text": [
      "1022/1022 [==============================] - 0s 31us/sample - loss: 0.3283 - acc: 0.8650 - val_loss: 0.3793 - val_acc: 0.8311\n",
      "Epoch 60/100\n",
      "1022/1022 [==============================] - 0s 29us/sample - loss: 0.3256 - acc: 0.8669 - val_loss: 0.3775 - val_acc: 0.8402\n",
      "Epoch 61/100\n",
      "1022/1022 [==============================] - 0s 30us/sample - loss: 0.3233 - acc: 0.8669 - val_loss: 0.3761 - val_acc: 0.8402\n",
      "Epoch 62/100\n",
      "1022/1022 [==============================] - 0s 30us/sample - loss: 0.3214 - acc: 0.8679 - val_loss: 0.3728 - val_acc: 0.8356\n",
      "Epoch 63/100\n",
      "1022/1022 [==============================] - 0s 31us/sample - loss: 0.3198 - acc: 0.8669 - val_loss: 0.3709 - val_acc: 0.8402\n",
      "Epoch 64/100\n",
      "1022/1022 [==============================] - 0s 31us/sample - loss: 0.3181 - acc: 0.8718 - val_loss: 0.3691 - val_acc: 0.8402\n",
      "Epoch 65/100\n",
      "1022/1022 [==============================] - 0s 31us/sample - loss: 0.3158 - acc: 0.8699 - val_loss: 0.3687 - val_acc: 0.8356\n",
      "Epoch 66/100\n",
      "1022/1022 [==============================] - 0s 33us/sample - loss: 0.3143 - acc: 0.8659 - val_loss: 0.3654 - val_acc: 0.8402\n",
      "Epoch 67/100\n",
      "1022/1022 [==============================] - 0s 32us/sample - loss: 0.3113 - acc: 0.8738 - val_loss: 0.3700 - val_acc: 0.8402\n",
      "Epoch 68/100\n",
      "1022/1022 [==============================] - 0s 35us/sample - loss: 0.3113 - acc: 0.8699 - val_loss: 0.3620 - val_acc: 0.8402\n",
      "Epoch 69/100\n",
      "1022/1022 [==============================] - 0s 44us/sample - loss: 0.3104 - acc: 0.8708 - val_loss: 0.3611 - val_acc: 0.8356\n",
      "Epoch 70/100\n",
      "1022/1022 [==============================] - 0s 34us/sample - loss: 0.3092 - acc: 0.8728 - val_loss: 0.3592 - val_acc: 0.8356\n",
      "Epoch 71/100\n",
      "1022/1022 [==============================] - 0s 32us/sample - loss: 0.3073 - acc: 0.8708 - val_loss: 0.3590 - val_acc: 0.8402\n",
      "Epoch 72/100\n",
      "1022/1022 [==============================] - 0s 34us/sample - loss: 0.3064 - acc: 0.8708 - val_loss: 0.3574 - val_acc: 0.8402\n",
      "Epoch 73/100\n",
      "1022/1022 [==============================] - 0s 34us/sample - loss: 0.3052 - acc: 0.8738 - val_loss: 0.3546 - val_acc: 0.8356\n",
      "Epoch 74/100\n",
      "1022/1022 [==============================] - 0s 28us/sample - loss: 0.3037 - acc: 0.8748 - val_loss: 0.3547 - val_acc: 0.8402\n",
      "Epoch 75/100\n",
      "1022/1022 [==============================] - 0s 28us/sample - loss: 0.3028 - acc: 0.8777 - val_loss: 0.3516 - val_acc: 0.8402\n",
      "Epoch 76/100\n",
      "1022/1022 [==============================] - 0s 27us/sample - loss: 0.3015 - acc: 0.8738 - val_loss: 0.3503 - val_acc: 0.8356\n",
      "Epoch 77/100\n",
      "1022/1022 [==============================] - 0s 28us/sample - loss: 0.2999 - acc: 0.8767 - val_loss: 0.3517 - val_acc: 0.8402\n",
      "Epoch 78/100\n",
      "1022/1022 [==============================] - 0s 35us/sample - loss: 0.2990 - acc: 0.8767 - val_loss: 0.3477 - val_acc: 0.8356\n",
      "Epoch 79/100\n",
      "1022/1022 [==============================] - 0s 33us/sample - loss: 0.2987 - acc: 0.8767 - val_loss: 0.3467 - val_acc: 0.8402\n",
      "Epoch 80/100\n",
      "1022/1022 [==============================] - 0s 30us/sample - loss: 0.2978 - acc: 0.8777 - val_loss: 0.3453 - val_acc: 0.8311\n",
      "Epoch 81/100\n",
      "1022/1022 [==============================] - 0s 33us/sample - loss: 0.2970 - acc: 0.8806 - val_loss: 0.3447 - val_acc: 0.8402\n",
      "Epoch 82/100\n",
      "1022/1022 [==============================] - 0s 34us/sample - loss: 0.2954 - acc: 0.8767 - val_loss: 0.3434 - val_acc: 0.8402\n",
      "Epoch 83/100\n",
      "1022/1022 [==============================] - 0s 32us/sample - loss: 0.2948 - acc: 0.8777 - val_loss: 0.3423 - val_acc: 0.8402\n",
      "Epoch 84/100\n",
      "1022/1022 [==============================] - 0s 34us/sample - loss: 0.2940 - acc: 0.8767 - val_loss: 0.3411 - val_acc: 0.8402\n",
      "Epoch 85/100\n",
      "1022/1022 [==============================] - 0s 30us/sample - loss: 0.2931 - acc: 0.8826 - val_loss: 0.3421 - val_acc: 0.8402\n",
      "Epoch 86/100\n",
      "1022/1022 [==============================] - 0s 28us/sample - loss: 0.2934 - acc: 0.8826 - val_loss: 0.3396 - val_acc: 0.8402\n",
      "Epoch 87/100\n",
      "1022/1022 [==============================] - 0s 28us/sample - loss: 0.2918 - acc: 0.8787 - val_loss: 0.3383 - val_acc: 0.8402\n",
      "Epoch 88/100\n",
      "1022/1022 [==============================] - 0s 29us/sample - loss: 0.2913 - acc: 0.8816 - val_loss: 0.3369 - val_acc: 0.8356\n",
      "Epoch 89/100\n",
      "1022/1022 [==============================] - 0s 26us/sample - loss: 0.2903 - acc: 0.8836 - val_loss: 0.3369 - val_acc: 0.8402\n",
      "Epoch 90/100\n",
      "1022/1022 [==============================] - 0s 29us/sample - loss: 0.2896 - acc: 0.8806 - val_loss: 0.3349 - val_acc: 0.8356\n",
      "Epoch 91/100\n",
      "1022/1022 [==============================] - 0s 29us/sample - loss: 0.2890 - acc: 0.8845 - val_loss: 0.3342 - val_acc: 0.8356\n",
      "Epoch 92/100\n",
      "1022/1022 [==============================] - 0s 29us/sample - loss: 0.2882 - acc: 0.8826 - val_loss: 0.3342 - val_acc: 0.8402\n",
      "Epoch 93/100\n",
      "1022/1022 [==============================] - 0s 27us/sample - loss: 0.2871 - acc: 0.8826 - val_loss: 0.3330 - val_acc: 0.8402\n",
      "Epoch 94/100\n",
      "1022/1022 [==============================] - 0s 27us/sample - loss: 0.2859 - acc: 0.8806 - val_loss: 0.3310 - val_acc: 0.8402\n",
      "Epoch 95/100\n",
      "1022/1022 [==============================] - 0s 26us/sample - loss: 0.2860 - acc: 0.8865 - val_loss: 0.3301 - val_acc: 0.8402\n",
      "Epoch 96/100\n",
      "1022/1022 [==============================] - 0s 26us/sample - loss: 0.2850 - acc: 0.8855 - val_loss: 0.3323 - val_acc: 0.8356\n",
      "Epoch 97/100\n",
      "1022/1022 [==============================] - 0s 27us/sample - loss: 0.2844 - acc: 0.8806 - val_loss: 0.3284 - val_acc: 0.8447\n",
      "Epoch 98/100\n",
      "1022/1022 [==============================] - 0s 27us/sample - loss: 0.2845 - acc: 0.8836 - val_loss: 0.3281 - val_acc: 0.8356\n",
      "Epoch 99/100\n",
      "1022/1022 [==============================] - 0s 26us/sample - loss: 0.2832 - acc: 0.8885 - val_loss: 0.3267 - val_acc: 0.8447\n",
      "Epoch 100/100\n",
      "1022/1022 [==============================] - 0s 28us/sample - loss: 0.2828 - acc: 0.8885 - val_loss: 0.3259 - val_acc: 0.8447\n"
     ]
    }
   ],
   "source": [
    "hist = model.fit(x_train,\n",
    "                 y_train,\n",
    "                 batch_size=32,\n",
    "                 epochs=100,\n",
    "                 validation_data=(x_val, y_val))"
   ]
  },
  {
   "cell_type": "code",
   "execution_count": 23,
   "metadata": {},
   "outputs": [
    {
     "name": "stdout",
     "output_type": "stream",
     "text": [
      "219/219 [==============================] - 0s 31us/sample - loss: 0.2522 - acc: 0.9178\n"
     ]
    },
    {
     "data": {
      "text/plain": [
       "0.91780823"
      ]
     },
     "execution_count": 23,
     "metadata": {},
     "output_type": "execute_result"
    }
   ],
   "source": [
    "model.evaluate(x_test, y_test)[1]\n"
   ]
  },
  {
   "cell_type": "code",
   "execution_count": 24,
   "metadata": {},
   "outputs": [
    {
     "data": {
      "image/png": "[encoded data removed]",
      "text/plain": [
       "<Figure size 432x288 with 1 Axes>"
      ]
     },
     "metadata": {
      "needs_background": "light"
     },
     "output_type": "display_data"
    }
   ],
   "source": [
    "plt.plot(hist.history['acc'])\n",
    "plt.plot(hist.history['val_acc'])\n",
    "plt.ylabel('Accuracy')\n",
    "plt.xlabel('Epoch')\n",
    "plt.legend(['Train', 'Val'], loc='lower right')\n",
    "\n",
    "plt.show()"
   ]
  },
  {
   "cell_type": "markdown",
   "metadata": {},
   "source": [
    "#### Reference: https://www.freecodecamp.org/news/how-to-build-your-first-neural-network-to-predict-house-prices-with-keras-f8db83049159/"
   ]
  },
  {
   "cell_type": "code",
   "execution_count": null,
   "metadata": {},
   "outputs": [],
   "source": []
  }
 ],
 "metadata": {
  "kernelspec": {
   "display_name": "Python 3",
   "language": "python",
   "name": "python3"
  },
  "language_info": {
   "codemirror_mode": {
    "name": "ipython",
    "version": 3
   },
   "file_extension": ".py",
   "mimetype": "text/x-python",
   "name": "python",
   "nbconvert_exporter": "python",
   "pygments_lexer": "ipython3",
   "version": "3.7.0"
  },
  "toc": {
   "base_numbering": 1,
   "nav_menu": {},
   "number_sections": true,
   "sideBar": true,
   "skip_h1_title": false,
   "title_cell": "Table of Contents",
   "title_sidebar": "Contents",
   "toc_cell": false,
   "toc_position": {
    "height": "calc(100% - 180px)",
    "left": "10px",
    "top": "150px",
    "width": "165px"
   },
   "toc_section_display": true,
   "toc_window_display": true
  }
 },
 "nbformat": 4,
 "nbformat_minor": 2
}
