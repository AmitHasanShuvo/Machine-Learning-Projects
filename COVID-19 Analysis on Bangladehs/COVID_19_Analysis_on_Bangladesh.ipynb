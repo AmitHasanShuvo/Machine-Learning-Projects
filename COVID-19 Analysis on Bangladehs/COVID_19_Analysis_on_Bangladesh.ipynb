{
  "nbformat": 4,
  "nbformat_minor": 0,
  "metadata": {
    "kernelspec": {
      "language": "python",
      "display_name": "Python 3",
      "name": "python3"
    },
    "language_info": {
      "pygments_lexer": "ipython3",
      "nbconvert_exporter": "python",
      "version": "3.6.4",
      "file_extension": ".py",
      "codemirror_mode": {
        "name": "ipython",
        "version": 3
      },
      "name": "python",
      "mimetype": "text/x-python"
    },
    "colab": {
      "name": "COVID-19 Analysis on Bangladesh.ipynb",
      "provenance": [],
      "collapsed_sections": [],
      "include_colab_link": true
    }
  },
  "cells": [
    {
      "cell_type": "markdown",
      "metadata": {
        "id": "view-in-github",
        "colab_type": "text"
      },
      "source": [
        "<a href=\"https://colab.research.google.com/github/AmitHasanShuvo/Machine-Learning-Projects/blob/master/COVID_19_Analysis_on_Bangladesh.ipynb\" target=\"_parent\"><img src=\"https://colab.research.google.com/assets/colab-badge.svg\" alt=\"Open In Colab\"/></a>"
      ]
    },
    {
      "cell_type": "code",
      "metadata": {
        "_uuid": "d629ff2d2480ee46fbb7e2d37f6b5fab8052498a",
        "_cell_guid": "79c7e3d0-c299-4dcb-8224-4455121ee9b0",
        "trusted": true,
        "id": "TtBZGVkozLYa",
        "colab_type": "code",
        "colab": {}
      },
      "source": [
        "import numpy as np\n",
        "import pandas as pd \n",
        "import seaborn as sns\n",
        "import matplotlib.pyplot as plt\n",
        "import matplotlib.dates as mdates\n",
        "import plotly.express as px\n",
        "import plotly.graph_objs as go\n",
        "from plotly.subplots import make_subplots\n",
        "from fbprophet.plot import plot_plotly, add_changepoints_to_plot\n",
        "import plotly.offline as py\n",
        "from datetime import date, timedelta\n",
        "from statsmodels.tsa.arima_model import ARIMA\n",
        "from sklearn.cluster import KMeans\n",
        "from fbprophet import Prophet"
      ],
      "execution_count": 0,
      "outputs": []
    },
    {
      "cell_type": "code",
      "metadata": {
        "trusted": true,
        "id": "Clie6MZ-zLYd",
        "colab_type": "code",
        "colab": {}
      },
      "source": [
        "dataset=pd.read_csv(\"../input/corona-virus-report/covid_19_clean_complete.csv\")\n"
      ],
      "execution_count": 0,
      "outputs": []
    },
    {
      "cell_type": "code",
      "metadata": {
        "trusted": true,
        "id": "KIjnTIWWzLYg",
        "colab_type": "code",
        "colab": {}
      },
      "source": [
        "dataset.shape\n"
      ],
      "execution_count": 0,
      "outputs": []
    },
    {
      "cell_type": "code",
      "metadata": {
        "trusted": true,
        "id": "Yfhe7f-mzLYi",
        "colab_type": "code",
        "colab": {}
      },
      "source": [
        "dataset.describe()\n"
      ],
      "execution_count": 0,
      "outputs": []
    },
    {
      "cell_type": "code",
      "metadata": {
        "trusted": true,
        "id": "vn8VvCvmzLYk",
        "colab_type": "code",
        "colab": {}
      },
      "source": [
        "daily = dataset.sort_values(['Date','Country/Region','Province/State'])\n",
        "latest = dataset[dataset.Date == daily.Date.max()]\n",
        "latest.head()"
      ],
      "execution_count": 0,
      "outputs": []
    },
    {
      "cell_type": "code",
      "metadata": {
        "trusted": true,
        "id": "fnmOo2OgzLYp",
        "colab_type": "code",
        "colab": {}
      },
      "source": [
        "data=latest.rename(columns={ \"Country/Region\": \"country\", \"Province/State\": \"state\",\"Confirmed\":\"confirm\",\"Deaths\": \"death\",\"Recovered\":\"recover\"})\n",
        "data.head()"
      ],
      "execution_count": 0,
      "outputs": []
    },
    {
      "cell_type": "code",
      "metadata": {
        "trusted": true,
        "id": "ot43MS1czLYs",
        "colab_type": "code",
        "colab": {}
      },
      "source": [
        "dgc=data.groupby(\"country\")[['confirm', 'death', 'recover']].sum().reset_index()\n",
        "\n",
        "dgc.head()"
      ],
      "execution_count": 0,
      "outputs": []
    },
    {
      "cell_type": "code",
      "metadata": {
        "trusted": true,
        "id": "ixpYALCczLYv",
        "colab_type": "code",
        "colab": {}
      },
      "source": [
        "import folium\n",
        "worldmap = folium.Map(location=[32.4279,53.6880 ], zoom_start=4,tiles='Stamen Toner')\n",
        "\n",
        "for Lat, Long, state in zip(data['Lat'], data['Long'],data['state']):\n",
        "    folium.CircleMarker([Lat, Long],\n",
        "                        radius=5,\n",
        "                        color='red',\n",
        "                      popup =('State: ' + str(state) + '<br>'),\n",
        "                        fill_color='red',\n",
        "                        fill_opacity=0.7 ).add_to(worldmap)\n",
        "worldmap"
      ],
      "execution_count": 0,
      "outputs": []
    },
    {
      "cell_type": "code",
      "metadata": {
        "trusted": true,
        "id": "mwYTWThFzLY0",
        "colab_type": "code",
        "colab": {}
      },
      "source": [
        "fig = px.bar(dgc[['country', 'confirm']].sort_values('confirm', ascending=False), \n",
        "             y=\"confirm\", x=\"country\", color='country', \n",
        "             log_y=True, template='ggplot2', title='Confirmed Cases')\n",
        "fig.show()"
      ],
      "execution_count": 0,
      "outputs": []
    },
    {
      "cell_type": "code",
      "metadata": {
        "trusted": true,
        "id": "AheDtO68zLY3",
        "colab_type": "code",
        "colab": {}
      },
      "source": [
        "fig = px.bar(dgc[['country', 'recover']].sort_values('recover', ascending=False), \n",
        "             y=\"recover\", x=\"country\", color='country', \n",
        "             log_y=True, template='ggplot2', title='Recovered Cases')\n",
        "fig.show()"
      ],
      "execution_count": 0,
      "outputs": []
    },
    {
      "cell_type": "code",
      "metadata": {
        "trusted": true,
        "id": "A60ZcR2WzLY7",
        "colab_type": "code",
        "colab": {}
      },
      "source": [
        "fig = px.bar(dgc[['country', 'death']].sort_values('death', ascending=False), \n",
        "             y=\"death\", x=\"country\", color='country', \n",
        "             log_y=True, template='ggplot2', title='Death')\n",
        "fig.show()"
      ],
      "execution_count": 0,
      "outputs": []
    },
    {
      "cell_type": "code",
      "metadata": {
        "trusted": true,
        "id": "gbqmqSWrzLY-",
        "colab_type": "code",
        "colab": {}
      },
      "source": [
        "bd_data = dataset[dataset['Country/Region']=='Bangladesh']\n",
        "bdata = bd_data.tail(22)\n",
        "bdata.head(50)"
      ],
      "execution_count": 0,
      "outputs": []
    },
    {
      "cell_type": "code",
      "metadata": {
        "trusted": true,
        "id": "GM1tgiLrzLZB",
        "colab_type": "code",
        "colab": {}
      },
      "source": [
        "plt.figure(figsize=(23,10))\n",
        "plt.bar(bdata.Date, bdata.Confirmed,label=\"Confirm\")\n",
        "plt.xlabel('Date')\n",
        "plt.ylabel(\"Count\")\n",
        "plt.legend(frameon=True, fontsize=12)\n",
        "plt.title(\"Confirmation\",fontsize=50)\n",
        "plt.show()\n",
        "\n",
        "plt.figure(figsize=(23,10))\n",
        "plt.bar(bdata.Date, bdata.Recovered,label=\"Recovery\")\n",
        "plt.xlabel('Date')\n",
        "plt.ylabel(\"Count\")\n",
        "plt.legend(frameon=True, fontsize=12)\n",
        "plt.title(\"Recoverey\",fontsize=50)\n",
        "plt.show()\n",
        "\n",
        "\n",
        "plt.figure(figsize=(23,10))\n",
        "plt.bar(bdata.Date, bdata.Deaths,label=\"Death\")\n",
        "plt.xlabel('Date')\n",
        "plt.ylabel(\"Count\")\n",
        "plt.legend(frameon=True, fontsize=12)\n",
        "plt.title(\"Death\",fontsize=50)\n",
        "plt.show()"
      ],
      "execution_count": 0,
      "outputs": []
    },
    {
      "cell_type": "code",
      "metadata": {
        "trusted": true,
        "id": "XNE46iDnzLZE",
        "colab_type": "code",
        "colab": {}
      },
      "source": [
        "plt.figure(figsize=(23,10))\n",
        "plt.bar(bdata.Date, bdata.Confirmed,label=\"Confirm\")\n",
        "plt.bar(bdata.Date, bdata.Recovered,label=\"Recovery\")\n",
        "plt.bar(bdata.Date, bdata.Deaths,label=\"Death\")\n",
        "plt.xlabel('Date')\n",
        "plt.ylabel(\"Count\")\n",
        "plt.legend(frameon=True, fontsize=12)\n",
        "plt.title(\"Confirmation vs Recoverey vs Death\",fontsize=50)\n",
        "plt.show()\n",
        "\n",
        "f, ax = plt.subplots(figsize=(23,10))\n",
        "ax=sns.scatterplot(x=\"Date\", y=\"Confirmed\", data=bdata,\n",
        "             color=\"black\",label = \"Confirm\")\n",
        "ax=sns.scatterplot(x=\"Date\", y=\"Recovered\", data=bdata,\n",
        "             color=\"red\",label = \"Recovery\")\n",
        "ax=sns.scatterplot(x=\"Date\", y=\"Deaths\", data=bdata,\n",
        "             color=\"blue\",label = \"Death\")\n",
        "plt.plot(bdata.Date,bdata.Confirmed,zorder=1,color=\"black\")\n",
        "plt.plot(bdata.Date,bdata.Recovered,zorder=1,color=\"red\")\n",
        "plt.plot(bdata.Date,bdata.Deaths,zorder=1,color=\"blue\")"
      ],
      "execution_count": 0,
      "outputs": []
    },
    {
      "cell_type": "code",
      "metadata": {
        "trusted": true,
        "id": "h2euidTxzLZJ",
        "colab_type": "code",
        "colab": {}
      },
      "source": [
        "bdata['Confirmed_new'] = bdata['Confirmed']-bdata['Confirmed'].shift(1)\n",
        "bdata['Recovered_new'] = bdata['Recovered']-bdata['Recovered'].shift(1)\n",
        "bdata['Deaths_new'] = bdata['Deaths']-bdata['Deaths'].shift(1)"
      ],
      "execution_count": 0,
      "outputs": []
    },
    {
      "cell_type": "code",
      "metadata": {
        "trusted": true,
        "id": "eYj6PbnHzLZM",
        "colab_type": "code",
        "colab": {}
      },
      "source": [
        "bdata = bdata.fillna(0)\n"
      ],
      "execution_count": 0,
      "outputs": []
    },
    {
      "cell_type": "code",
      "metadata": {
        "trusted": true,
        "id": "rQB__CmJzLZO",
        "colab_type": "code",
        "colab": {}
      },
      "source": [
        "plt.figure(figsize=(23,10))\n",
        "plt.bar(bdata.Date, bdata.Confirmed_new,label=\"Confirm Cases\")\n",
        "plt.xlabel('Date')\n",
        "plt.ylabel(\"Count\")\n",
        "plt.legend(frameon=True, fontsize=12)\n",
        "plt.title('Confirmed Cases',fontsize = 35)\n",
        "plt.show()\n",
        "\n",
        "\n",
        "plt.figure(figsize=(23,10))\n",
        "plt.bar(bdata.Date, bdata.Recovered_new,label=\"Recovered Cases\")\n",
        "plt.xlabel('Date')\n",
        "plt.ylabel(\"Count\")\n",
        "plt.legend(frameon=True, fontsize=12)\n",
        "plt.title('Recovered Cases',fontsize = 35)\n",
        "plt.show()\n",
        "\n",
        "plt.figure(figsize=(23,10))\n",
        "plt.bar(bdata.Date, bdata.Deaths_new,label=\"Deaths\")\n",
        "plt.xlabel('Date')\n",
        "plt.ylabel(\"Count\")\n",
        "plt.legend(frameon=True, fontsize=12)\n",
        "plt.title('Deaths',fontsize = 35)\n",
        "plt.show()"
      ],
      "execution_count": 0,
      "outputs": []
    },
    {
      "cell_type": "code",
      "metadata": {
        "trusted": true,
        "id": "7cNMz4XZzLZR",
        "colab_type": "code",
        "colab": {}
      },
      "source": [
        "bdata.head()\n"
      ],
      "execution_count": 0,
      "outputs": []
    },
    {
      "cell_type": "code",
      "metadata": {
        "trusted": true,
        "id": "WPcW2niXzLZV",
        "colab_type": "code",
        "colab": {}
      },
      "source": [
        "f, ax = plt.subplots(figsize=(23,10))\n",
        "ax=sns.scatterplot(x=\"Date\", y=\"Confirmed_new\", data=bdata,\n",
        "             color=\"black\",label = \"Confirm\")\n",
        "ax=sns.scatterplot(x=\"Date\", y=\"Recovered_new\", data=bdata,\n",
        "             color=\"red\",label = \"Recovery\")\n",
        "ax=sns.scatterplot(x=\"Date\", y=\"Deaths_new\", data=bdata,\n",
        "             color=\"blue\",label = \"Death\")\n",
        "plt.plot(bdata.Date,bdata.Confirmed_new,zorder=1,color=\"black\")\n",
        "plt.plot(bdata.Date,bdata.Recovered_new,zorder=1,color=\"red\")\n",
        "plt.plot(bdata.Date,bdata.Deaths_new,zorder=1,color=\"blue\")"
      ],
      "execution_count": 0,
      "outputs": []
    },
    {
      "cell_type": "code",
      "metadata": {
        "trusted": true,
        "id": "DaPRHbkDzLZX",
        "colab_type": "code",
        "colab": {}
      },
      "source": [
        "dgd=data.groupby(\"Date\")[['confirm', 'death', 'recover']].sum().reset_index()\n",
        "\n",
        "dgd.head()"
      ],
      "execution_count": 0,
      "outputs": []
    },
    {
      "cell_type": "code",
      "metadata": {
        "trusted": true,
        "id": "oMQYQma-zLZa",
        "colab_type": "code",
        "colab": {}
      },
      "source": [
        "r_cm = float(dgd.recover/dgd.confirm)\n",
        "d_cm = float(dgd.death/dgd.confirm)"
      ],
      "execution_count": 0,
      "outputs": []
    },
    {
      "cell_type": "code",
      "metadata": {
        "trusted": true,
        "id": "AyMJjswJzLZd",
        "colab_type": "code",
        "colab": {}
      },
      "source": [
        "print(\"The percentage of recovery after confirmation is \"+ str(r_cm*100) )\n",
        "print(\"The percentage of death after confirmation is \"+ str(d_cm*100) )"
      ],
      "execution_count": 0,
      "outputs": []
    },
    {
      "cell_type": "code",
      "metadata": {
        "trusted": true,
        "id": "RlY60Xk2zLZf",
        "colab_type": "code",
        "colab": {}
      },
      "source": [
        "global_data = pd.read_csv(\"../input/novel-corona-virus-2019-dataset/covid_19_data.csv\")"
      ],
      "execution_count": 0,
      "outputs": []
    },
    {
      "cell_type": "code",
      "metadata": {
        "trusted": true,
        "id": "H1vNmQ_OzLZi",
        "colab_type": "code",
        "colab": {}
      },
      "source": [
        "# This functions smooths data, thanks to Dan Pearson. We will use it to smooth the data for growth factor.\n",
        "def smoother(inputdata,w,imax):\n",
        "    data = 1.0*inputdata\n",
        "    data = data.replace(np.nan,1)\n",
        "    data = data.replace(np.inf,1)\n",
        "    #print(data)\n",
        "    smoothed = 1.0*data\n",
        "    normalization = 1\n",
        "    for i in range(-imax,imax+1):\n",
        "        if i==0:\n",
        "            continue\n",
        "        smoothed += (w**abs(i))*data.shift(i,axis=0)\n",
        "        normalization += w**abs(i)\n",
        "    smoothed /= normalization\n",
        "    return smoothed\n",
        "\n",
        "def growth_factor(confirmed):\n",
        "    confirmed_iminus1 = confirmed.shift(1, axis=0)\n",
        "    confirmed_iminus2 = confirmed.shift(2, axis=0)\n",
        "    return (confirmed-confirmed_iminus1)/(confirmed_iminus1-confirmed_iminus2)\n",
        "\n",
        "def growth_ratio(confirmed):\n",
        "    confirmed_iminus1 = confirmed.shift(1, axis=0)\n",
        "    return (confirmed/confirmed_iminus1)\n",
        "\n",
        "# This is a function which plots (for in input country) the active, confirmed, and recovered cases, deaths, and the growth factor.\n",
        "def plot_country_active_confirmed_recovered(country):\n",
        "    \n",
        "    # Plots Active, Confirmed, and Recovered Cases. Also plots deaths.\n",
        "    country_data = global_data[global_data['Country/Region']==country]\n",
        "    table = country_data.drop(['SNo','Province/State', 'Last Update'], axis=1)\n",
        "    table['ActiveCases'] = table['Confirmed'] - table['Recovered'] - table['Deaths']\n",
        "    table2 = pd.pivot_table(table, values=['ActiveCases','Confirmed', 'Recovered','Deaths'], index=['ObservationDate'], aggfunc=np.sum)\n",
        "    table3 = table2.drop(['Deaths'], axis=1)\n",
        "   \n",
        "    # Growth Factor\n",
        "    w = 0.5\n",
        "    table2['GrowthFactor'] = growth_factor(table2['Confirmed'])\n",
        "    table2['GrowthFactor'] = smoother(table2['GrowthFactor'],w,5)\n",
        "\n",
        "    # 2nd Derivative\n",
        "    table2['2nd_Derivative'] = np.gradient(np.gradient(table2['Confirmed'])) #2nd derivative\n",
        "    table2['2nd_Derivative'] = smoother(table2['2nd_Derivative'],w,7)\n",
        "\n",
        "\n",
        "    #Plot confirmed[i]/confirmed[i-1], this is called the growth ratio\n",
        "    table2['GrowthRatio'] = growth_ratio(table2['Confirmed'])\n",
        "    table2['GrowthRatio'] = smoother(table2['GrowthRatio'],w,5)\n",
        "    \n",
        "    #Plot the growth rate, we will define this as k in the logistic function presented at the beginning of this notebook.\n",
        "    table2['GrowthRate']=np.gradient(np.log(table2['Confirmed']))\n",
        "    table2['GrowthRate'] = smoother(table2['GrowthRate'],0.5,3)\n",
        "    \n",
        "    # horizontal line at growth rate 1.0 for reference\n",
        "    x_coordinates = [1, 100]\n",
        "    y_coordinates = [1, 1]\n",
        "    #plots\n",
        "    table2['Deaths'].plot(title='Deaths')\n",
        "    plt.show()\n",
        "    table3.plot() \n",
        "    plt.show()\n",
        "    table2['GrowthFactor'].plot(title='Growth Factor')\n",
        "    plt.plot(x_coordinates, y_coordinates) \n",
        "    plt.show()\n",
        "    table2['2nd_Derivative'].plot(title='2nd_Derivative')\n",
        "    plt.show()\n",
        "    table2['GrowthRatio'].plot(title='Growth Ratio')\n",
        "    plt.plot(x_coordinates, y_coordinates)\n",
        "    plt.show()\n",
        "    table2['GrowthRate'].plot(title='Growth Rate')\n",
        "    plt.show()\n",
        "\n",
        "    return "
      ],
      "execution_count": 0,
      "outputs": []
    },
    {
      "cell_type": "code",
      "metadata": {
        "trusted": true,
        "id": "YueiH8kczLZk",
        "colab_type": "code",
        "colab": {}
      },
      "source": [
        "plot_country_active_confirmed_recovered('Bangladesh')\n"
      ],
      "execution_count": 0,
      "outputs": []
    },
    {
      "cell_type": "code",
      "metadata": {
        "trusted": true,
        "id": "amvgC8DPzLZp",
        "colab_type": "code",
        "colab": {}
      },
      "source": [
        "prophet=bd_data.iloc[: , [4,5 ]].copy() \n",
        "prophet.head()\n",
        "prophet.columns = ['ds','y']\n",
        "prophet.head()"
      ],
      "execution_count": 0,
      "outputs": []
    },
    {
      "cell_type": "code",
      "metadata": {
        "trusted": true,
        "id": "1JGjVBvVzLZr",
        "colab_type": "code",
        "colab": {}
      },
      "source": [
        "m=Prophet()\n",
        "m.fit(prophet)\n",
        "future=m.make_future_dataframe(periods=15)\n",
        "forecast=m.predict(future)\n",
        "forecast"
      ],
      "execution_count": 0,
      "outputs": []
    },
    {
      "cell_type": "code",
      "metadata": {
        "trusted": true,
        "id": "28pOQT9QzLZu",
        "colab_type": "code",
        "colab": {}
      },
      "source": [
        "cnfrm = forecast.loc[:,['ds','trend']]\n",
        "cnfrm = cnfrm[cnfrm['trend']>0]\n",
        "cnfrm=cnfrm.tail(15)\n",
        "cnfrm.columns = ['Date','Confirm']\n",
        "cnfrm.head()"
      ],
      "execution_count": 0,
      "outputs": []
    },
    {
      "cell_type": "code",
      "metadata": {
        "trusted": true,
        "id": "3Zq-_BGQzLZx",
        "colab_type": "code",
        "colab": {}
      },
      "source": [
        "figure = plot_plotly(m, forecast)\n",
        "py.iplot(figure) \n",
        "\n",
        "figure = m.plot(forecast,xlabel='Date',ylabel='Confirmed Count')"
      ],
      "execution_count": 0,
      "outputs": []
    },
    {
      "cell_type": "code",
      "metadata": {
        "trusted": true,
        "id": "p03dCg7azLZ0",
        "colab_type": "code",
        "colab": {}
      },
      "source": [
        "figure=m.plot_components(forecast)\n"
      ],
      "execution_count": 0,
      "outputs": []
    },
    {
      "cell_type": "code",
      "metadata": {
        "trusted": true,
        "id": "z9zwXPjTzLZ3",
        "colab_type": "code",
        "colab": {}
      },
      "source": [
        "prophet_rec=bd_data.iloc[: , [4,7 ]].copy() \n",
        "prophet_rec.head()\n",
        "prophet_rec.columns = ['ds','y']\n",
        "prophet_rec.head()"
      ],
      "execution_count": 0,
      "outputs": []
    },
    {
      "cell_type": "code",
      "metadata": {
        "trusted": true,
        "id": "rTDNK1YqzLZ8",
        "colab_type": "code",
        "colab": {}
      },
      "source": [
        "m1=Prophet()\n",
        "m1.fit(prophet_rec)\n",
        "future_rec=m1.make_future_dataframe(periods=15)\n",
        "forecast_rec=m1.predict(future_rec)\n",
        "forecast_rec"
      ],
      "execution_count": 0,
      "outputs": []
    },
    {
      "cell_type": "code",
      "metadata": {
        "trusted": true,
        "id": "sohawR9uzLZ-",
        "colab_type": "code",
        "colab": {}
      },
      "source": [
        "rec = forecast_rec.loc[:,['ds','trend']]\n",
        "rec = rec[rec['trend']>0]\n",
        "rec=rec.tail(15)\n",
        "rec.columns = ['Date','Recovery']\n",
        "rec.head()"
      ],
      "execution_count": 0,
      "outputs": []
    },
    {
      "cell_type": "code",
      "metadata": {
        "trusted": true,
        "id": "7zKlm8iRzLaV",
        "colab_type": "code",
        "colab": {}
      },
      "source": [
        "figure_rec = plot_plotly(m1, forecast_rec)\n",
        "py.iplot(figure_rec) \n",
        "\n",
        "figure_rec = m1.plot(forecast_rec,xlabel='Date',ylabel='Recovery Count')"
      ],
      "execution_count": 0,
      "outputs": []
    },
    {
      "cell_type": "code",
      "metadata": {
        "trusted": true,
        "id": "q3kDcYddzLaX",
        "colab_type": "code",
        "colab": {}
      },
      "source": [
        "figure_rec=m1.plot_components(forecast_rec)\n"
      ],
      "execution_count": 0,
      "outputs": []
    },
    {
      "cell_type": "code",
      "metadata": {
        "trusted": true,
        "id": "ZZmEBguHzLaZ",
        "colab_type": "code",
        "colab": {}
      },
      "source": [
        "prophet_dth=bd_data.iloc[: , [4,6 ]].copy() \n",
        "prophet_dth.head()\n",
        "prophet_dth.columns = ['ds','y']\n",
        "prophet_dth.head()"
      ],
      "execution_count": 0,
      "outputs": []
    },
    {
      "cell_type": "code",
      "metadata": {
        "trusted": true,
        "id": "DLtEwN2gzLab",
        "colab_type": "code",
        "colab": {}
      },
      "source": [
        "m2=Prophet()\n",
        "m2.fit(prophet_dth)\n",
        "future_dth=m2.make_future_dataframe(periods=15)\n",
        "forecast_dth=m2.predict(future_dth)\n",
        "forecast_dth"
      ],
      "execution_count": 0,
      "outputs": []
    },
    {
      "cell_type": "code",
      "metadata": {
        "trusted": true,
        "id": "1TEA5M9yzLad",
        "colab_type": "code",
        "colab": {}
      },
      "source": [
        "dth = forecast_dth.loc[:,['ds','trend']]\n",
        "dth = dth[dth['trend']>0]\n",
        "dth=dth.tail(15)\n",
        "dth.columns = ['Date','Death']\n",
        "dth.head()"
      ],
      "execution_count": 0,
      "outputs": []
    },
    {
      "cell_type": "code",
      "metadata": {
        "trusted": true,
        "id": "dkOShz2dzLaf",
        "colab_type": "code",
        "colab": {}
      },
      "source": [
        "figure_dth = plot_plotly(m2, forecast_dth)\n",
        "py.iplot(figure_dth) \n",
        "\n",
        "figure_dth = m2.plot(forecast_dth,xlabel='Date',ylabel='Death Count')"
      ],
      "execution_count": 0,
      "outputs": []
    },
    {
      "cell_type": "code",
      "metadata": {
        "trusted": true,
        "id": "vDeP7agzzLak",
        "colab_type": "code",
        "colab": {}
      },
      "source": [
        "figure_dth=m2.plot_components(forecast_dth)\n"
      ],
      "execution_count": 0,
      "outputs": []
    },
    {
      "cell_type": "code",
      "metadata": {
        "trusted": true,
        "id": "dzcUq_JOzLan",
        "colab_type": "code",
        "colab": {}
      },
      "source": [
        "prediction = cnfrm\n",
        "prediction['Recover'] = rec.Recovery\n",
        "prediction['Death'] = dth.Death\n",
        "prediction.head()"
      ],
      "execution_count": 0,
      "outputs": []
    },
    {
      "cell_type": "code",
      "metadata": {
        "trusted": true,
        "id": "MGU1eCMuzLap",
        "colab_type": "code",
        "colab": {}
      },
      "source": [
        "pr_pps = float(prediction.Recover.sum()/prediction.Confirm.sum())\n",
        "pd_pps = float(prediction.Death.sum()/prediction.Confirm.sum())"
      ],
      "execution_count": 0,
      "outputs": []
    },
    {
      "cell_type": "code",
      "metadata": {
        "trusted": true,
        "id": "WaKY2WIhzLar",
        "colab_type": "code",
        "colab": {}
      },
      "source": [
        "print(\"The percentage of Predicted recovery after confirmation is \"+ str(pr_pps*100) )\n",
        "print(\"The percentage of Predicted Death after confirmation is \"+ str(pd_pps*100) )"
      ],
      "execution_count": 0,
      "outputs": []
    },
    {
      "cell_type": "code",
      "metadata": {
        "trusted": true,
        "id": "uBPCdOEXzLau",
        "colab_type": "code",
        "colab": {}
      },
      "source": [
        ""
      ],
      "execution_count": 0,
      "outputs": []
    }
  ]
}