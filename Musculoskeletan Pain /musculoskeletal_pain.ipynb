{
 "cells": [
  {
   "cell_type": "markdown",
   "metadata": {},
   "source": [
    "# Data Mining Analysis of mechanisms- based classification of musculoskeletal pain in clinical practice \n",
    "\n",
    "## Dataset: \n",
    "The data from this study are a sample of 464 patients, each one assigned to one of the three types of pain by a group of experienced physiotherapists. The assessment was carried out according to a list of 36 binary clinical indicators (“Present”/“Absent”). These indicators are selected on an expert consensus basis regarding symptoms and features of the patients.\n",
    "\n",
    "## Our Study: \n",
    "\n",
    "1. Are there any interesting patterns in the presence/absence clinical criteria for lower back pain? <br>\n",
    "2. Do the patients form groups with similar presence/absence clinical criteria? Do these groups have a connection with the clinical pain types?\n",
    "3. Can we use the presence/absence clinical criteria to accurately predict the clinical pain types?\n",
    "\n",
    "\n"
   ]
  },
  {
   "cell_type": "markdown",
   "metadata": {},
   "source": [
    "## Implementing Association Rules mining to find the frequent symptoms"
   ]
  },
  {
   "cell_type": "code",
   "execution_count": 179,
   "metadata": {
    "colab": {},
    "colab_type": "code",
    "id": "VtLMUkCWxOZb"
   },
   "outputs": [],
   "source": [
    "import pandas as pd\n",
    "import numpy as np"
   ]
  },
  {
   "cell_type": "code",
   "execution_count": 180,
   "metadata": {
    "colab": {},
    "colab_type": "code",
    "id": "H5YzQgX6DH3k"
   },
   "outputs": [],
   "source": [
    "data = pd.read_csv('dataupdated.csv')"
   ]
  },
  {
   "cell_type": "markdown",
   "metadata": {},
   "source": [
    "### Data Preprocessing"
   ]
  },
  {
   "cell_type": "code",
   "execution_count": 182,
   "metadata": {
    "colab": {
     "base_uri": "https://localhost:8080/",
     "height": 224
    },
    "colab_type": "code",
    "id": "XLchjvhPDRSX",
    "outputId": "be3a41bc-3cd5-4bba-8d49-33f9a8385f81"
   },
   "outputs": [
    {
     "data": {
      "text/html": [
       "<div>\n",
       "<style scoped>\n",
       "    .dataframe tbody tr th:only-of-type {\n",
       "        vertical-align: middle;\n",
       "    }\n",
       "\n",
       "    .dataframe tbody tr th {\n",
       "        vertical-align: top;\n",
       "    }\n",
       "\n",
       "    .dataframe thead th {\n",
       "        text-align: right;\n",
       "    }\n",
       "</style>\n",
       "<table border=\"1\" class=\"dataframe\">\n",
       "  <thead>\n",
       "    <tr style=\"text-align: right;\">\n",
       "      <th></th>\n",
       "      <th>No</th>\n",
       "      <th>recent_pain</th>\n",
       "      <th>assoc_trauma</th>\n",
       "      <th>nerve_injury_history</th>\n",
       "      <th>X4</th>\n",
       "      <th>disp_pain</th>\n",
       "      <th>intermitt</th>\n",
       "      <th>burning</th>\n",
       "      <th>localised</th>\n",
       "      <th>referred</th>\n",
       "      <th>...</th>\n",
       "      <th>non_mechanical</th>\n",
       "      <th>pos_neurological</th>\n",
       "      <th>local_palpation</th>\n",
       "      <th>Diffuse</th>\n",
       "      <th>allodynia</th>\n",
       "      <th>hyperalgesia</th>\n",
       "      <th>hyperpathia</th>\n",
       "      <th>palpation_neural_tissues</th>\n",
       "      <th>identification_psychosocial</th>\n",
       "      <th>assignedlabels</th>\n",
       "    </tr>\n",
       "  </thead>\n",
       "  <tbody>\n",
       "    <tr>\n",
       "      <th>0</th>\n",
       "      <td>1</td>\n",
       "      <td>0</td>\n",
       "      <td>1</td>\n",
       "      <td>0</td>\n",
       "      <td>0</td>\n",
       "      <td>1</td>\n",
       "      <td>0</td>\n",
       "      <td>0</td>\n",
       "      <td>1</td>\n",
       "      <td>0</td>\n",
       "      <td>...</td>\n",
       "      <td>0</td>\n",
       "      <td>0</td>\n",
       "      <td>1</td>\n",
       "      <td>0</td>\n",
       "      <td>0</td>\n",
       "      <td>0</td>\n",
       "      <td>0</td>\n",
       "      <td>0</td>\n",
       "      <td>0</td>\n",
       "      <td>Nociceptive</td>\n",
       "    </tr>\n",
       "    <tr>\n",
       "      <th>1</th>\n",
       "      <td>2</td>\n",
       "      <td>0</td>\n",
       "      <td>1</td>\n",
       "      <td>0</td>\n",
       "      <td>0</td>\n",
       "      <td>1</td>\n",
       "      <td>0</td>\n",
       "      <td>0</td>\n",
       "      <td>1</td>\n",
       "      <td>0</td>\n",
       "      <td>...</td>\n",
       "      <td>0</td>\n",
       "      <td>0</td>\n",
       "      <td>0</td>\n",
       "      <td>0</td>\n",
       "      <td>0</td>\n",
       "      <td>0</td>\n",
       "      <td>0</td>\n",
       "      <td>0</td>\n",
       "      <td>0</td>\n",
       "      <td>Nociceptive</td>\n",
       "    </tr>\n",
       "    <tr>\n",
       "      <th>2</th>\n",
       "      <td>3</td>\n",
       "      <td>0</td>\n",
       "      <td>1</td>\n",
       "      <td>0</td>\n",
       "      <td>0</td>\n",
       "      <td>1</td>\n",
       "      <td>0</td>\n",
       "      <td>0</td>\n",
       "      <td>1</td>\n",
       "      <td>0</td>\n",
       "      <td>...</td>\n",
       "      <td>0</td>\n",
       "      <td>0</td>\n",
       "      <td>1</td>\n",
       "      <td>0</td>\n",
       "      <td>0</td>\n",
       "      <td>1</td>\n",
       "      <td>1</td>\n",
       "      <td>0</td>\n",
       "      <td>0</td>\n",
       "      <td>Nociceptive</td>\n",
       "    </tr>\n",
       "    <tr>\n",
       "      <th>3</th>\n",
       "      <td>4</td>\n",
       "      <td>0</td>\n",
       "      <td>1</td>\n",
       "      <td>1</td>\n",
       "      <td>0</td>\n",
       "      <td>0</td>\n",
       "      <td>0</td>\n",
       "      <td>1</td>\n",
       "      <td>0</td>\n",
       "      <td>1</td>\n",
       "      <td>...</td>\n",
       "      <td>0</td>\n",
       "      <td>0</td>\n",
       "      <td>0</td>\n",
       "      <td>0</td>\n",
       "      <td>0</td>\n",
       "      <td>0</td>\n",
       "      <td>0</td>\n",
       "      <td>0</td>\n",
       "      <td>0</td>\n",
       "      <td>PeripheralNeuropathic</td>\n",
       "    </tr>\n",
       "    <tr>\n",
       "      <th>4</th>\n",
       "      <td>5</td>\n",
       "      <td>1</td>\n",
       "      <td>1</td>\n",
       "      <td>0</td>\n",
       "      <td>0</td>\n",
       "      <td>1</td>\n",
       "      <td>0</td>\n",
       "      <td>0</td>\n",
       "      <td>1</td>\n",
       "      <td>0</td>\n",
       "      <td>...</td>\n",
       "      <td>0</td>\n",
       "      <td>0</td>\n",
       "      <td>0</td>\n",
       "      <td>0</td>\n",
       "      <td>0</td>\n",
       "      <td>0</td>\n",
       "      <td>0</td>\n",
       "      <td>0</td>\n",
       "      <td>0</td>\n",
       "      <td>Nociceptive</td>\n",
       "    </tr>\n",
       "  </tbody>\n",
       "</table>\n",
       "<p>5 rows × 38 columns</p>\n",
       "</div>"
      ],
      "text/plain": [
       "   No  recent_pain  assoc_trauma  nerve_injury_history  X4  disp_pain  \\\n",
       "0   1            0             1                     0   0          1   \n",
       "1   2            0             1                     0   0          1   \n",
       "2   3            0             1                     0   0          1   \n",
       "3   4            0             1                     1   0          0   \n",
       "4   5            1             1                     0   0          1   \n",
       "\n",
       "   intermitt  burning  localised  referred  ...  non_mechanical  \\\n",
       "0          0        0          1         0  ...               0   \n",
       "1          0        0          1         0  ...               0   \n",
       "2          0        0          1         0  ...               0   \n",
       "3          0        1          0         1  ...               0   \n",
       "4          0        0          1         0  ...               0   \n",
       "\n",
       "   pos_neurological  local_palpation  Diffuse  allodynia  hyperalgesia  \\\n",
       "0                 0                1        0          0             0   \n",
       "1                 0                0        0          0             0   \n",
       "2                 0                1        0          0             1   \n",
       "3                 0                0        0          0             0   \n",
       "4                 0                0        0          0             0   \n",
       "\n",
       "   hyperpathia  palpation_neural_tissues  identification_psychosocial  \\\n",
       "0            0                         0                            0   \n",
       "1            0                         0                            0   \n",
       "2            1                         0                            0   \n",
       "3            0                         0                            0   \n",
       "4            0                         0                            0   \n",
       "\n",
       "          assignedlabels  \n",
       "0            Nociceptive  \n",
       "1            Nociceptive  \n",
       "2            Nociceptive  \n",
       "3  PeripheralNeuropathic  \n",
       "4            Nociceptive  \n",
       "\n",
       "[5 rows x 38 columns]"
      ]
     },
     "execution_count": 182,
     "metadata": {},
     "output_type": "execute_result"
    }
   ],
   "source": [
    "data.head()"
   ]
  },
  {
   "cell_type": "code",
   "execution_count": 217,
   "metadata": {},
   "outputs": [
    {
     "data": {
      "text/plain": [
       "Index(['No', 'recent_pain', 'assoc_trauma', 'nerve_injury_history', 'X4',\n",
       "       'disp_pain', 'intermitt', 'burning', 'localised', 'referred',\n",
       "       'widespread', 'mech_nature', 'mech_movement', 'disproportionate',\n",
       "       'spont', 'dyesthesias', 'high_sev', 'neurological_symp', 'night_pain',\n",
       "       'NSAIDS', 'rapid_resolve', 'pain_persist', 'history_failed',\n",
       "       'psychosocial', 'functional', 'Antalgic', 'Consistent',\n",
       "       'compress_neural_tissue', 'non_mechanical', 'pos_neurological',\n",
       "       'local_palpation', 'Diffuse', 'allodynia', 'hyperalgesia',\n",
       "       'hyperpathia', 'palpation_neural_tissues',\n",
       "       'identification_psychosocial', 'assignedlabels'],\n",
       "      dtype='object')"
      ]
     },
     "execution_count": 217,
     "metadata": {},
     "output_type": "execute_result"
    }
   ],
   "source": [
    "data.columns"
   ]
  },
  {
   "cell_type": "code",
   "execution_count": 181,
   "metadata": {
    "colab": {},
    "colab_type": "code",
    "id": "XouTmGFyEgSZ"
   },
   "outputs": [
    {
     "data": {
      "text/html": [
       "<div>\n",
       "<style scoped>\n",
       "    .dataframe tbody tr th:only-of-type {\n",
       "        vertical-align: middle;\n",
       "    }\n",
       "\n",
       "    .dataframe tbody tr th {\n",
       "        vertical-align: top;\n",
       "    }\n",
       "\n",
       "    .dataframe thead th {\n",
       "        text-align: right;\n",
       "    }\n",
       "</style>\n",
       "<table border=\"1\" class=\"dataframe\">\n",
       "  <thead>\n",
       "    <tr style=\"text-align: right;\">\n",
       "      <th></th>\n",
       "      <th>No</th>\n",
       "      <th>recent_pain</th>\n",
       "      <th>assoc_trauma</th>\n",
       "      <th>nerve_injury_history</th>\n",
       "      <th>X4</th>\n",
       "      <th>disp_pain</th>\n",
       "      <th>intermitt</th>\n",
       "      <th>burning</th>\n",
       "      <th>localised</th>\n",
       "      <th>referred</th>\n",
       "      <th>...</th>\n",
       "      <th>compress_neural_tissue</th>\n",
       "      <th>non_mechanical</th>\n",
       "      <th>pos_neurological</th>\n",
       "      <th>local_palpation</th>\n",
       "      <th>Diffuse</th>\n",
       "      <th>allodynia</th>\n",
       "      <th>hyperalgesia</th>\n",
       "      <th>hyperpathia</th>\n",
       "      <th>palpation_neural_tissues</th>\n",
       "      <th>identification_psychosocial</th>\n",
       "    </tr>\n",
       "  </thead>\n",
       "  <tbody>\n",
       "    <tr>\n",
       "      <th>count</th>\n",
       "      <td>464.000000</td>\n",
       "      <td>464.000000</td>\n",
       "      <td>464.000000</td>\n",
       "      <td>464.000000</td>\n",
       "      <td>464.000000</td>\n",
       "      <td>464.000000</td>\n",
       "      <td>464.000000</td>\n",
       "      <td>464.000000</td>\n",
       "      <td>464.000000</td>\n",
       "      <td>464.000000</td>\n",
       "      <td>...</td>\n",
       "      <td>464.000000</td>\n",
       "      <td>464.000000</td>\n",
       "      <td>464.000000</td>\n",
       "      <td>464.000000</td>\n",
       "      <td>464.000000</td>\n",
       "      <td>464.000000</td>\n",
       "      <td>464.000000</td>\n",
       "      <td>464.000000</td>\n",
       "      <td>464.000000</td>\n",
       "      <td>464.000000</td>\n",
       "    </tr>\n",
       "    <tr>\n",
       "      <th>mean</th>\n",
       "      <td>232.500000</td>\n",
       "      <td>0.150862</td>\n",
       "      <td>0.719828</td>\n",
       "      <td>0.327586</td>\n",
       "      <td>0.243534</td>\n",
       "      <td>0.767241</td>\n",
       "      <td>0.232759</td>\n",
       "      <td>0.370690</td>\n",
       "      <td>0.696121</td>\n",
       "      <td>0.310345</td>\n",
       "      <td>...</td>\n",
       "      <td>0.318966</td>\n",
       "      <td>0.193966</td>\n",
       "      <td>0.215517</td>\n",
       "      <td>0.696121</td>\n",
       "      <td>0.183190</td>\n",
       "      <td>0.090517</td>\n",
       "      <td>0.303879</td>\n",
       "      <td>0.221983</td>\n",
       "      <td>0.221983</td>\n",
       "      <td>0.293103</td>\n",
       "    </tr>\n",
       "    <tr>\n",
       "      <th>std</th>\n",
       "      <td>134.089522</td>\n",
       "      <td>0.358301</td>\n",
       "      <td>0.449568</td>\n",
       "      <td>0.469840</td>\n",
       "      <td>0.429678</td>\n",
       "      <td>0.423046</td>\n",
       "      <td>0.423046</td>\n",
       "      <td>0.483511</td>\n",
       "      <td>0.460428</td>\n",
       "      <td>0.463134</td>\n",
       "      <td>...</td>\n",
       "      <td>0.466579</td>\n",
       "      <td>0.395829</td>\n",
       "      <td>0.411624</td>\n",
       "      <td>0.460428</td>\n",
       "      <td>0.387239</td>\n",
       "      <td>0.287231</td>\n",
       "      <td>0.460428</td>\n",
       "      <td>0.416028</td>\n",
       "      <td>0.416028</td>\n",
       "      <td>0.455677</td>\n",
       "    </tr>\n",
       "    <tr>\n",
       "      <th>min</th>\n",
       "      <td>1.000000</td>\n",
       "      <td>0.000000</td>\n",
       "      <td>0.000000</td>\n",
       "      <td>0.000000</td>\n",
       "      <td>0.000000</td>\n",
       "      <td>0.000000</td>\n",
       "      <td>0.000000</td>\n",
       "      <td>0.000000</td>\n",
       "      <td>0.000000</td>\n",
       "      <td>0.000000</td>\n",
       "      <td>...</td>\n",
       "      <td>0.000000</td>\n",
       "      <td>0.000000</td>\n",
       "      <td>0.000000</td>\n",
       "      <td>0.000000</td>\n",
       "      <td>0.000000</td>\n",
       "      <td>0.000000</td>\n",
       "      <td>0.000000</td>\n",
       "      <td>0.000000</td>\n",
       "      <td>0.000000</td>\n",
       "      <td>0.000000</td>\n",
       "    </tr>\n",
       "    <tr>\n",
       "      <th>25%</th>\n",
       "      <td>116.750000</td>\n",
       "      <td>0.000000</td>\n",
       "      <td>0.000000</td>\n",
       "      <td>0.000000</td>\n",
       "      <td>0.000000</td>\n",
       "      <td>1.000000</td>\n",
       "      <td>0.000000</td>\n",
       "      <td>0.000000</td>\n",
       "      <td>0.000000</td>\n",
       "      <td>0.000000</td>\n",
       "      <td>...</td>\n",
       "      <td>0.000000</td>\n",
       "      <td>0.000000</td>\n",
       "      <td>0.000000</td>\n",
       "      <td>0.000000</td>\n",
       "      <td>0.000000</td>\n",
       "      <td>0.000000</td>\n",
       "      <td>0.000000</td>\n",
       "      <td>0.000000</td>\n",
       "      <td>0.000000</td>\n",
       "      <td>0.000000</td>\n",
       "    </tr>\n",
       "    <tr>\n",
       "      <th>50%</th>\n",
       "      <td>232.500000</td>\n",
       "      <td>0.000000</td>\n",
       "      <td>1.000000</td>\n",
       "      <td>0.000000</td>\n",
       "      <td>0.000000</td>\n",
       "      <td>1.000000</td>\n",
       "      <td>0.000000</td>\n",
       "      <td>0.000000</td>\n",
       "      <td>1.000000</td>\n",
       "      <td>0.000000</td>\n",
       "      <td>...</td>\n",
       "      <td>0.000000</td>\n",
       "      <td>0.000000</td>\n",
       "      <td>0.000000</td>\n",
       "      <td>1.000000</td>\n",
       "      <td>0.000000</td>\n",
       "      <td>0.000000</td>\n",
       "      <td>0.000000</td>\n",
       "      <td>0.000000</td>\n",
       "      <td>0.000000</td>\n",
       "      <td>0.000000</td>\n",
       "    </tr>\n",
       "    <tr>\n",
       "      <th>75%</th>\n",
       "      <td>348.250000</td>\n",
       "      <td>0.000000</td>\n",
       "      <td>1.000000</td>\n",
       "      <td>1.000000</td>\n",
       "      <td>0.000000</td>\n",
       "      <td>1.000000</td>\n",
       "      <td>0.000000</td>\n",
       "      <td>1.000000</td>\n",
       "      <td>1.000000</td>\n",
       "      <td>1.000000</td>\n",
       "      <td>...</td>\n",
       "      <td>1.000000</td>\n",
       "      <td>0.000000</td>\n",
       "      <td>0.000000</td>\n",
       "      <td>1.000000</td>\n",
       "      <td>0.000000</td>\n",
       "      <td>0.000000</td>\n",
       "      <td>1.000000</td>\n",
       "      <td>0.000000</td>\n",
       "      <td>0.000000</td>\n",
       "      <td>1.000000</td>\n",
       "    </tr>\n",
       "    <tr>\n",
       "      <th>max</th>\n",
       "      <td>464.000000</td>\n",
       "      <td>1.000000</td>\n",
       "      <td>1.000000</td>\n",
       "      <td>1.000000</td>\n",
       "      <td>1.000000</td>\n",
       "      <td>1.000000</td>\n",
       "      <td>1.000000</td>\n",
       "      <td>1.000000</td>\n",
       "      <td>1.000000</td>\n",
       "      <td>1.000000</td>\n",
       "      <td>...</td>\n",
       "      <td>1.000000</td>\n",
       "      <td>1.000000</td>\n",
       "      <td>1.000000</td>\n",
       "      <td>1.000000</td>\n",
       "      <td>1.000000</td>\n",
       "      <td>1.000000</td>\n",
       "      <td>1.000000</td>\n",
       "      <td>1.000000</td>\n",
       "      <td>1.000000</td>\n",
       "      <td>1.000000</td>\n",
       "    </tr>\n",
       "  </tbody>\n",
       "</table>\n",
       "<p>8 rows × 37 columns</p>\n",
       "</div>"
      ],
      "text/plain": [
       "               No  recent_pain  assoc_trauma  nerve_injury_history  \\\n",
       "count  464.000000   464.000000    464.000000            464.000000   \n",
       "mean   232.500000     0.150862      0.719828              0.327586   \n",
       "std    134.089522     0.358301      0.449568              0.469840   \n",
       "min      1.000000     0.000000      0.000000              0.000000   \n",
       "25%    116.750000     0.000000      0.000000              0.000000   \n",
       "50%    232.500000     0.000000      1.000000              0.000000   \n",
       "75%    348.250000     0.000000      1.000000              1.000000   \n",
       "max    464.000000     1.000000      1.000000              1.000000   \n",
       "\n",
       "               X4   disp_pain   intermitt     burning   localised    referred  \\\n",
       "count  464.000000  464.000000  464.000000  464.000000  464.000000  464.000000   \n",
       "mean     0.243534    0.767241    0.232759    0.370690    0.696121    0.310345   \n",
       "std      0.429678    0.423046    0.423046    0.483511    0.460428    0.463134   \n",
       "min      0.000000    0.000000    0.000000    0.000000    0.000000    0.000000   \n",
       "25%      0.000000    1.000000    0.000000    0.000000    0.000000    0.000000   \n",
       "50%      0.000000    1.000000    0.000000    0.000000    1.000000    0.000000   \n",
       "75%      0.000000    1.000000    0.000000    1.000000    1.000000    1.000000   \n",
       "max      1.000000    1.000000    1.000000    1.000000    1.000000    1.000000   \n",
       "\n",
       "       ...  compress_neural_tissue  non_mechanical  pos_neurological  \\\n",
       "count  ...              464.000000      464.000000        464.000000   \n",
       "mean   ...                0.318966        0.193966          0.215517   \n",
       "std    ...                0.466579        0.395829          0.411624   \n",
       "min    ...                0.000000        0.000000          0.000000   \n",
       "25%    ...                0.000000        0.000000          0.000000   \n",
       "50%    ...                0.000000        0.000000          0.000000   \n",
       "75%    ...                1.000000        0.000000          0.000000   \n",
       "max    ...                1.000000        1.000000          1.000000   \n",
       "\n",
       "       local_palpation     Diffuse   allodynia  hyperalgesia  hyperpathia  \\\n",
       "count       464.000000  464.000000  464.000000    464.000000   464.000000   \n",
       "mean          0.696121    0.183190    0.090517      0.303879     0.221983   \n",
       "std           0.460428    0.387239    0.287231      0.460428     0.416028   \n",
       "min           0.000000    0.000000    0.000000      0.000000     0.000000   \n",
       "25%           0.000000    0.000000    0.000000      0.000000     0.000000   \n",
       "50%           1.000000    0.000000    0.000000      0.000000     0.000000   \n",
       "75%           1.000000    0.000000    0.000000      1.000000     0.000000   \n",
       "max           1.000000    1.000000    1.000000      1.000000     1.000000   \n",
       "\n",
       "       palpation_neural_tissues  identification_psychosocial  \n",
       "count                464.000000                   464.000000  \n",
       "mean                   0.221983                     0.293103  \n",
       "std                    0.416028                     0.455677  \n",
       "min                    0.000000                     0.000000  \n",
       "25%                    0.000000                     0.000000  \n",
       "50%                    0.000000                     0.000000  \n",
       "75%                    0.000000                     1.000000  \n",
       "max                    1.000000                     1.000000  \n",
       "\n",
       "[8 rows x 37 columns]"
      ]
     },
     "execution_count": 181,
     "metadata": {},
     "output_type": "execute_result"
    }
   ],
   "source": [
    "data.describe()"
   ]
  },
  {
   "cell_type": "code",
   "execution_count": 183,
   "metadata": {
    "colab": {},
    "colab_type": "code",
    "id": "1nWDr0IUDSYj"
   },
   "outputs": [
    {
     "data": {
      "text/plain": [
       "No                             464\n",
       "recent_pain                    464\n",
       "assoc_trauma                   464\n",
       "nerve_injury_history           464\n",
       "X4                             464\n",
       "disp_pain                      464\n",
       "intermitt                      464\n",
       "burning                        464\n",
       "localised                      464\n",
       "referred                       464\n",
       "widespread                     464\n",
       "mech_nature                    464\n",
       "mech_movement                  464\n",
       "disproportionate               464\n",
       "spont                          464\n",
       "dyesthesias                    464\n",
       "high_sev                       464\n",
       "neurological_symp              464\n",
       "night_pain                     464\n",
       "NSAIDS                         464\n",
       "rapid_resolve                  464\n",
       "pain_persist                   464\n",
       "history_failed                 464\n",
       "psychosocial                   464\n",
       "functional                     464\n",
       "Antalgic                       464\n",
       "Consistent                     464\n",
       "compress_neural_tissue         464\n",
       "non_mechanical                 464\n",
       "pos_neurological               464\n",
       "local_palpation                464\n",
       "Diffuse                        464\n",
       "allodynia                      464\n",
       "hyperalgesia                   464\n",
       "hyperpathia                    464\n",
       "palpation_neural_tissues       464\n",
       "identification_psychosocial    464\n",
       "assignedlabels                 464\n",
       "dtype: int64"
      ]
     },
     "execution_count": 183,
     "metadata": {},
     "output_type": "execute_result"
    }
   ],
   "source": [
    "data.count()"
   ]
  },
  {
   "cell_type": "code",
   "execution_count": 184,
   "metadata": {
    "colab": {},
    "colab_type": "code",
    "id": "t4j-h8UbG95i"
   },
   "outputs": [],
   "source": [
    "data_2 = data.drop([ 'assignedlabels',\"No\"], axis=1)\n"
   ]
  },
  {
   "cell_type": "markdown",
   "metadata": {},
   "source": [
    "The first 36 columns in the data matrix indicated the absence or presence of a pain type. Each code\n",
    "referred to a pain described. The assigned.label column indicated the clinical assignment in\n",
    "one of three categories Nociceptive (NP), Peripheral Neuropathic (PN) and Central Sensitization (CN)"
   ]
  },
  {
   "cell_type": "code",
   "execution_count": 185,
   "metadata": {
    "colab": {},
    "colab_type": "code",
    "id": "tATmA5dhHDn-"
   },
   "outputs": [
    {
     "data": {
      "text/html": [
       "<div>\n",
       "<style scoped>\n",
       "    .dataframe tbody tr th:only-of-type {\n",
       "        vertical-align: middle;\n",
       "    }\n",
       "\n",
       "    .dataframe tbody tr th {\n",
       "        vertical-align: top;\n",
       "    }\n",
       "\n",
       "    .dataframe thead th {\n",
       "        text-align: right;\n",
       "    }\n",
       "</style>\n",
       "<table border=\"1\" class=\"dataframe\">\n",
       "  <thead>\n",
       "    <tr style=\"text-align: right;\">\n",
       "      <th></th>\n",
       "      <th>recent_pain</th>\n",
       "      <th>assoc_trauma</th>\n",
       "      <th>nerve_injury_history</th>\n",
       "      <th>X4</th>\n",
       "      <th>disp_pain</th>\n",
       "      <th>intermitt</th>\n",
       "      <th>burning</th>\n",
       "      <th>localised</th>\n",
       "      <th>referred</th>\n",
       "      <th>widespread</th>\n",
       "      <th>...</th>\n",
       "      <th>compress_neural_tissue</th>\n",
       "      <th>non_mechanical</th>\n",
       "      <th>pos_neurological</th>\n",
       "      <th>local_palpation</th>\n",
       "      <th>Diffuse</th>\n",
       "      <th>allodynia</th>\n",
       "      <th>hyperalgesia</th>\n",
       "      <th>hyperpathia</th>\n",
       "      <th>palpation_neural_tissues</th>\n",
       "      <th>identification_psychosocial</th>\n",
       "    </tr>\n",
       "  </thead>\n",
       "  <tbody>\n",
       "    <tr>\n",
       "      <th>0</th>\n",
       "      <td>0</td>\n",
       "      <td>1</td>\n",
       "      <td>0</td>\n",
       "      <td>0</td>\n",
       "      <td>1</td>\n",
       "      <td>0</td>\n",
       "      <td>0</td>\n",
       "      <td>1</td>\n",
       "      <td>0</td>\n",
       "      <td>0</td>\n",
       "      <td>...</td>\n",
       "      <td>0</td>\n",
       "      <td>0</td>\n",
       "      <td>0</td>\n",
       "      <td>1</td>\n",
       "      <td>0</td>\n",
       "      <td>0</td>\n",
       "      <td>0</td>\n",
       "      <td>0</td>\n",
       "      <td>0</td>\n",
       "      <td>0</td>\n",
       "    </tr>\n",
       "    <tr>\n",
       "      <th>1</th>\n",
       "      <td>0</td>\n",
       "      <td>1</td>\n",
       "      <td>0</td>\n",
       "      <td>0</td>\n",
       "      <td>1</td>\n",
       "      <td>0</td>\n",
       "      <td>0</td>\n",
       "      <td>1</td>\n",
       "      <td>0</td>\n",
       "      <td>0</td>\n",
       "      <td>...</td>\n",
       "      <td>0</td>\n",
       "      <td>0</td>\n",
       "      <td>0</td>\n",
       "      <td>0</td>\n",
       "      <td>0</td>\n",
       "      <td>0</td>\n",
       "      <td>0</td>\n",
       "      <td>0</td>\n",
       "      <td>0</td>\n",
       "      <td>0</td>\n",
       "    </tr>\n",
       "    <tr>\n",
       "      <th>2</th>\n",
       "      <td>0</td>\n",
       "      <td>1</td>\n",
       "      <td>0</td>\n",
       "      <td>0</td>\n",
       "      <td>1</td>\n",
       "      <td>0</td>\n",
       "      <td>0</td>\n",
       "      <td>1</td>\n",
       "      <td>0</td>\n",
       "      <td>0</td>\n",
       "      <td>...</td>\n",
       "      <td>0</td>\n",
       "      <td>0</td>\n",
       "      <td>0</td>\n",
       "      <td>1</td>\n",
       "      <td>0</td>\n",
       "      <td>0</td>\n",
       "      <td>1</td>\n",
       "      <td>1</td>\n",
       "      <td>0</td>\n",
       "      <td>0</td>\n",
       "    </tr>\n",
       "    <tr>\n",
       "      <th>3</th>\n",
       "      <td>0</td>\n",
       "      <td>1</td>\n",
       "      <td>1</td>\n",
       "      <td>0</td>\n",
       "      <td>0</td>\n",
       "      <td>0</td>\n",
       "      <td>1</td>\n",
       "      <td>0</td>\n",
       "      <td>1</td>\n",
       "      <td>0</td>\n",
       "      <td>...</td>\n",
       "      <td>1</td>\n",
       "      <td>0</td>\n",
       "      <td>0</td>\n",
       "      <td>0</td>\n",
       "      <td>0</td>\n",
       "      <td>0</td>\n",
       "      <td>0</td>\n",
       "      <td>0</td>\n",
       "      <td>0</td>\n",
       "      <td>0</td>\n",
       "    </tr>\n",
       "    <tr>\n",
       "      <th>4</th>\n",
       "      <td>1</td>\n",
       "      <td>1</td>\n",
       "      <td>0</td>\n",
       "      <td>0</td>\n",
       "      <td>1</td>\n",
       "      <td>0</td>\n",
       "      <td>0</td>\n",
       "      <td>1</td>\n",
       "      <td>0</td>\n",
       "      <td>0</td>\n",
       "      <td>...</td>\n",
       "      <td>0</td>\n",
       "      <td>0</td>\n",
       "      <td>0</td>\n",
       "      <td>0</td>\n",
       "      <td>0</td>\n",
       "      <td>0</td>\n",
       "      <td>0</td>\n",
       "      <td>0</td>\n",
       "      <td>0</td>\n",
       "      <td>0</td>\n",
       "    </tr>\n",
       "  </tbody>\n",
       "</table>\n",
       "<p>5 rows × 36 columns</p>\n",
       "</div>"
      ],
      "text/plain": [
       "   recent_pain  assoc_trauma  nerve_injury_history  X4  disp_pain  intermitt  \\\n",
       "0            0             1                     0   0          1          0   \n",
       "1            0             1                     0   0          1          0   \n",
       "2            0             1                     0   0          1          0   \n",
       "3            0             1                     1   0          0          0   \n",
       "4            1             1                     0   0          1          0   \n",
       "\n",
       "   burning  localised  referred  widespread  ...  compress_neural_tissue  \\\n",
       "0        0          1         0           0  ...                       0   \n",
       "1        0          1         0           0  ...                       0   \n",
       "2        0          1         0           0  ...                       0   \n",
       "3        1          0         1           0  ...                       1   \n",
       "4        0          1         0           0  ...                       0   \n",
       "\n",
       "   non_mechanical  pos_neurological  local_palpation  Diffuse  allodynia  \\\n",
       "0               0                 0                1        0          0   \n",
       "1               0                 0                0        0          0   \n",
       "2               0                 0                1        0          0   \n",
       "3               0                 0                0        0          0   \n",
       "4               0                 0                0        0          0   \n",
       "\n",
       "   hyperalgesia  hyperpathia  palpation_neural_tissues  \\\n",
       "0             0            0                         0   \n",
       "1             0            0                         0   \n",
       "2             1            1                         0   \n",
       "3             0            0                         0   \n",
       "4             0            0                         0   \n",
       "\n",
       "   identification_psychosocial  \n",
       "0                            0  \n",
       "1                            0  \n",
       "2                            0  \n",
       "3                            0  \n",
       "4                            0  \n",
       "\n",
       "[5 rows x 36 columns]"
      ]
     },
     "execution_count": 185,
     "metadata": {},
     "output_type": "execute_result"
    }
   ],
   "source": [
    "data_2.head()"
   ]
  },
  {
   "cell_type": "markdown",
   "metadata": {},
   "source": [
    "### Getting some more insights of Data.\n",
    "#### Finding the afftected and non affected patients "
   ]
  },
  {
   "cell_type": "code",
   "execution_count": 186,
   "metadata": {},
   "outputs": [],
   "source": [
    "Total_affected_and_not_affected = data_2.apply(pd.value_counts).fillna(0).sum(axis=1)\n",
    "\n",
    "most_common = data_2.apply(pd.value_counts).fillna(0)\n",
    "\n"
   ]
  },
  {
   "cell_type": "code",
   "execution_count": 187,
   "metadata": {},
   "outputs": [
    {
     "data": {
      "text/plain": [
       "0    10718\n",
       "1     5986\n",
       "dtype: int64"
      ]
     },
     "execution_count": 187,
     "metadata": {},
     "output_type": "execute_result"
    }
   ],
   "source": [
    "Total_affected_and_not_affected.head()"
   ]
  },
  {
   "cell_type": "code",
   "execution_count": 188,
   "metadata": {},
   "outputs": [
    {
     "data": {
      "text/html": [
       "<div>\n",
       "<style scoped>\n",
       "    .dataframe tbody tr th:only-of-type {\n",
       "        vertical-align: middle;\n",
       "    }\n",
       "\n",
       "    .dataframe tbody tr th {\n",
       "        vertical-align: top;\n",
       "    }\n",
       "\n",
       "    .dataframe thead th {\n",
       "        text-align: right;\n",
       "    }\n",
       "</style>\n",
       "<table border=\"1\" class=\"dataframe\">\n",
       "  <thead>\n",
       "    <tr style=\"text-align: right;\">\n",
       "      <th></th>\n",
       "      <th>recent_pain</th>\n",
       "      <th>assoc_trauma</th>\n",
       "      <th>nerve_injury_history</th>\n",
       "      <th>X4</th>\n",
       "      <th>disp_pain</th>\n",
       "      <th>intermitt</th>\n",
       "      <th>burning</th>\n",
       "      <th>localised</th>\n",
       "      <th>referred</th>\n",
       "      <th>widespread</th>\n",
       "      <th>...</th>\n",
       "      <th>compress_neural_tissue</th>\n",
       "      <th>non_mechanical</th>\n",
       "      <th>pos_neurological</th>\n",
       "      <th>local_palpation</th>\n",
       "      <th>Diffuse</th>\n",
       "      <th>allodynia</th>\n",
       "      <th>hyperalgesia</th>\n",
       "      <th>hyperpathia</th>\n",
       "      <th>palpation_neural_tissues</th>\n",
       "      <th>identification_psychosocial</th>\n",
       "    </tr>\n",
       "  </thead>\n",
       "  <tbody>\n",
       "    <tr>\n",
       "      <th>0</th>\n",
       "      <td>394</td>\n",
       "      <td>130</td>\n",
       "      <td>312</td>\n",
       "      <td>351</td>\n",
       "      <td>108</td>\n",
       "      <td>356</td>\n",
       "      <td>292</td>\n",
       "      <td>141</td>\n",
       "      <td>320</td>\n",
       "      <td>391</td>\n",
       "      <td>...</td>\n",
       "      <td>316</td>\n",
       "      <td>374</td>\n",
       "      <td>364</td>\n",
       "      <td>141</td>\n",
       "      <td>379</td>\n",
       "      <td>422</td>\n",
       "      <td>323</td>\n",
       "      <td>361</td>\n",
       "      <td>361</td>\n",
       "      <td>328</td>\n",
       "    </tr>\n",
       "    <tr>\n",
       "      <th>1</th>\n",
       "      <td>70</td>\n",
       "      <td>334</td>\n",
       "      <td>152</td>\n",
       "      <td>113</td>\n",
       "      <td>356</td>\n",
       "      <td>108</td>\n",
       "      <td>172</td>\n",
       "      <td>323</td>\n",
       "      <td>144</td>\n",
       "      <td>73</td>\n",
       "      <td>...</td>\n",
       "      <td>148</td>\n",
       "      <td>90</td>\n",
       "      <td>100</td>\n",
       "      <td>323</td>\n",
       "      <td>85</td>\n",
       "      <td>42</td>\n",
       "      <td>141</td>\n",
       "      <td>103</td>\n",
       "      <td>103</td>\n",
       "      <td>136</td>\n",
       "    </tr>\n",
       "  </tbody>\n",
       "</table>\n",
       "<p>2 rows × 36 columns</p>\n",
       "</div>"
      ],
      "text/plain": [
       "   recent_pain  assoc_trauma  nerve_injury_history   X4  disp_pain  intermitt  \\\n",
       "0          394           130                   312  351        108        356   \n",
       "1           70           334                   152  113        356        108   \n",
       "\n",
       "   burning  localised  referred  widespread  ...  compress_neural_tissue  \\\n",
       "0      292        141       320         391  ...                     316   \n",
       "1      172        323       144          73  ...                     148   \n",
       "\n",
       "   non_mechanical  pos_neurological  local_palpation  Diffuse  allodynia  \\\n",
       "0             374               364              141      379        422   \n",
       "1              90               100              323       85         42   \n",
       "\n",
       "   hyperalgesia  hyperpathia  palpation_neural_tissues  \\\n",
       "0           323          361                       361   \n",
       "1           141          103                       103   \n",
       "\n",
       "   identification_psychosocial  \n",
       "0                          328  \n",
       "1                          136  \n",
       "\n",
       "[2 rows x 36 columns]"
      ]
     },
     "execution_count": 188,
     "metadata": {},
     "output_type": "execute_result"
    }
   ],
   "source": [
    "most_common.head()"
   ]
  },
  {
   "cell_type": "markdown",
   "metadata": {},
   "source": [
    "### Checking the Null Values again"
   ]
  },
  {
   "cell_type": "code",
   "execution_count": 189,
   "metadata": {
    "colab": {},
    "colab_type": "code",
    "id": "-TDB7BrNIGi8"
   },
   "outputs": [
    {
     "data": {
      "text/plain": [
       "False"
      ]
     },
     "execution_count": 189,
     "metadata": {},
     "output_type": "execute_result"
    }
   ],
   "source": [
    "data_2.isnull().values.any()"
   ]
  },
  {
   "cell_type": "code",
   "execution_count": 190,
   "metadata": {
    "colab": {},
    "colab_type": "code",
    "id": "ux_5IpWNIMvW"
   },
   "outputs": [
    {
     "data": {
      "text/plain": [
       "recent_pain                    0\n",
       "assoc_trauma                   0\n",
       "nerve_injury_history           0\n",
       "X4                             0\n",
       "disp_pain                      0\n",
       "intermitt                      0\n",
       "burning                        0\n",
       "localised                      0\n",
       "referred                       0\n",
       "widespread                     0\n",
       "mech_nature                    0\n",
       "mech_movement                  0\n",
       "disproportionate               0\n",
       "spont                          0\n",
       "dyesthesias                    0\n",
       "high_sev                       0\n",
       "neurological_symp              0\n",
       "night_pain                     0\n",
       "NSAIDS                         0\n",
       "rapid_resolve                  0\n",
       "pain_persist                   0\n",
       "history_failed                 0\n",
       "psychosocial                   0\n",
       "functional                     0\n",
       "Antalgic                       0\n",
       "Consistent                     0\n",
       "compress_neural_tissue         0\n",
       "non_mechanical                 0\n",
       "pos_neurological               0\n",
       "local_palpation                0\n",
       "Diffuse                        0\n",
       "allodynia                      0\n",
       "hyperalgesia                   0\n",
       "hyperpathia                    0\n",
       "palpation_neural_tissues       0\n",
       "identification_psychosocial    0\n",
       "dtype: int64"
      ]
     },
     "execution_count": 190,
     "metadata": {},
     "output_type": "execute_result"
    }
   ],
   "source": [
    "data_2.isnull().sum()"
   ]
  },
  {
   "cell_type": "markdown",
   "metadata": {},
   "source": [
    "# Implementing apriori algorithm to get frequent symptoms and finding the connections among the symptoms"
   ]
  },
  {
   "cell_type": "code",
   "execution_count": 191,
   "metadata": {
    "colab": {},
    "colab_type": "code",
    "id": "vDx2WG3wEl6A"
   },
   "outputs": [],
   "source": [
    "from mlxtend.frequent_patterns import apriori, association_rules \n"
   ]
  },
  {
   "cell_type": "code",
   "execution_count": 194,
   "metadata": {
    "colab": {
     "base_uri": "https://localhost:8080/",
     "height": 578
    },
    "colab_type": "code",
    "id": "XRnd-bP2Fiw1",
    "outputId": "31a35aef-fe42-44ac-b1e1-46774fa95c67"
   },
   "outputs": [],
   "source": [
    "\n",
    "# Building the model \n",
    "frq_items = apriori(data_2, min_support=0.65, use_colnames=True)\n",
    "\n",
    "  \n",
    "# Collecting the inferred rules in a dataframe \n",
    "rules = association_rules(frq_items, metric =\"lift\", min_threshold = 1) \n",
    "rules = rules.sort_values(['confidence', 'lift'], ascending =[False, False]) \n"
   ]
  },
  {
   "cell_type": "code",
   "execution_count": 195,
   "metadata": {},
   "outputs": [
    {
     "name": "stdout",
     "output_type": "stream",
     "text": [
      "                    antecedents    consequents  antecedent support  \\\n",
      "20   (Consistent, assoc_trauma)  (mech_nature)            0.683190   \n",
      "14    (disp_pain, assoc_trauma)  (mech_nature)            0.661638   \n",
      "26      (Consistent, disp_pain)  (mech_nature)            0.676724   \n",
      "3                (assoc_trauma)  (mech_nature)            0.719828   \n",
      "19  (mech_nature, assoc_trauma)   (Consistent)            0.696121   \n",
      "\n",
      "    consequent support   support  confidence      lift  leverage  conviction  \n",
      "20            0.760776  0.672414    0.984227  1.293715  0.152660   15.166810  \n",
      "14            0.760776  0.650862    0.983713  1.293040  0.147504   14.688362  \n",
      "26            0.760776  0.661638    0.977707  1.285145  0.146803   10.730911  \n",
      "3             0.760776  0.696121    0.967066  1.271157  0.148493    7.263715  \n",
      "19            0.752155  0.672414    0.965944  1.284235  0.148823    7.277625  \n"
     ]
    }
   ],
   "source": [
    "print(rules.head())"
   ]
  },
  {
   "cell_type": "markdown",
   "metadata": {},
   "source": [
    "# Visualizations"
   ]
  },
  {
   "cell_type": "code",
   "execution_count": 21,
   "metadata": {
    "colab": {},
    "colab_type": "code",
    "id": "-rEFLWuDFtMT"
   },
   "outputs": [],
   "source": [
    "import matplotlib.pyplot as plt"
   ]
  },
  {
   "cell_type": "code",
   "execution_count": 22,
   "metadata": {},
   "outputs": [
    {
     "data": {
      "image/png": "[encoded data removed]",
      "text/plain": [
       "<Figure size 432x288 with 1 Axes>"
      ]
     },
     "metadata": {
      "needs_background": "light"
     },
     "output_type": "display_data"
    }
   ],
   "source": [
    "plt.scatter(rules['support'], rules['confidence'], alpha=0.5)\n",
    "plt.xlabel('support')\n",
    "plt.ylabel('confidence')\n",
    "plt.title('Support vs Confidence')\n",
    "plt.show()"
   ]
  },
  {
   "cell_type": "code",
   "execution_count": 23,
   "metadata": {},
   "outputs": [
    {
     "data": {
      "image/png": "[encoded data removed]",
      "text/plain": [
       "<Figure size 432x288 with 1 Axes>"
      ]
     },
     "metadata": {
      "needs_background": "light"
     },
     "output_type": "display_data"
    }
   ],
   "source": [
    "plt.scatter(rules['support'], rules['lift'], alpha=0.5)\n",
    "plt.xlabel('support')\n",
    "plt.ylabel('lift')\n",
    "plt.title('Support vs Lift')\n",
    "plt.show()"
   ]
  },
  {
   "cell_type": "markdown",
   "metadata": {},
   "source": [
    "# Connected symptoms visualization"
   ]
  },
  {
   "cell_type": "code",
   "execution_count": 205,
   "metadata": {},
   "outputs": [
    {
     "data": {
      "image/png": "[encoded data removed]",
      "text/plain": [
       "<Figure size 432x288 with 1 Axes>"
      ]
     },
     "metadata": {},
     "output_type": "display_data"
    }
   ],
   "source": [
    "import networkx as nx \n",
    "# importing matplotlib.pyplot \n",
    "import matplotlib.pyplot as plt \n",
    "  \n",
    "g = nx.Graph() \n",
    "  \n",
    "g.add_edge ('Consistent, assoc_trauma', 'mech_nature')\n",
    "g.add_edge('disp_pain, assoc_trauma', 'mech_nature')\n",
    "g.add_edge('Consistent, disp_pain', 'mech_nature') \n",
    "g.add_edge('assoc_trauma','mech_nature') \n",
    "g.add_edge('mech_nature, assoc_trauma', 'Consistent')\n",
    "\n",
    "  \n",
    "nx.draw(g, with_labels = True)"
   ]
  },
  {
   "cell_type": "markdown",
   "metadata": {},
   "source": [
    "# Logistic Regression implementation\n",
    "\n",
    "In terms of Central Sensitization (CN)"
   ]
  },
  {
   "cell_type": "code",
   "execution_count": 203,
   "metadata": {},
   "outputs": [],
   "source": [
    "data_CN = pd.read_csv('Data_CN1.csv')"
   ]
  },
  {
   "cell_type": "code",
   "execution_count": 80,
   "metadata": {},
   "outputs": [
    {
     "data": {
      "text/html": [
       "<div>\n",
       "<style scoped>\n",
       "    .dataframe tbody tr th:only-of-type {\n",
       "        vertical-align: middle;\n",
       "    }\n",
       "\n",
       "    .dataframe tbody tr th {\n",
       "        vertical-align: top;\n",
       "    }\n",
       "\n",
       "    .dataframe thead th {\n",
       "        text-align: right;\n",
       "    }\n",
       "</style>\n",
       "<table border=\"1\" class=\"dataframe\">\n",
       "  <thead>\n",
       "    <tr style=\"text-align: right;\">\n",
       "      <th></th>\n",
       "      <th>recent_pain</th>\n",
       "      <th>assoc_trauma</th>\n",
       "      <th>nerve_injury_history</th>\n",
       "      <th>X4</th>\n",
       "      <th>disp_pain</th>\n",
       "      <th>intermitt</th>\n",
       "      <th>burning</th>\n",
       "      <th>localised</th>\n",
       "      <th>referred</th>\n",
       "      <th>widespread</th>\n",
       "      <th>...</th>\n",
       "      <th>non_mechanical</th>\n",
       "      <th>pos_neurological</th>\n",
       "      <th>local_palpation</th>\n",
       "      <th>Diffuse</th>\n",
       "      <th>allodynia</th>\n",
       "      <th>hyperalgesia</th>\n",
       "      <th>hyperpathia</th>\n",
       "      <th>palpation_neural_tissues</th>\n",
       "      <th>identification_psychosocial</th>\n",
       "      <th>assignedlabels</th>\n",
       "    </tr>\n",
       "  </thead>\n",
       "  <tbody>\n",
       "    <tr>\n",
       "      <th>0</th>\n",
       "      <td>0</td>\n",
       "      <td>1</td>\n",
       "      <td>0</td>\n",
       "      <td>0</td>\n",
       "      <td>1</td>\n",
       "      <td>0</td>\n",
       "      <td>0</td>\n",
       "      <td>1</td>\n",
       "      <td>0</td>\n",
       "      <td>0</td>\n",
       "      <td>...</td>\n",
       "      <td>0</td>\n",
       "      <td>0</td>\n",
       "      <td>1</td>\n",
       "      <td>0</td>\n",
       "      <td>0</td>\n",
       "      <td>0</td>\n",
       "      <td>0</td>\n",
       "      <td>0</td>\n",
       "      <td>0</td>\n",
       "      <td>0</td>\n",
       "    </tr>\n",
       "    <tr>\n",
       "      <th>1</th>\n",
       "      <td>0</td>\n",
       "      <td>1</td>\n",
       "      <td>0</td>\n",
       "      <td>0</td>\n",
       "      <td>1</td>\n",
       "      <td>0</td>\n",
       "      <td>0</td>\n",
       "      <td>1</td>\n",
       "      <td>0</td>\n",
       "      <td>0</td>\n",
       "      <td>...</td>\n",
       "      <td>0</td>\n",
       "      <td>0</td>\n",
       "      <td>0</td>\n",
       "      <td>0</td>\n",
       "      <td>0</td>\n",
       "      <td>0</td>\n",
       "      <td>0</td>\n",
       "      <td>0</td>\n",
       "      <td>0</td>\n",
       "      <td>0</td>\n",
       "    </tr>\n",
       "    <tr>\n",
       "      <th>2</th>\n",
       "      <td>0</td>\n",
       "      <td>1</td>\n",
       "      <td>0</td>\n",
       "      <td>0</td>\n",
       "      <td>1</td>\n",
       "      <td>0</td>\n",
       "      <td>0</td>\n",
       "      <td>1</td>\n",
       "      <td>0</td>\n",
       "      <td>0</td>\n",
       "      <td>...</td>\n",
       "      <td>0</td>\n",
       "      <td>0</td>\n",
       "      <td>1</td>\n",
       "      <td>0</td>\n",
       "      <td>0</td>\n",
       "      <td>1</td>\n",
       "      <td>1</td>\n",
       "      <td>0</td>\n",
       "      <td>0</td>\n",
       "      <td>0</td>\n",
       "    </tr>\n",
       "    <tr>\n",
       "      <th>3</th>\n",
       "      <td>0</td>\n",
       "      <td>1</td>\n",
       "      <td>1</td>\n",
       "      <td>0</td>\n",
       "      <td>0</td>\n",
       "      <td>0</td>\n",
       "      <td>1</td>\n",
       "      <td>0</td>\n",
       "      <td>1</td>\n",
       "      <td>0</td>\n",
       "      <td>...</td>\n",
       "      <td>0</td>\n",
       "      <td>0</td>\n",
       "      <td>0</td>\n",
       "      <td>0</td>\n",
       "      <td>0</td>\n",
       "      <td>0</td>\n",
       "      <td>0</td>\n",
       "      <td>0</td>\n",
       "      <td>0</td>\n",
       "      <td>0</td>\n",
       "    </tr>\n",
       "    <tr>\n",
       "      <th>4</th>\n",
       "      <td>1</td>\n",
       "      <td>1</td>\n",
       "      <td>0</td>\n",
       "      <td>0</td>\n",
       "      <td>1</td>\n",
       "      <td>0</td>\n",
       "      <td>0</td>\n",
       "      <td>1</td>\n",
       "      <td>0</td>\n",
       "      <td>0</td>\n",
       "      <td>...</td>\n",
       "      <td>0</td>\n",
       "      <td>0</td>\n",
       "      <td>0</td>\n",
       "      <td>0</td>\n",
       "      <td>0</td>\n",
       "      <td>0</td>\n",
       "      <td>0</td>\n",
       "      <td>0</td>\n",
       "      <td>0</td>\n",
       "      <td>0</td>\n",
       "    </tr>\n",
       "  </tbody>\n",
       "</table>\n",
       "<p>5 rows × 37 columns</p>\n",
       "</div>"
      ],
      "text/plain": [
       "   recent_pain  assoc_trauma  nerve_injury_history  X4  disp_pain  intermitt  \\\n",
       "0            0             1                     0   0          1          0   \n",
       "1            0             1                     0   0          1          0   \n",
       "2            0             1                     0   0          1          0   \n",
       "3            0             1                     1   0          0          0   \n",
       "4            1             1                     0   0          1          0   \n",
       "\n",
       "   burning  localised  referred  widespread  ...  non_mechanical  \\\n",
       "0        0          1         0           0  ...               0   \n",
       "1        0          1         0           0  ...               0   \n",
       "2        0          1         0           0  ...               0   \n",
       "3        1          0         1           0  ...               0   \n",
       "4        0          1         0           0  ...               0   \n",
       "\n",
       "   pos_neurological  local_palpation  Diffuse  allodynia  hyperalgesia  \\\n",
       "0                 0                1        0          0             0   \n",
       "1                 0                0        0          0             0   \n",
       "2                 0                1        0          0             1   \n",
       "3                 0                0        0          0             0   \n",
       "4                 0                0        0          0             0   \n",
       "\n",
       "   hyperpathia  palpation_neural_tissues  identification_psychosocial  \\\n",
       "0            0                         0                            0   \n",
       "1            0                         0                            0   \n",
       "2            1                         0                            0   \n",
       "3            0                         0                            0   \n",
       "4            0                         0                            0   \n",
       "\n",
       "   assignedlabels  \n",
       "0               0  \n",
       "1               0  \n",
       "2               0  \n",
       "3               0  \n",
       "4               0  \n",
       "\n",
       "[5 rows x 37 columns]"
      ]
     },
     "execution_count": 80,
     "metadata": {},
     "output_type": "execute_result"
    }
   ],
   "source": [
    "data_CN.head()"
   ]
  },
  {
   "cell_type": "code",
   "execution_count": 81,
   "metadata": {},
   "outputs": [
    {
     "data": {
      "text/plain": [
       "Index(['recent_pain', 'assoc_trauma', 'nerve_injury_history', 'X4',\n",
       "       'disp_pain', 'intermitt', 'burning', 'localised', 'referred',\n",
       "       'widespread', 'mech_nature', 'mech_movement', 'disproportionate',\n",
       "       'spont', 'dyesthesias', 'high_sev', 'neurological_symp', 'night_pain',\n",
       "       'NSAIDS', 'rapid_resolve', 'pain_persist', 'history_failed',\n",
       "       'psychosocial', 'functional', 'Antalgic', 'Consistent',\n",
       "       'compress_neural_tissue', 'non_mechanical', 'pos_neurological',\n",
       "       'local_palpation', 'Diffuse', 'allodynia', 'hyperalgesia',\n",
       "       'hyperpathia', 'palpation_neural_tissues',\n",
       "       'identification_psychosocial', 'assignedlabels'],\n",
       "      dtype='object')"
      ]
     },
     "execution_count": 81,
     "metadata": {},
     "output_type": "execute_result"
    }
   ],
   "source": [
    "data_CN.columns"
   ]
  },
  {
   "cell_type": "code",
   "execution_count": 123,
   "metadata": {},
   "outputs": [
    {
     "data": {
      "text/plain": [
       "(464, 37)"
      ]
     },
     "execution_count": 123,
     "metadata": {},
     "output_type": "execute_result"
    }
   ],
   "source": [
    "data_CN.shape"
   ]
  },
  {
   "cell_type": "code",
   "execution_count": 124,
   "metadata": {},
   "outputs": [],
   "source": [
    "features = data_CN ['recent_pain']"
   ]
  },
  {
   "cell_type": "code",
   "execution_count": 127,
   "metadata": {
    "scrolled": true
   },
   "outputs": [],
   "source": [
    "X = data_CN[::-1]\n",
    "Y = data_CN.assignedlabels"
   ]
  },
  {
   "cell_type": "code",
   "execution_count": 128,
   "metadata": {},
   "outputs": [
    {
     "data": {
      "text/plain": [
       "(464, 37)"
      ]
     },
     "execution_count": 128,
     "metadata": {},
     "output_type": "execute_result"
    }
   ],
   "source": [
    "X.shape"
   ]
  },
  {
   "cell_type": "code",
   "execution_count": 129,
   "metadata": {},
   "outputs": [
    {
     "data": {
      "text/plain": [
       "(464,)"
      ]
     },
     "execution_count": 129,
     "metadata": {},
     "output_type": "execute_result"
    }
   ],
   "source": [
    "Y.shape"
   ]
  },
  {
   "cell_type": "code",
   "execution_count": 130,
   "metadata": {},
   "outputs": [],
   "source": [
    "import matplotlib.pyplot as plt\n",
    "import numpy as np\n",
    "from sklearn.linear_model import LogisticRegression\n",
    "from sklearn.metrics import classification_report, confusion_matrix"
   ]
  },
  {
   "cell_type": "code",
   "execution_count": 131,
   "metadata": {},
   "outputs": [],
   "source": [
    "model = LogisticRegression(solver='liblinear', random_state=0)"
   ]
  },
  {
   "cell_type": "code",
   "execution_count": 132,
   "metadata": {},
   "outputs": [
    {
     "data": {
      "text/plain": [
       "LogisticRegression(random_state=0, solver='liblinear')"
      ]
     },
     "execution_count": 132,
     "metadata": {},
     "output_type": "execute_result"
    }
   ],
   "source": [
    "model.fit(X, Y)\n"
   ]
  },
  {
   "cell_type": "code",
   "execution_count": 134,
   "metadata": {},
   "outputs": [],
   "source": [
    "model = LogisticRegression(solver='liblinear', random_state=0).fit(X, Y)\n"
   ]
  },
  {
   "cell_type": "code",
   "execution_count": 135,
   "metadata": {},
   "outputs": [
    {
     "data": {
      "text/plain": [
       "array([-1.20480488])"
      ]
     },
     "execution_count": 135,
     "metadata": {},
     "output_type": "execute_result"
    }
   ],
   "source": [
    "model.intercept_"
   ]
  },
  {
   "cell_type": "code",
   "execution_count": 136,
   "metadata": {},
   "outputs": [
    {
     "data": {
      "text/plain": [
       "0.7866379310344828"
      ]
     },
     "execution_count": 136,
     "metadata": {},
     "output_type": "execute_result"
    }
   ],
   "source": [
    "model.score(X, Y)"
   ]
  },
  {
   "cell_type": "code",
   "execution_count": 139,
   "metadata": {},
   "outputs": [
    {
     "data": {
      "text/plain": [
       "array([[352,   6],\n",
       "       [ 93,  13]])"
      ]
     },
     "execution_count": 139,
     "metadata": {},
     "output_type": "execute_result"
    }
   ],
   "source": [
    "confusion_matrix(Y, model.predict(X))"
   ]
  },
  {
   "cell_type": "code",
   "execution_count": 142,
   "metadata": {},
   "outputs": [
    {
     "name": "stdout",
     "output_type": "stream",
     "text": [
      "              precision    recall  f1-score   support\n",
      "\n",
      "           0       0.79      0.98      0.88       358\n",
      "           1       0.68      0.12      0.21       106\n",
      "\n",
      "    accuracy                           0.79       464\n",
      "   macro avg       0.74      0.55      0.54       464\n",
      "weighted avg       0.77      0.79      0.72       464\n",
      "\n"
     ]
    }
   ],
   "source": [
    "print(classification_report(Y, model.predict(X)))"
   ]
  },
  {
   "cell_type": "code",
   "execution_count": 225,
   "metadata": {},
   "outputs": [
    {
     "data": {
      "text/plain": [
       "LogisticRegression(C=20.0, random_state=0, solver='liblinear')"
      ]
     },
     "execution_count": 225,
     "metadata": {},
     "output_type": "execute_result"
    }
   ],
   "source": [
    "#Improve the model\n",
    "model = LogisticRegression(solver='liblinear', C=20.0, random_state=0)\n",
    "model.fit(X, Y)\n"
   ]
  },
  {
   "cell_type": "code",
   "execution_count": 226,
   "metadata": {},
   "outputs": [
    {
     "data": {
      "text/plain": [
       "0.790948275862069"
      ]
     },
     "execution_count": 226,
     "metadata": {},
     "output_type": "execute_result"
    }
   ],
   "source": [
    "model.score(X, Y)"
   ]
  },
  {
   "cell_type": "code",
   "execution_count": 227,
   "metadata": {},
   "outputs": [
    {
     "name": "stdout",
     "output_type": "stream",
     "text": [
      "              precision    recall  f1-score   support\n",
      "\n",
      "           0       0.80      0.97      0.88       358\n",
      "           1       0.67      0.17      0.27       106\n",
      "\n",
      "    accuracy                           0.79       464\n",
      "   macro avg       0.73      0.57      0.57       464\n",
      "weighted avg       0.77      0.79      0.74       464\n",
      "\n"
     ]
    }
   ],
   "source": [
    "print(classification_report(Y, model.predict(X)))"
   ]
  },
  {
   "cell_type": "code",
   "execution_count": 156,
   "metadata": {},
   "outputs": [],
   "source": [
    "import statsmodels.api as sm"
   ]
  },
  {
   "cell_type": "code",
   "execution_count": 159,
   "metadata": {},
   "outputs": [],
   "source": [
    "P = list(Y)\n",
    "model = sm.Logit(P, X)"
   ]
  },
  {
   "cell_type": "code",
   "execution_count": 171,
   "metadata": {},
   "outputs": [
    {
     "name": "stdout",
     "output_type": "stream",
     "text": [
      "Optimization terminated successfully.\n",
      "         Current function value: 0.473908\n",
      "         Iterations 7\n"
     ]
    }
   ],
   "source": [
    "result = model.fit(method='newton')"
   ]
  },
  {
   "cell_type": "code",
   "execution_count": 172,
   "metadata": {},
   "outputs": [
    {
     "data": {
      "text/html": [
       "<table class=\"simpletable\">\n",
       "<caption>Logit Regression Results</caption>\n",
       "<tr>\n",
       "  <th>Dep. Variable:</th>           <td>y</td>        <th>  No. Observations:  </th>  <td>   464</td> \n",
       "</tr>\n",
       "<tr>\n",
       "  <th>Model:</th>                 <td>Logit</td>      <th>  Df Residuals:      </th>  <td>   427</td> \n",
       "</tr>\n",
       "<tr>\n",
       "  <th>Method:</th>                 <td>MLE</td>       <th>  Df Model:          </th>  <td>    36</td> \n",
       "</tr>\n",
       "<tr>\n",
       "  <th>Date:</th>            <td>Tue, 09 Jun 2020</td> <th>  Pseudo R-squ.:     </th>  <td>0.1181</td> \n",
       "</tr>\n",
       "<tr>\n",
       "  <th>Time:</th>                <td>15:55:12</td>     <th>  Log-Likelihood:    </th> <td> -219.89</td>\n",
       "</tr>\n",
       "<tr>\n",
       "  <th>converged:</th>             <td>True</td>       <th>  LL-Null:           </th> <td> -249.35</td>\n",
       "</tr>\n",
       "<tr>\n",
       "  <th>Covariance Type:</th>     <td>nonrobust</td>    <th>  LLR p-value:       </th> <td>0.009346</td>\n",
       "</tr>\n",
       "</table>\n",
       "<table class=\"simpletable\">\n",
       "<tr>\n",
       "               <td></td>                  <th>coef</th>     <th>std err</th>      <th>z</th>      <th>P>|z|</th>  <th>[0.025</th>    <th>0.975]</th>  \n",
       "</tr>\n",
       "<tr>\n",
       "  <th>recent_pain</th>                 <td>   -0.1273</td> <td>    0.358</td> <td>   -0.356</td> <td> 0.722</td> <td>   -0.829</td> <td>    0.575</td>\n",
       "</tr>\n",
       "<tr>\n",
       "  <th>assoc_trauma</th>                <td>   -0.3217</td> <td>    0.686</td> <td>   -0.469</td> <td> 0.639</td> <td>   -1.667</td> <td>    1.023</td>\n",
       "</tr>\n",
       "<tr>\n",
       "  <th>nerve_injury_history</th>        <td>   -0.1123</td> <td>    0.490</td> <td>   -0.229</td> <td> 0.819</td> <td>   -1.073</td> <td>    0.849</td>\n",
       "</tr>\n",
       "<tr>\n",
       "  <th>X4</th>                          <td>   -0.1901</td> <td>    0.710</td> <td>   -0.268</td> <td> 0.789</td> <td>   -1.583</td> <td>    1.202</td>\n",
       "</tr>\n",
       "<tr>\n",
       "  <th>disp_pain</th>                   <td>    0.2406</td> <td>    0.575</td> <td>    0.419</td> <td> 0.675</td> <td>   -0.886</td> <td>    1.367</td>\n",
       "</tr>\n",
       "<tr>\n",
       "  <th>intermitt</th>                   <td>    0.4741</td> <td>    0.628</td> <td>    0.754</td> <td> 0.451</td> <td>   -0.758</td> <td>    1.706</td>\n",
       "</tr>\n",
       "<tr>\n",
       "  <th>burning</th>                     <td>   -0.4856</td> <td>    0.324</td> <td>   -1.499</td> <td> 0.134</td> <td>   -1.120</td> <td>    0.149</td>\n",
       "</tr>\n",
       "<tr>\n",
       "  <th>localised</th>                   <td>    0.4030</td> <td>    0.450</td> <td>    0.895</td> <td> 0.371</td> <td>   -0.479</td> <td>    1.285</td>\n",
       "</tr>\n",
       "<tr>\n",
       "  <th>referred</th>                    <td>   -1.3163</td> <td>    0.548</td> <td>   -2.403</td> <td> 0.016</td> <td>   -2.390</td> <td>   -0.243</td>\n",
       "</tr>\n",
       "<tr>\n",
       "  <th>widespread</th>                  <td>    0.4200</td> <td>    0.737</td> <td>    0.570</td> <td> 0.569</td> <td>   -1.024</td> <td>    1.864</td>\n",
       "</tr>\n",
       "<tr>\n",
       "  <th>mech_nature</th>                 <td>   -0.7832</td> <td>    0.731</td> <td>   -1.071</td> <td> 0.284</td> <td>   -2.217</td> <td>    0.650</td>\n",
       "</tr>\n",
       "<tr>\n",
       "  <th>mech_movement</th>               <td>    0.5276</td> <td>    0.576</td> <td>    0.916</td> <td> 0.360</td> <td>   -0.601</td> <td>    1.656</td>\n",
       "</tr>\n",
       "<tr>\n",
       "  <th>disproportionate</th>            <td>   -0.2898</td> <td>    0.993</td> <td>   -0.292</td> <td> 0.770</td> <td>   -2.237</td> <td>    1.657</td>\n",
       "</tr>\n",
       "<tr>\n",
       "  <th>spont</th>                       <td>    0.3987</td> <td>    0.330</td> <td>    1.209</td> <td> 0.226</td> <td>   -0.247</td> <td>    1.045</td>\n",
       "</tr>\n",
       "<tr>\n",
       "  <th>dyesthesias</th>                 <td>    0.3414</td> <td>    0.383</td> <td>    0.891</td> <td> 0.373</td> <td>   -0.409</td> <td>    1.092</td>\n",
       "</tr>\n",
       "<tr>\n",
       "  <th>high_sev</th>                    <td>   -0.1793</td> <td>    0.520</td> <td>   -0.345</td> <td> 0.730</td> <td>   -1.199</td> <td>    0.840</td>\n",
       "</tr>\n",
       "<tr>\n",
       "  <th>neurological_symp</th>           <td>    0.4615</td> <td>    0.393</td> <td>    1.175</td> <td> 0.240</td> <td>   -0.308</td> <td>    1.231</td>\n",
       "</tr>\n",
       "<tr>\n",
       "  <th>night_pain</th>                  <td>   -0.2097</td> <td>    0.272</td> <td>   -0.771</td> <td> 0.441</td> <td>   -0.743</td> <td>    0.324</td>\n",
       "</tr>\n",
       "<tr>\n",
       "  <th>NSAIDS</th>                      <td>   -0.8056</td> <td>    0.273</td> <td>   -2.952</td> <td> 0.003</td> <td>   -1.340</td> <td>   -0.271</td>\n",
       "</tr>\n",
       "<tr>\n",
       "  <th>rapid_resolve</th>               <td>    0.4156</td> <td>    0.354</td> <td>    1.173</td> <td> 0.241</td> <td>   -0.279</td> <td>    1.110</td>\n",
       "</tr>\n",
       "<tr>\n",
       "  <th>pain_persist</th>                <td>   -0.1492</td> <td>    0.367</td> <td>   -0.407</td> <td> 0.684</td> <td>   -0.868</td> <td>    0.569</td>\n",
       "</tr>\n",
       "<tr>\n",
       "  <th>history_failed</th>              <td>    1.0118</td> <td>    0.336</td> <td>    3.013</td> <td> 0.003</td> <td>    0.354</td> <td>    1.670</td>\n",
       "</tr>\n",
       "<tr>\n",
       "  <th>psychosocial</th>                <td>   -0.2151</td> <td>    0.543</td> <td>   -0.396</td> <td> 0.692</td> <td>   -1.280</td> <td>    0.850</td>\n",
       "</tr>\n",
       "<tr>\n",
       "  <th>functional</th>                  <td>    0.1087</td> <td>    0.400</td> <td>    0.272</td> <td> 0.786</td> <td>   -0.674</td> <td>    0.892</td>\n",
       "</tr>\n",
       "<tr>\n",
       "  <th>Antalgic</th>                    <td>   -0.1766</td> <td>    0.338</td> <td>   -0.523</td> <td> 0.601</td> <td>   -0.839</td> <td>    0.486</td>\n",
       "</tr>\n",
       "<tr>\n",
       "  <th>Consistent</th>                  <td>    0.1808</td> <td>    0.560</td> <td>    0.323</td> <td> 0.747</td> <td>   -0.917</td> <td>    1.278</td>\n",
       "</tr>\n",
       "<tr>\n",
       "  <th>compress_neural_tissue</th>      <td>    0.0039</td> <td>    0.437</td> <td>    0.009</td> <td> 0.993</td> <td>   -0.852</td> <td>    0.860</td>\n",
       "</tr>\n",
       "<tr>\n",
       "  <th>non_mechanical</th>              <td>   -1.2281</td> <td>    0.842</td> <td>   -1.459</td> <td> 0.145</td> <td>   -2.878</td> <td>    0.422</td>\n",
       "</tr>\n",
       "<tr>\n",
       "  <th>pos_neurological</th>            <td>    0.0227</td> <td>    0.462</td> <td>    0.049</td> <td> 0.961</td> <td>   -0.883</td> <td>    0.929</td>\n",
       "</tr>\n",
       "<tr>\n",
       "  <th>local_palpation</th>             <td>   -0.2144</td> <td>    0.338</td> <td>   -0.635</td> <td> 0.526</td> <td>   -0.876</td> <td>    0.448</td>\n",
       "</tr>\n",
       "<tr>\n",
       "  <th>Diffuse</th>                     <td>    0.0837</td> <td>    0.647</td> <td>    0.129</td> <td> 0.897</td> <td>   -1.184</td> <td>    1.351</td>\n",
       "</tr>\n",
       "<tr>\n",
       "  <th>allodynia</th>                   <td>   -0.7981</td> <td>    0.663</td> <td>   -1.204</td> <td> 0.229</td> <td>   -2.097</td> <td>    0.501</td>\n",
       "</tr>\n",
       "<tr>\n",
       "  <th>hyperalgesia</th>                <td>   -0.0250</td> <td>    0.319</td> <td>   -0.078</td> <td> 0.938</td> <td>   -0.650</td> <td>    0.600</td>\n",
       "</tr>\n",
       "<tr>\n",
       "  <th>hyperpathia</th>                 <td>    0.8050</td> <td>    0.333</td> <td>    2.417</td> <td> 0.016</td> <td>    0.152</td> <td>    1.458</td>\n",
       "</tr>\n",
       "<tr>\n",
       "  <th>palpation_neural_tissues</th>    <td>   -0.4319</td> <td>    0.397</td> <td>   -1.088</td> <td> 0.276</td> <td>   -1.210</td> <td>    0.346</td>\n",
       "</tr>\n",
       "<tr>\n",
       "  <th>identification_psychosocial</th> <td>   -0.5296</td> <td>    0.511</td> <td>   -1.037</td> <td> 0.300</td> <td>   -1.531</td> <td>    0.472</td>\n",
       "</tr>\n",
       "<tr>\n",
       "  <th>assignedlabels</th>              <td>   -0.9793</td> <td>    0.905</td> <td>   -1.083</td> <td> 0.279</td> <td>   -2.752</td> <td>    0.794</td>\n",
       "</tr>\n",
       "</table>"
      ],
      "text/plain": [
       "<class 'statsmodels.iolib.summary.Summary'>\n",
       "\"\"\"\n",
       "                           Logit Regression Results                           \n",
       "==============================================================================\n",
       "Dep. Variable:                      y   No. Observations:                  464\n",
       "Model:                          Logit   Df Residuals:                      427\n",
       "Method:                           MLE   Df Model:                           36\n",
       "Date:                Tue, 09 Jun 2020   Pseudo R-squ.:                  0.1181\n",
       "Time:                        15:55:12   Log-Likelihood:                -219.89\n",
       "converged:                       True   LL-Null:                       -249.35\n",
       "Covariance Type:            nonrobust   LLR p-value:                  0.009346\n",
       "===============================================================================================\n",
       "                                  coef    std err          z      P>|z|      [0.025      0.975]\n",
       "-----------------------------------------------------------------------------------------------\n",
       "recent_pain                    -0.1273      0.358     -0.356      0.722      -0.829       0.575\n",
       "assoc_trauma                   -0.3217      0.686     -0.469      0.639      -1.667       1.023\n",
       "nerve_injury_history           -0.1123      0.490     -0.229      0.819      -1.073       0.849\n",
       "X4                             -0.1901      0.710     -0.268      0.789      -1.583       1.202\n",
       "disp_pain                       0.2406      0.575      0.419      0.675      -0.886       1.367\n",
       "intermitt                       0.4741      0.628      0.754      0.451      -0.758       1.706\n",
       "burning                        -0.4856      0.324     -1.499      0.134      -1.120       0.149\n",
       "localised                       0.4030      0.450      0.895      0.371      -0.479       1.285\n",
       "referred                       -1.3163      0.548     -2.403      0.016      -2.390      -0.243\n",
       "widespread                      0.4200      0.737      0.570      0.569      -1.024       1.864\n",
       "mech_nature                    -0.7832      0.731     -1.071      0.284      -2.217       0.650\n",
       "mech_movement                   0.5276      0.576      0.916      0.360      -0.601       1.656\n",
       "disproportionate               -0.2898      0.993     -0.292      0.770      -2.237       1.657\n",
       "spont                           0.3987      0.330      1.209      0.226      -0.247       1.045\n",
       "dyesthesias                     0.3414      0.383      0.891      0.373      -0.409       1.092\n",
       "high_sev                       -0.1793      0.520     -0.345      0.730      -1.199       0.840\n",
       "neurological_symp               0.4615      0.393      1.175      0.240      -0.308       1.231\n",
       "night_pain                     -0.2097      0.272     -0.771      0.441      -0.743       0.324\n",
       "NSAIDS                         -0.8056      0.273     -2.952      0.003      -1.340      -0.271\n",
       "rapid_resolve                   0.4156      0.354      1.173      0.241      -0.279       1.110\n",
       "pain_persist                   -0.1492      0.367     -0.407      0.684      -0.868       0.569\n",
       "history_failed                  1.0118      0.336      3.013      0.003       0.354       1.670\n",
       "psychosocial                   -0.2151      0.543     -0.396      0.692      -1.280       0.850\n",
       "functional                      0.1087      0.400      0.272      0.786      -0.674       0.892\n",
       "Antalgic                       -0.1766      0.338     -0.523      0.601      -0.839       0.486\n",
       "Consistent                      0.1808      0.560      0.323      0.747      -0.917       1.278\n",
       "compress_neural_tissue          0.0039      0.437      0.009      0.993      -0.852       0.860\n",
       "non_mechanical                 -1.2281      0.842     -1.459      0.145      -2.878       0.422\n",
       "pos_neurological                0.0227      0.462      0.049      0.961      -0.883       0.929\n",
       "local_palpation                -0.2144      0.338     -0.635      0.526      -0.876       0.448\n",
       "Diffuse                         0.0837      0.647      0.129      0.897      -1.184       1.351\n",
       "allodynia                      -0.7981      0.663     -1.204      0.229      -2.097       0.501\n",
       "hyperalgesia                   -0.0250      0.319     -0.078      0.938      -0.650       0.600\n",
       "hyperpathia                     0.8050      0.333      2.417      0.016       0.152       1.458\n",
       "palpation_neural_tissues       -0.4319      0.397     -1.088      0.276      -1.210       0.346\n",
       "identification_psychosocial    -0.5296      0.511     -1.037      0.300      -1.531       0.472\n",
       "assignedlabels                 -0.9793      0.905     -1.083      0.279      -2.752       0.794\n",
       "===============================================================================================\n",
       "\"\"\""
      ]
     },
     "execution_count": 172,
     "metadata": {},
     "output_type": "execute_result"
    }
   ],
   "source": [
    "result.summary()"
   ]
  },
  {
   "cell_type": "code",
   "execution_count": 206,
   "metadata": {},
   "outputs": [
    {
     "data": {
      "text/html": [
       "<table class=\"simpletable\">\n",
       "<tr>\n",
       "        <td>Model:</td>              <td>Logit</td>      <td>Pseudo R-squared:</td>   <td>0.118</td>  \n",
       "</tr>\n",
       "<tr>\n",
       "  <td>Dependent Variable:</td>         <td>y</td>              <td>AIC:</td>        <td>513.7870</td> \n",
       "</tr>\n",
       "<tr>\n",
       "         <td>Date:</td>        <td>2020-06-09 16:25</td>       <td>BIC:</td>        <td>666.9628</td> \n",
       "</tr>\n",
       "<tr>\n",
       "   <td>No. Observations:</td>         <td>464</td>        <td>Log-Likelihood:</td>   <td>-219.89</td> \n",
       "</tr>\n",
       "<tr>\n",
       "       <td>Df Model:</td>             <td>36</td>            <td>LL-Null:</td>       <td>-249.35</td> \n",
       "</tr>\n",
       "<tr>\n",
       "     <td>Df Residuals:</td>           <td>427</td>         <td>LLR p-value:</td>    <td>0.0093457</td>\n",
       "</tr>\n",
       "<tr>\n",
       "      <td>Converged:</td>           <td>1.0000</td>           <td>Scale:</td>        <td>1.0000</td>  \n",
       "</tr>\n",
       "<tr>\n",
       "    <td>No. Iterations:</td>        <td>7.0000</td>              <td></td>              <td></td>     \n",
       "</tr>\n",
       "</table>\n",
       "<table class=\"simpletable\">\n",
       "<tr>\n",
       "               <td></td>                <th>Coef.</th>  <th>Std.Err.</th>    <th>z</th>     <th>P>|z|</th> <th>[0.025</th>  <th>0.975]</th> \n",
       "</tr>\n",
       "<tr>\n",
       "  <th>recent_pain</th>                 <td>-0.1273</td>  <td>0.3582</td>  <td>-0.3555</td> <td>0.7222</td> <td>-0.8294</td> <td>0.5747</td> \n",
       "</tr>\n",
       "<tr>\n",
       "  <th>assoc_trauma</th>                <td>-0.3217</td>  <td>0.6862</td>  <td>-0.4688</td> <td>0.6392</td> <td>-1.6666</td> <td>1.0232</td> \n",
       "</tr>\n",
       "<tr>\n",
       "  <th>nerve_injury_history</th>        <td>-0.1123</td>  <td>0.4903</td>  <td>-0.2290</td> <td>0.8188</td> <td>-1.0733</td> <td>0.8487</td> \n",
       "</tr>\n",
       "<tr>\n",
       "  <th>X4</th>                          <td>-0.1901</td>  <td>0.7105</td>  <td>-0.2675</td> <td>0.7891</td> <td>-1.5826</td> <td>1.2024</td> \n",
       "</tr>\n",
       "<tr>\n",
       "  <th>disp_pain</th>                   <td>0.2406</td>   <td>0.5746</td>  <td>0.4188</td>  <td>0.6754</td> <td>-0.8856</td> <td>1.3669</td> \n",
       "</tr>\n",
       "<tr>\n",
       "  <th>intermitt</th>                   <td>0.4741</td>   <td>0.6285</td>  <td>0.7544</td>  <td>0.4506</td> <td>-0.7577</td> <td>1.7059</td> \n",
       "</tr>\n",
       "<tr>\n",
       "  <th>burning</th>                     <td>-0.4856</td>  <td>0.3239</td>  <td>-1.4993</td> <td>0.1338</td> <td>-1.1204</td> <td>0.1492</td> \n",
       "</tr>\n",
       "<tr>\n",
       "  <th>localised</th>                   <td>0.4030</td>   <td>0.4500</td>  <td>0.8954</td>  <td>0.3706</td> <td>-0.4791</td> <td>1.2850</td> \n",
       "</tr>\n",
       "<tr>\n",
       "  <th>referred</th>                    <td>-1.3163</td>  <td>0.5477</td>  <td>-2.4033</td> <td>0.0162</td> <td>-2.3898</td> <td>-0.2428</td>\n",
       "</tr>\n",
       "<tr>\n",
       "  <th>widespread</th>                  <td>0.4200</td>   <td>0.7369</td>  <td>0.5700</td>  <td>0.5687</td> <td>-1.0242</td> <td>1.8643</td> \n",
       "</tr>\n",
       "<tr>\n",
       "  <th>mech_nature</th>                 <td>-0.7832</td>  <td>0.7314</td>  <td>-1.0708</td> <td>0.2843</td> <td>-2.2167</td> <td>0.6503</td> \n",
       "</tr>\n",
       "<tr>\n",
       "  <th>mech_movement</th>               <td>0.5276</td>   <td>0.5759</td>  <td>0.9161</td>  <td>0.3596</td> <td>-0.6011</td> <td>1.6563</td> \n",
       "</tr>\n",
       "<tr>\n",
       "  <th>disproportionate</th>            <td>-0.2898</td>  <td>0.9932</td>  <td>-0.2918</td> <td>0.7704</td> <td>-2.2365</td> <td>1.6569</td> \n",
       "</tr>\n",
       "<tr>\n",
       "  <th>spont</th>                       <td>0.3987</td>   <td>0.3296</td>  <td>1.2094</td>  <td>0.2265</td> <td>-0.2474</td> <td>1.0447</td> \n",
       "</tr>\n",
       "<tr>\n",
       "  <th>dyesthesias</th>                 <td>0.3414</td>   <td>0.3831</td>  <td>0.8911</td>  <td>0.3729</td> <td>-0.4095</td> <td>1.0922</td> \n",
       "</tr>\n",
       "<tr>\n",
       "  <th>high_sev</th>                    <td>-0.1793</td>  <td>0.5203</td>  <td>-0.3446</td> <td>0.7304</td> <td>-1.1990</td> <td>0.8404</td> \n",
       "</tr>\n",
       "<tr>\n",
       "  <th>neurological_symp</th>           <td>0.4615</td>   <td>0.3929</td>  <td>1.1747</td>  <td>0.2401</td> <td>-0.3085</td> <td>1.2315</td> \n",
       "</tr>\n",
       "<tr>\n",
       "  <th>night_pain</th>                  <td>-0.2097</td>  <td>0.2721</td>  <td>-0.7706</td> <td>0.4409</td> <td>-0.7430</td> <td>0.3236</td> \n",
       "</tr>\n",
       "<tr>\n",
       "  <th>NSAIDS</th>                      <td>-0.8056</td>  <td>0.2729</td>  <td>-2.9523</td> <td>0.0032</td> <td>-1.3404</td> <td>-0.2708</td>\n",
       "</tr>\n",
       "<tr>\n",
       "  <th>rapid_resolve</th>               <td>0.4156</td>   <td>0.3544</td>  <td>1.1727</td>  <td>0.2409</td> <td>-0.2790</td> <td>1.1103</td> \n",
       "</tr>\n",
       "<tr>\n",
       "  <th>pain_persist</th>                <td>-0.1492</td>  <td>0.3666</td>  <td>-0.4070</td> <td>0.6840</td> <td>-0.8677</td> <td>0.5693</td> \n",
       "</tr>\n",
       "<tr>\n",
       "  <th>history_failed</th>              <td>1.0118</td>   <td>0.3359</td>  <td>3.0127</td>  <td>0.0026</td> <td>0.3536</td>  <td>1.6701</td> \n",
       "</tr>\n",
       "<tr>\n",
       "  <th>psychosocial</th>                <td>-0.2151</td>  <td>0.5433</td>  <td>-0.3959</td> <td>0.6922</td> <td>-1.2800</td> <td>0.8498</td> \n",
       "</tr>\n",
       "<tr>\n",
       "  <th>functional</th>                  <td>0.1087</td>   <td>0.3995</td>  <td>0.2720</td>  <td>0.7857</td> <td>-0.6744</td> <td>0.8917</td> \n",
       "</tr>\n",
       "<tr>\n",
       "  <th>Antalgic</th>                    <td>-0.1766</td>  <td>0.3379</td>  <td>-0.5226</td> <td>0.6013</td> <td>-0.8390</td> <td>0.4858</td> \n",
       "</tr>\n",
       "<tr>\n",
       "  <th>Consistent</th>                  <td>0.1808</td>   <td>0.5600</td>  <td>0.3228</td>  <td>0.7468</td> <td>-0.9168</td> <td>1.2783</td> \n",
       "</tr>\n",
       "<tr>\n",
       "  <th>compress_neural_tissue</th>      <td>0.0039</td>   <td>0.4369</td>  <td>0.0089</td>  <td>0.9929</td> <td>-0.8525</td> <td>0.8603</td> \n",
       "</tr>\n",
       "<tr>\n",
       "  <th>non_mechanical</th>              <td>-1.2281</td>  <td>0.8418</td>  <td>-1.4588</td> <td>0.1446</td> <td>-2.8780</td> <td>0.4219</td> \n",
       "</tr>\n",
       "<tr>\n",
       "  <th>pos_neurological</th>            <td>0.0227</td>   <td>0.4623</td>  <td>0.0491</td>  <td>0.9609</td> <td>-0.8834</td> <td>0.9287</td> \n",
       "</tr>\n",
       "<tr>\n",
       "  <th>local_palpation</th>             <td>-0.2144</td>  <td>0.3377</td>  <td>-0.6348</td> <td>0.5256</td> <td>-0.8763</td> <td>0.4476</td> \n",
       "</tr>\n",
       "<tr>\n",
       "  <th>Diffuse</th>                     <td>0.0837</td>   <td>0.6468</td>  <td>0.1294</td>  <td>0.8971</td> <td>-1.1840</td> <td>1.3514</td> \n",
       "</tr>\n",
       "<tr>\n",
       "  <th>allodynia</th>                   <td>-0.7981</td>  <td>0.6629</td>  <td>-1.2040</td> <td>0.2286</td> <td>-2.0973</td> <td>0.5011</td> \n",
       "</tr>\n",
       "<tr>\n",
       "  <th>hyperalgesia</th>                <td>-0.0250</td>  <td>0.3191</td>  <td>-0.0784</td> <td>0.9375</td> <td>-0.6504</td> <td>0.6003</td> \n",
       "</tr>\n",
       "<tr>\n",
       "  <th>hyperpathia</th>                 <td>0.8050</td>   <td>0.3331</td>  <td>2.4169</td>  <td>0.0157</td> <td>0.1522</td>  <td>1.4579</td> \n",
       "</tr>\n",
       "<tr>\n",
       "  <th>palpation_neural_tissues</th>    <td>-0.4319</td>  <td>0.3969</td>  <td>-1.0882</td> <td>0.2765</td> <td>-1.2099</td> <td>0.3460</td> \n",
       "</tr>\n",
       "<tr>\n",
       "  <th>identification_psychosocial</th> <td>-0.5296</td>  <td>0.5109</td>  <td>-1.0366</td> <td>0.2999</td> <td>-1.5309</td> <td>0.4717</td> \n",
       "</tr>\n",
       "<tr>\n",
       "  <th>assignedlabels</th>              <td>-0.9793</td>  <td>0.9046</td>  <td>-1.0826</td> <td>0.2790</td> <td>-2.7523</td> <td>0.7937</td> \n",
       "</tr>\n",
       "</table>"
      ],
      "text/plain": [
       "<class 'statsmodels.iolib.summary2.Summary'>\n",
       "\"\"\"\n",
       "                              Results: Logit\n",
       "===========================================================================\n",
       "Model:                   Logit               Pseudo R-squared:    0.118    \n",
       "Dependent Variable:      y                   AIC:                 513.7870 \n",
       "Date:                    2020-06-09 16:25    BIC:                 666.9628 \n",
       "No. Observations:        464                 Log-Likelihood:      -219.89  \n",
       "Df Model:                36                  LL-Null:             -249.35  \n",
       "Df Residuals:            427                 LLR p-value:         0.0093457\n",
       "Converged:               1.0000              Scale:               1.0000   \n",
       "No. Iterations:          7.0000                                            \n",
       "---------------------------------------------------------------------------\n",
       "                             Coef.  Std.Err.    z    P>|z|   [0.025  0.975]\n",
       "---------------------------------------------------------------------------\n",
       "recent_pain                 -0.1273   0.3582 -0.3555 0.7222 -0.8294  0.5747\n",
       "assoc_trauma                -0.3217   0.6862 -0.4688 0.6392 -1.6666  1.0232\n",
       "nerve_injury_history        -0.1123   0.4903 -0.2290 0.8188 -1.0733  0.8487\n",
       "X4                          -0.1901   0.7105 -0.2675 0.7891 -1.5826  1.2024\n",
       "disp_pain                    0.2406   0.5746  0.4188 0.6754 -0.8856  1.3669\n",
       "intermitt                    0.4741   0.6285  0.7544 0.4506 -0.7577  1.7059\n",
       "burning                     -0.4856   0.3239 -1.4993 0.1338 -1.1204  0.1492\n",
       "localised                    0.4030   0.4500  0.8954 0.3706 -0.4791  1.2850\n",
       "referred                    -1.3163   0.5477 -2.4033 0.0162 -2.3898 -0.2428\n",
       "widespread                   0.4200   0.7369  0.5700 0.5687 -1.0242  1.8643\n",
       "mech_nature                 -0.7832   0.7314 -1.0708 0.2843 -2.2167  0.6503\n",
       "mech_movement                0.5276   0.5759  0.9161 0.3596 -0.6011  1.6563\n",
       "disproportionate            -0.2898   0.9932 -0.2918 0.7704 -2.2365  1.6569\n",
       "spont                        0.3987   0.3296  1.2094 0.2265 -0.2474  1.0447\n",
       "dyesthesias                  0.3414   0.3831  0.8911 0.3729 -0.4095  1.0922\n",
       "high_sev                    -0.1793   0.5203 -0.3446 0.7304 -1.1990  0.8404\n",
       "neurological_symp            0.4615   0.3929  1.1747 0.2401 -0.3085  1.2315\n",
       "night_pain                  -0.2097   0.2721 -0.7706 0.4409 -0.7430  0.3236\n",
       "NSAIDS                      -0.8056   0.2729 -2.9523 0.0032 -1.3404 -0.2708\n",
       "rapid_resolve                0.4156   0.3544  1.1727 0.2409 -0.2790  1.1103\n",
       "pain_persist                -0.1492   0.3666 -0.4070 0.6840 -0.8677  0.5693\n",
       "history_failed               1.0118   0.3359  3.0127 0.0026  0.3536  1.6701\n",
       "psychosocial                -0.2151   0.5433 -0.3959 0.6922 -1.2800  0.8498\n",
       "functional                   0.1087   0.3995  0.2720 0.7857 -0.6744  0.8917\n",
       "Antalgic                    -0.1766   0.3379 -0.5226 0.6013 -0.8390  0.4858\n",
       "Consistent                   0.1808   0.5600  0.3228 0.7468 -0.9168  1.2783\n",
       "compress_neural_tissue       0.0039   0.4369  0.0089 0.9929 -0.8525  0.8603\n",
       "non_mechanical              -1.2281   0.8418 -1.4588 0.1446 -2.8780  0.4219\n",
       "pos_neurological             0.0227   0.4623  0.0491 0.9609 -0.8834  0.9287\n",
       "local_palpation             -0.2144   0.3377 -0.6348 0.5256 -0.8763  0.4476\n",
       "Diffuse                      0.0837   0.6468  0.1294 0.8971 -1.1840  1.3514\n",
       "allodynia                   -0.7981   0.6629 -1.2040 0.2286 -2.0973  0.5011\n",
       "hyperalgesia                -0.0250   0.3191 -0.0784 0.9375 -0.6504  0.6003\n",
       "hyperpathia                  0.8050   0.3331  2.4169 0.0157  0.1522  1.4579\n",
       "palpation_neural_tissues    -0.4319   0.3969 -1.0882 0.2765 -1.2099  0.3460\n",
       "identification_psychosocial -0.5296   0.5109 -1.0366 0.2999 -1.5309  0.4717\n",
       "assignedlabels              -0.9793   0.9046 -1.0826 0.2790 -2.7523  0.7937\n",
       "===========================================================================\n",
       "\n",
       "\"\"\""
      ]
     },
     "execution_count": 206,
     "metadata": {},
     "output_type": "execute_result"
    }
   ],
   "source": [
    "result.summary2()"
   ]
  },
  {
   "cell_type": "code",
   "execution_count": 209,
   "metadata": {},
   "outputs": [
    {
     "name": "stdout",
     "output_type": "stream",
     "text": [
      "recent_pain                    0.880429\n",
      "assoc_trauma                   0.724919\n",
      "nerve_injury_history           0.893773\n",
      "X4                             0.826889\n",
      "disp_pain                      1.272072\n",
      "intermitt                      1.606559\n",
      "burning                        0.615331\n",
      "localised                      1.496254\n",
      "referred                       0.268119\n",
      "widespread                     1.521984\n",
      "mech_nature                    0.456940\n",
      "mech_movement                  1.694819\n",
      "disproportionate               0.748388\n",
      "spont                          1.489850\n",
      "dyesthesias                    1.406857\n",
      "high_sev                       0.835860\n",
      "neurological_symp              1.586438\n",
      "night_pain                     0.810841\n",
      "NSAIDS                         0.446840\n",
      "rapid_resolve                  1.515312\n",
      "pain_persist                   0.861405\n",
      "history_failed                 2.750638\n",
      "psychosocial                   0.806439\n",
      "functional                     1.114775\n",
      "Antalgic                       0.838115\n",
      "Consistent                     1.198135\n",
      "compress_neural_tissue         1.003889\n",
      "non_mechanical                 0.292859\n",
      "pos_neurological               1.022939\n",
      "local_palpation                0.807036\n",
      "Diffuse                        1.087285\n",
      "allodynia                      0.450179\n",
      "hyperalgesia                   0.975294\n",
      "hyperpathia                    2.236794\n",
      "palpation_neural_tissues       0.649253\n",
      "identification_psychosocial    0.588848\n",
      "assignedlabels                 0.375572\n",
      "dtype: float64\n"
     ]
    }
   ],
   "source": [
    "# Odd ratio\n",
    "\n",
    "print (np.exp(result.params))\n"
   ]
  },
  {
   "cell_type": "code",
   "execution_count": 211,
   "metadata": {},
   "outputs": [
    {
     "name": "stdout",
     "output_type": "stream",
     "text": [
      "                                 2.5%     97.5%        OR\n",
      "recent_pain                  0.436329  1.776537  0.880429\n",
      "assoc_trauma                 0.188889  2.782093  0.724919\n",
      "nerve_injury_history         0.341874  2.336626  0.893773\n",
      "X4                           0.205439  3.328209  0.826889\n",
      "disp_pain                    0.412448  3.923328  1.272072\n",
      "intermitt                    0.468744  5.506271  1.606559\n",
      "burning                      0.326157  1.160889  0.615331\n",
      "localised                    0.619348  3.614734  1.496254\n",
      "referred                     0.091646  0.784406  0.268119\n",
      "widespread                   0.359071  6.451189  1.521984\n",
      "mech_nature                  0.108964  1.916166  0.456940\n",
      "mech_movement                0.548207  5.239644  1.694819\n",
      "disproportionate             0.106828  5.242848  0.748388\n",
      "spont                        0.780830  2.842683  1.489850\n",
      "dyesthesias                  0.664009  2.980753  1.406857\n",
      "high_sev                     0.301500  2.317286  0.835860\n",
      "neurological_symp            0.734560  3.426251  1.586438\n",
      "night_pain                   0.475686  1.382136  0.810841\n",
      "NSAIDS                       0.261754  0.762801  0.446840\n",
      "rapid_resolve                0.756519  3.035178  1.515312\n",
      "pain_persist                 0.419915  1.767069  0.861405\n",
      "history_failed               1.424145  5.312668  2.750638\n",
      "psychosocial                 0.278024  2.339164  0.806439\n",
      "functional                   0.509470  2.439247  1.114775\n",
      "Antalgic                     0.432162  1.625403  0.838115\n",
      "Consistent                   0.399792  3.590687  1.198135\n",
      "compress_neural_tissue       0.426349  2.363772  1.003889\n",
      "non_mechanical               0.056246  1.524843  0.292859\n",
      "pos_neurological             0.413394  2.531252  1.022939\n",
      "local_palpation              0.416303  1.564502  0.807036\n",
      "Diffuse                      0.306046  3.862785  1.087285\n",
      "allodynia                    0.122788  1.650496  0.450179\n",
      "hyperalgesia                 0.521854  1.822729  0.975294\n",
      "hyperpathia                  1.164379  4.296924  2.236794\n",
      "palpation_neural_tissues     0.298240  1.413387  0.649253\n",
      "identification_psychosocial  0.216347  1.602710  0.588848\n",
      "assignedlabels               0.063782  2.211518  0.375572\n"
     ]
    }
   ],
   "source": [
    "params = result.params\n",
    "conf = result.conf_int()\n",
    "conf['OR'] = params\n",
    "conf.columns = ['2.5%', '97.5%', 'OR']\n",
    "print (np.exp(conf))"
   ]
  },
  {
   "cell_type": "code",
   "execution_count": 214,
   "metadata": {},
   "outputs": [],
   "source": [
    "from sklearn.feature_selection import SelectKBest, chi2\n",
    "from sklearn.feature_selection import f_classif\n"
   ]
  },
  {
   "cell_type": "code",
   "execution_count": 215,
   "metadata": {},
   "outputs": [],
   "source": [
    "xnew2=SelectKBest(f_classif, k=10).fit_transform(X, Y)"
   ]
  },
  {
   "cell_type": "code",
   "execution_count": 218,
   "metadata": {},
   "outputs": [
    {
     "name": "stdout",
     "output_type": "stream",
     "text": [
      "                       features   F_Scores\n",
      "22               non_mechanical  10.646603\n",
      "29               assignedlabels  10.541983\n",
      "6                     localised  10.268316\n",
      "28  identification_psychosocial  10.258806\n",
      "20                   Consistent  10.048693\n",
      "17                 psychosocial   9.627931\n",
      "12                     high_sev   9.248639\n",
      "9                   mech_nature   8.793569\n",
      "11             disproportionate   8.022631\n",
      "13                   night_pain   7.677206\n",
      "0                  assoc_trauma   7.014080\n",
      "3                     disp_pain   6.467290\n",
      "18                   functional   5.831287\n",
      "19                     Antalgic   5.587336\n",
      "2                            X4   5.192397\n",
      "4                     intermitt   5.184921\n",
      "25                    allodynia   4.675997\n",
      "5                       burning   4.551525\n",
      "7                      referred   4.546455\n",
      "24                      Diffuse   4.521120\n",
      "14                rapid_resolve   4.309974\n",
      "15                 pain_persist   3.252743\n",
      "27     palpation_neural_tissues   3.025721\n",
      "23              local_palpation   3.012353\n",
      "8                    widespread   2.978350\n",
      "1          nerve_injury_history   1.818096\n",
      "26                  hyperpathia   1.412707\n",
      "21       compress_neural_tissue   0.815144\n",
      "16               history_failed   0.704284\n",
      "10                mech_movement   0.689437\n"
     ]
    }
   ],
   "source": [
    " import sklearn.feature_selection as fs\n",
    " import matplotlib.pyplot as plt\n",
    " df2 = fs.SelectKBest(k=30)\n",
    "\n",
    " df2.fit(X,Y)\n",
    "\n",
    " names = X.columns.values[df2.get_support()]\n",
    "\n",
    " scores = df2.scores_[df2.get_support()]\n",
    "\n",
    " names_scores = list(zip(names, scores))\n",
    "\n",
    " ns_df = pd.DataFrame(data = names_scores, columns=\n",
    "\n",
    "  ['features','F_Scores'])\n",
    "\n",
    " ns_df_sorted = ns_df.sort_values(['F_Scores','features'], ascending =\n",
    "\n",
    "  [False, True])\n",
    "\n",
    " print(ns_df_sorted)"
   ]
  },
  {
   "cell_type": "code",
   "execution_count": null,
   "metadata": {},
   "outputs": [],
   "source": []
  }
 ],
 "metadata": {
  "accelerator": "GPU",
  "colab": {
   "name": "musculoskeletal pain.ipynb",
   "provenance": []
  },
  "kernelspec": {
   "display_name": "Python 3",
   "language": "python",
   "name": "python3"
  },
  "language_info": {
   "codemirror_mode": {
    "name": "ipython",
    "version": 3
   },
   "file_extension": ".py",
   "mimetype": "text/x-python",
   "name": "python",
   "nbconvert_exporter": "python",
   "pygments_lexer": "ipython3",
   "version": "3.8.3"
  }
 },
 "nbformat": 4,
 "nbformat_minor": 1
}
